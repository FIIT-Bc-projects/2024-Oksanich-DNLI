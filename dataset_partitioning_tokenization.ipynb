{
 "cells": [
  {
   "metadata": {},
   "cell_type": "markdown",
   "source": "# Partitioning and Tokenization Analysis",
   "id": "b4a211b3b869905c"
  },
  {
   "cell_type": "code",
   "id": "initial_id",
   "metadata": {
    "collapsed": true,
    "ExecuteTime": {
     "end_time": "2025-05-03T00:06:57.727693Z",
     "start_time": "2025-05-03T00:06:52.201146Z"
    }
   },
   "source": [
    "from collections import Counter\n",
    "from datasets import Dataset\n",
    "from flwr_datasets.partitioner import DirichletPartitioner, IidPartitioner, PathologicalPartitioner\n",
    "from flwr_datasets.visualization import plot_label_distributions\n",
    "from transformers import AutoTokenizer, PreTrainedTokenizer\n",
    "\n",
    "import matplotlib.pyplot as plt\n",
    "import numpy as np\n",
    "import pandas as pd\n",
    "import seaborn as sns"
   ],
   "outputs": [],
   "execution_count": 1
  },
  {
   "metadata": {
    "ExecuteTime": {
     "end_time": "2025-05-03T00:06:57.863256Z",
     "start_time": "2025-05-03T00:06:57.859268Z"
    }
   },
   "cell_type": "code",
   "source": "num_partitions = 4",
   "id": "492320fc060c8104",
   "outputs": [],
   "execution_count": 2
  },
  {
   "metadata": {},
   "cell_type": "markdown",
   "source": "## Data Preprocessing",
   "id": "847f51e964db380"
  },
  {
   "metadata": {
    "ExecuteTime": {
     "end_time": "2025-05-03T00:06:58.946538Z",
     "start_time": "2025-05-03T00:06:58.942303Z"
    }
   },
   "cell_type": "code",
   "source": [
    "label_mapping = {\n",
    "    \"negative\": 0,\n",
    "    \"neutral\": 1,\n",
    "    \"positive\": 2,\n",
    "}"
   ],
   "id": "402ce4112497a5f2",
   "outputs": [],
   "execution_count": 3
  },
  {
   "metadata": {
    "ExecuteTime": {
     "end_time": "2025-05-03T00:06:59.267029Z",
     "start_time": "2025-05-03T00:06:58.962929Z"
    }
   },
   "cell_type": "code",
   "source": "distilbert_tokenizer = AutoTokenizer.from_pretrained(\"distilbert-base-uncased\")",
   "id": "2777a477dbd19c28",
   "outputs": [],
   "execution_count": 4
  },
  {
   "metadata": {
    "ExecuteTime": {
     "end_time": "2025-05-03T00:06:59.289088Z",
     "start_time": "2025-05-03T00:06:59.284245Z"
    }
   },
   "cell_type": "code",
   "source": [
    "def preprocess_data(frame: pd.DataFrame) -> pd.DataFrame:\n",
    "    copied = (frame[[\"sentence\", \"gold_label\"]]\n",
    "              .rename(columns={\"sentence\": \"text\", \"gold_label\": \"label\"}))\n",
    "    copied = copied[copied.label != \"mixed\"].dropna()\n",
    "    copied[\"label\"] = copied[\"label\"].map(label_mapping)\n",
    "\n",
    "    return copied"
   ],
   "id": "6c8f95be0a7bb0b3",
   "outputs": [],
   "execution_count": 5
  },
  {
   "metadata": {
    "ExecuteTime": {
     "end_time": "2025-05-03T00:06:59.325868Z",
     "start_time": "2025-05-03T00:06:59.319869Z"
    }
   },
   "cell_type": "code",
   "source": [
    "def tokenize_data(ds: Dataset, tokenizer: PreTrainedTokenizer) -> Dataset:\n",
    "    copied = ds.map(\n",
    "        lambda s, tok: {\n",
    "            \"ids\": (encoded := tok(s[\"text\"], truncation=True, padding=True))[\"input_ids\"],\n",
    "            \"attention_mask\": encoded[\"attention_mask\"],\n",
    "        },\n",
    "        fn_kwargs={\"tok\": tokenizer},\n",
    "    )\n",
    "\n",
    "    return copied"
   ],
   "id": "e9d63e5354c41174",
   "outputs": [],
   "execution_count": 6
  },
  {
   "metadata": {
    "ExecuteTime": {
     "end_time": "2025-05-03T00:07:02.120046Z",
     "start_time": "2025-05-03T00:06:59.348595Z"
    }
   },
   "cell_type": "code",
   "source": [
    "training_data = (preprocess_data(pd.read_json(\"data/dynasent-v1.1-round01-yelp-train.jsonl\", lines=True))\n",
    "                 .head(47_800))\n",
    "\n",
    "validation_data = pd.concat([\n",
    "    preprocess_data(pd.read_json(\"data/dynasent-v1.1-round01-yelp-test.jsonl\", lines=True)),\n",
    "    preprocess_data(pd.read_json(\"data/dynasent-v1.1-round01-yelp-dev.jsonl\", lines=True)),\n",
    "], ignore_index=True).drop_duplicates()"
   ],
   "id": "154fbb7c9c99cd48",
   "outputs": [],
   "execution_count": 7
  },
  {
   "metadata": {
    "ExecuteTime": {
     "end_time": "2025-05-03T00:07:02.197194Z",
     "start_time": "2025-05-03T00:07:02.142681Z"
    }
   },
   "cell_type": "code",
   "source": [
    "training_dataset = Dataset.from_pandas(training_data, preserve_index=False)\n",
    "validation_dataset = Dataset.from_pandas(validation_data, preserve_index=False)"
   ],
   "id": "cd490462fdc77040",
   "outputs": [],
   "execution_count": 8
  },
  {
   "metadata": {
    "ExecuteTime": {
     "end_time": "2025-05-03T00:07:02.425901Z",
     "start_time": "2025-05-03T00:07:02.217729Z"
    }
   },
   "cell_type": "code",
   "source": [
    "label_counts = training_data[\"label\"].value_counts().sort_index()\n",
    "\n",
    "plt.figure(figsize=(7, 4))\n",
    "ax = sns.barplot(x=label_counts.values, y=label_counts.index, orient=\"h\", palette=[\"red\", \"blue\", \"green\"], hue=label_counts.index, legend=False)\n",
    "\n",
    "plt.xlabel(\"Count\")\n",
    "plt.ylabel(\"Class\")\n",
    "\n",
    "ax.set_yticks(range(len(label_mapping)))\n",
    "ax.set_yticklabels([{value: key for key, value in label_mapping.items()}[i] for i in sorted(label_mapping.values())])\n",
    "\n",
    "plt.tight_layout()\n",
    "plt.show()"
   ],
   "id": "5f31443182713ed2",
   "outputs": [
    {
     "data": {
      "text/plain": [
       "<Figure size 700x400 with 1 Axes>"
      ],
      "image/png": "[encoded data removed]"
     },
     "metadata": {},
     "output_type": "display_data"
    }
   ],
   "execution_count": 9
  },
  {
   "metadata": {
    "ExecuteTime": {
     "end_time": "2025-05-03T00:07:07.516172Z",
     "start_time": "2025-05-03T00:07:07.355733Z"
    }
   },
   "cell_type": "code",
   "source": [
    "label_counts = validation_data[\"label\"].value_counts().sort_index()\n",
    "\n",
    "plt.figure(figsize=(7, 4))\n",
    "ax = sns.barplot(x=label_counts.values, y=label_counts.index, orient=\"h\", palette=[\"red\", \"blue\", \"green\"], hue=label_counts.index, legend=False)\n",
    "\n",
    "plt.xlabel(\"Count\")\n",
    "plt.ylabel(\"Class\")\n",
    "\n",
    "ax.set_yticks(range(len(label_mapping)))\n",
    "ax.set_yticklabels([{value: key for key, value in label_mapping.items()}[i] for i in sorted(label_mapping.values())])\n",
    "\n",
    "plt.tight_layout()\n",
    "plt.show()"
   ],
   "id": "5cd5505b44f81b1a",
   "outputs": [
    {
     "data": {
      "text/plain": [
       "<Figure size 700x400 with 1 Axes>"
      ],
      "image/png": "[encoded data removed]"
     },
     "metadata": {},
     "output_type": "display_data"
    }
   ],
   "execution_count": 10
  },
  {
   "metadata": {},
   "cell_type": "markdown",
   "source": [
    "## Partitioning\n",
    "### IID Partitioner"
   ],
   "id": "f45a8e0aeb304467"
  },
  {
   "metadata": {
    "ExecuteTime": {
     "end_time": "2025-04-28T21:15:30.356032Z",
     "start_time": "2025-04-28T21:15:30.351894Z"
    }
   },
   "cell_type": "code",
   "source": [
    "iid_partitioner = IidPartitioner(num_partitions=num_partitions)\n",
    "iid_partitioner.dataset = training_dataset"
   ],
   "id": "345e77fca9543e5b",
   "outputs": [],
   "execution_count": 44
  },
  {
   "metadata": {
    "ExecuteTime": {
     "end_time": "2025-04-28T21:17:04.226631Z",
     "start_time": "2025-04-28T21:17:03.832220Z"
    }
   },
   "cell_type": "code",
   "source": [
    "fig, ax, df = plot_label_distributions(\n",
    "    iid_partitioner,\n",
    "    label_name=\"label\",\n",
    "    plot_type=\"bar\",\n",
    "    size_unit=\"absolute\",\n",
    "    partition_id_axis=\"x\",\n",
    "    legend=True,\n",
    "    title=\"Label Distribution Per Partition\",\n",
    ")"
   ],
   "id": "42da0117c534e11",
   "outputs": [
    {
     "name": "stderr",
     "output_type": "stream",
     "text": [
      "C:\\Users\\ileuk\\IdeaProjects\\2024-Oksanich-NLI-VFL\\venv\\Lib\\site-packages\\flwr_datasets\\metrics\\utils.py:130: UserWarning: The verbose names can not be established. The column specified by 'column_name' needs to be of type 'ClassLabel' to create a verbose names. The available names will used.\n",
      "  warnings.warn(\n"
     ]
    },
    {
     "data": {
      "text/plain": [
       "<Figure size 640x480 with 1 Axes>"
      ],
      "image/png": "[encoded data removed]"
     },
     "metadata": {},
     "output_type": "display_data"
    }
   ],
   "execution_count": 49
  },
  {
   "metadata": {},
   "cell_type": "code",
   "source": [
    "for i in range(num_partitions):\n",
    "    partition = iid_partitioner.load_partition(i)\n",
    "    partition_df = partition.to_pandas()\n",
    "    partition_df.to_json(f\"data/partitions/iid_partition_{i}.jsonl\", lines=True, orient=\"records\")"
   ],
   "id": "b18cbbc62bfcb003",
   "outputs": [],
   "execution_count": null
  },
  {
   "metadata": {},
   "cell_type": "markdown",
   "source": "### Dirichlet Partitioner",
   "id": "95788b19f8bb762f"
  },
  {
   "metadata": {
    "ExecuteTime": {
     "end_time": "2025-04-09T13:38:23.033949Z",
     "start_time": "2025-04-09T13:38:23.026950Z"
    }
   },
   "cell_type": "code",
   "source": [
    "dirichlet_partitioner = DirichletPartitioner(num_partitions=num_partitions, alpha=2.0, partition_by=\"label\")\n",
    "dirichlet_partitioner.dataset = training_dataset"
   ],
   "id": "d976e6d590523796",
   "outputs": [],
   "execution_count": 31
  },
  {
   "metadata": {
    "ExecuteTime": {
     "end_time": "2025-04-09T13:38:24.832921Z",
     "start_time": "2025-04-09T13:38:23.160475Z"
    }
   },
   "cell_type": "code",
   "source": [
    "fig, ax, df = plot_label_distributions(\n",
    "    dirichlet_partitioner,\n",
    "    label_name=\"label\",\n",
    "    plot_type=\"bar\",\n",
    "    size_unit=\"absolute\",\n",
    "    partition_id_axis=\"x\",\n",
    "    legend=True,\n",
    "    verbose_labels=False,\n",
    "    title=\"Label Distribution Per Partition\",\n",
    ")"
   ],
   "id": "4f8b5c6d4b2c769d",
   "outputs": [
    {
     "data": {
      "text/plain": [
       "<Figure size 640x480 with 1 Axes>"
      ],
      "image/png": "[encoded data removed]"
     },
     "metadata": {},
     "output_type": "display_data"
    }
   ],
   "execution_count": 32
  },
  {
   "metadata": {},
   "cell_type": "code",
   "source": [
    "for i in range(num_partitions):\n",
    "    partition = dirichlet_partitioner.load_partition(i)\n",
    "    partition_df = partition.to_pandas()\n",
    "    partition_df.to_json(f\"data/partitions/dirichlet_partition_{i}.jsonl\", lines=True, orient=\"records\")"
   ],
   "id": "e9ed6bc36fdf7a3b",
   "outputs": [],
   "execution_count": null
  },
  {
   "metadata": {},
   "cell_type": "markdown",
   "source": "### Dirichlet Partitioner (Self-Balancing)",
   "id": "df16e7081875ce8e"
  },
  {
   "metadata": {
    "ExecuteTime": {
     "end_time": "2025-04-28T21:17:19.723706Z",
     "start_time": "2025-04-28T21:17:19.719323Z"
    }
   },
   "cell_type": "code",
   "source": [
    "dirichlet_partitioner_balanced = DirichletPartitioner(num_partitions=num_partitions, alpha=2.0, partition_by=\"label\", self_balancing=True)\n",
    "dirichlet_partitioner_balanced.dataset = training_dataset"
   ],
   "id": "2624a7228f98d210",
   "outputs": [],
   "execution_count": 50
  },
  {
   "metadata": {
    "ExecuteTime": {
     "end_time": "2025-04-28T21:17:20.728848Z",
     "start_time": "2025-04-28T21:17:20.078536Z"
    }
   },
   "cell_type": "code",
   "source": [
    "fig, ax, df = plot_label_distributions(\n",
    "    dirichlet_partitioner_balanced,\n",
    "    label_name=\"label\",\n",
    "    plot_type=\"bar\",\n",
    "    size_unit=\"absolute\",\n",
    "    partition_id_axis=\"x\",\n",
    "    legend=True,\n",
    "    verbose_labels=False,\n",
    "    title=\"Label Distribution Per Partition\",\n",
    ")"
   ],
   "id": "66e82df5c14f9da4",
   "outputs": [
    {
     "data": {
      "text/plain": [
       "<Figure size 640x480 with 1 Axes>"
      ],
      "image/png": "[encoded data removed]"
     },
     "metadata": {},
     "output_type": "display_data"
    }
   ],
   "execution_count": 51
  },
  {
   "metadata": {
    "ExecuteTime": {
     "end_time": "2025-04-09T13:42:33.691795Z",
     "start_time": "2025-04-09T13:42:32.999840Z"
    }
   },
   "cell_type": "code",
   "source": [
    "for i in range(num_partitions):\n",
    "    partition = dirichlet_partitioner_balanced.load_partition(i)\n",
    "    partition_df = partition.to_pandas()\n",
    "    partition_df.to_json(f\"data/partitions/balanced_dirichlet_partition_{i}.jsonl\", lines=True, orient=\"records\")"
   ],
   "id": "d7592910251b838d",
   "outputs": [],
   "execution_count": 55
  },
  {
   "metadata": {},
   "cell_type": "markdown",
   "source": "### Pathological Partitioner (First Deterministic)",
   "id": "a11c21eeeb9614ba"
  },
  {
   "metadata": {
    "ExecuteTime": {
     "end_time": "2025-04-03T16:30:14.361083Z",
     "start_time": "2025-04-03T16:30:14.356205Z"
    }
   },
   "cell_type": "code",
   "source": [
    "path_partitioner = PathologicalPartitioner(\n",
    "    num_partitions=num_partitions,\n",
    "    partition_by=\"label\",\n",
    "    num_classes_per_partition=3,\n",
    "    class_assignment_mode=\"first-deterministic\"\n",
    ")\n",
    "path_partitioner.dataset = training_dataset"
   ],
   "id": "856609d93f1566b8",
   "outputs": [],
   "execution_count": 15
  },
  {
   "metadata": {
    "ExecuteTime": {
     "end_time": "2025-04-03T16:30:16.858606Z",
     "start_time": "2025-04-03T16:30:14.382806Z"
    }
   },
   "cell_type": "code",
   "source": [
    "fig, ax, df = plot_label_distributions(\n",
    "    path_partitioner,\n",
    "    label_name=\"label\",\n",
    "    plot_type=\"bar\",\n",
    "    size_unit=\"absolute\",\n",
    "    partition_id_axis=\"x\",\n",
    "    legend=True,\n",
    "    verbose_labels=False,\n",
    "    title=\"Label Distribution Per Partition\",\n",
    ")"
   ],
   "id": "8e159f5c1c55aaa4",
   "outputs": [
    {
     "data": {
      "text/plain": [
       "<Figure size 640x480 with 1 Axes>"
      ],
      "image/png": "[encoded data removed]"
     },
     "metadata": {},
     "output_type": "display_data"
    }
   ],
   "execution_count": 16
  },
  {
   "metadata": {},
   "cell_type": "code",
   "source": [
    "for i in range(num_partitions):\n",
    "    partition = path_partitioner.load_partition(i)\n",
    "    partition_df = partition.to_pandas()\n",
    "    partition_df.to_json(f\"data/partitions/pathological_partition_{i}.jsonl\", lines=True, orient=\"records\")"
   ],
   "id": "7de13ed5d555dc6a",
   "outputs": [],
   "execution_count": null
  },
  {
   "metadata": {},
   "cell_type": "markdown",
   "source": "### Pathological Partitioner (Deterministic)",
   "id": "d805b0bd43dac74f"
  },
  {
   "metadata": {
    "ExecuteTime": {
     "end_time": "2025-04-03T16:30:16.890156Z",
     "start_time": "2025-04-03T16:30:16.885151Z"
    }
   },
   "cell_type": "code",
   "source": [
    "path_partitioner_deter = PathologicalPartitioner(\n",
    "    num_partitions=num_partitions,\n",
    "    partition_by=\"label\",\n",
    "    num_classes_per_partition=3,\n",
    "    class_assignment_mode=\"deterministic\"\n",
    ")\n",
    "path_partitioner_deter.dataset = training_dataset"
   ],
   "id": "a3abc91c94542fb5",
   "outputs": [],
   "execution_count": 17
  },
  {
   "metadata": {
    "ExecuteTime": {
     "end_time": "2025-04-03T16:30:19.577867Z",
     "start_time": "2025-04-03T16:30:16.911971Z"
    }
   },
   "cell_type": "code",
   "source": [
    "fig, ax, df = plot_label_distributions(\n",
    "    path_partitioner_deter,\n",
    "    label_name=\"label\",\n",
    "    plot_type=\"bar\",\n",
    "    size_unit=\"absolute\",\n",
    "    partition_id_axis=\"x\",\n",
    "    legend=True,\n",
    "    verbose_labels=False,\n",
    "    title=\"Label Distribution Per Partition\",\n",
    ")"
   ],
   "id": "300daeb92550c813",
   "outputs": [
    {
     "data": {
      "text/plain": [
       "<Figure size 640x480 with 1 Axes>"
      ],
      "image/png": "[encoded data removed]"
     },
     "metadata": {},
     "output_type": "display_data"
    }
   ],
   "execution_count": 18
  },
  {
   "metadata": {},
   "cell_type": "code",
   "source": [
    "for i in range(num_partitions):\n",
    "    partition = path_partitioner_deter.load_partition(i)\n",
    "    partition_df = partition.to_pandas()\n",
    "    partition_df.to_json(f\"data/partitions/deter_pathological_partition_{i}.jsonl\", lines=True, orient=\"records\")"
   ],
   "id": "8e29344228950b2a",
   "outputs": [],
   "execution_count": null
  },
  {
   "metadata": {},
   "cell_type": "markdown",
   "source": "## Tokenization Analysis",
   "id": "17bb0061ee92488"
  },
  {
   "metadata": {
    "ExecuteTime": {
     "end_time": "2025-04-28T21:09:50.045212Z",
     "start_time": "2025-04-28T21:09:40.649154Z"
    }
   },
   "cell_type": "code",
   "source": [
    "tokenized_train = tokenize_data(training_dataset, distilbert_tokenizer)\n",
    "tokenized_validation = tokenize_data(validation_dataset, distilbert_tokenizer)"
   ],
   "id": "501ca84dd1c1c642",
   "outputs": [
    {
     "data": {
      "text/plain": [
       "Map:   0%|          | 0/47800 [00:00<?, ? examples/s]"
      ],
      "application/vnd.jupyter.widget-view+json": {
       "version_major": 2,
       "version_minor": 0,
       "model_id": "206e33fe7f6249fba1e38434119a7127"
      }
     },
     "metadata": {},
     "output_type": "display_data"
    },
    {
     "data": {
      "text/plain": [
       "Map:   0%|          | 0/7200 [00:00<?, ? examples/s]"
      ],
      "application/vnd.jupyter.widget-view+json": {
       "version_major": 2,
       "version_minor": 0,
       "model_id": "b8794991313642faba332b8f9619f4b2"
      }
     },
     "metadata": {},
     "output_type": "display_data"
    }
   ],
   "execution_count": 31
  },
  {
   "metadata": {
    "ExecuteTime": {
     "end_time": "2025-04-28T21:09:55.887562Z",
     "start_time": "2025-04-28T21:09:55.815431Z"
    }
   },
   "cell_type": "code",
   "source": "token_count = tokenized_train.to_pandas()[\"ids\"].map(lambda x: len(x))",
   "id": "4f938a2a485a209d",
   "outputs": [],
   "execution_count": 32
  },
  {
   "metadata": {
    "ExecuteTime": {
     "end_time": "2025-04-28T21:09:56.371879Z",
     "start_time": "2025-04-28T21:09:56.358748Z"
    }
   },
   "cell_type": "code",
   "source": "token_count.describe()",
   "id": "5d6a5227cd097b3",
   "outputs": [
    {
     "data": {
      "text/plain": [
       "count    47800.000000\n",
       "mean        18.624874\n",
       "std         10.870517\n",
       "min          3.000000\n",
       "25%         11.000000\n",
       "50%         17.000000\n",
       "75%         23.000000\n",
       "max        512.000000\n",
       "Name: ids, dtype: float64"
      ]
     },
     "execution_count": 33,
     "metadata": {},
     "output_type": "execute_result"
    }
   ],
   "execution_count": 33
  },
  {
   "metadata": {
    "ExecuteTime": {
     "end_time": "2025-04-28T21:09:57.902507Z",
     "start_time": "2025-04-28T21:09:57.788595Z"
    }
   },
   "cell_type": "code",
   "source": [
    "all_tokens = np.concatenate(tokenized_train.to_pandas()[\"ids\"].values)\n",
    "unique_tokens = np.unique(all_tokens)"
   ],
   "id": "476598b2fe6d9982",
   "outputs": [],
   "execution_count": 34
  },
  {
   "metadata": {
    "ExecuteTime": {
     "end_time": "2025-04-28T21:09:59.160033Z",
     "start_time": "2025-04-28T21:09:59.154519Z"
    }
   },
   "cell_type": "code",
   "source": "len(unique_tokens)",
   "id": "ecae70035beb8666",
   "outputs": [
    {
     "data": {
      "text/plain": [
       "15694"
      ]
     },
     "execution_count": 35,
     "metadata": {},
     "output_type": "execute_result"
    }
   ],
   "execution_count": 35
  },
  {
   "metadata": {
    "ExecuteTime": {
     "end_time": "2025-04-28T21:09:59.890613Z",
     "start_time": "2025-04-28T21:09:59.740596Z"
    }
   },
   "cell_type": "code",
   "source": [
    "token_counter = Counter(all_tokens)\n",
    "common_tokens = token_counter.most_common(100)"
   ],
   "id": "e4320968d2d8c52b",
   "outputs": [],
   "execution_count": 36
  },
  {
   "metadata": {
    "ExecuteTime": {
     "end_time": "2025-04-28T21:10:00.373679Z",
     "start_time": "2025-04-28T21:10:00.361558Z"
    }
   },
   "cell_type": "code",
   "source": "[(token_id, distilbert_tokenizer.decode(token_id), n) for token_id, n in common_tokens]",
   "id": "a9612a9eb5efd58e",
   "outputs": [
    {
     "data": {
      "text/plain": [
       "[(1012, '.', 48873),\n",
       " (101, '[CLS]', 47800),\n",
       " (102, '[SEP]', 47800),\n",
       " (1996, 'the', 28463),\n",
       " (1045, 'i', 23111),\n",
       " (1998, 'and', 19095),\n",
       " (1010, ',', 18174),\n",
       " (1037, 'a', 18071),\n",
       " (2000, 'to', 17955),\n",
       " (1005, \"'\", 12081),\n",
       " (2001, 'was', 9480),\n",
       " (2009, 'it', 8869),\n",
       " (1997, 'of', 8811),\n",
       " (2005, 'for', 8691),\n",
       " (1999, 'in', 8338),\n",
       " (2026, 'my', 7870),\n",
       " (2057, 'we', 6809),\n",
       " (2008, 'that', 6165),\n",
       " (999, '!', 5498),\n",
       " (2017, 'you', 5411),\n",
       " (2003, 'is', 5368),\n",
       " (2006, 'on', 5320),\n",
       " (2007, 'with', 5148),\n",
       " (2027, 'they', 4885),\n",
       " (2023, 'this', 4694),\n",
       " (1056, 't', 4442),\n",
       " (2018, 'had', 4114),\n",
       " (2031, 'have', 4109),\n",
       " (2012, 'at', 3931),\n",
       " (1055, 's', 3799),\n",
       " (1011, '-', 3711),\n",
       " (2061, 'so', 3551),\n",
       " (2025, 'not', 3533),\n",
       " (2015, '##s', 3284),\n",
       " (2021, 'but', 3259),\n",
       " (2033, 'me', 2970),\n",
       " (1000, '\"', 2889),\n",
       " (2045, 'there', 2867),\n",
       " (2020, 'were', 2813),\n",
       " (2022, 'be', 2697),\n",
       " (2041, 'out', 2654),\n",
       " (2004, 'as', 2482),\n",
       " (1007, ')', 2480),\n",
       " (2065, 'if', 2468),\n",
       " (1006, '(', 2389),\n",
       " (2024, 'are', 2329),\n",
       " (2131, 'get', 2231),\n",
       " (2051, 'time', 2218),\n",
       " (2256, 'our', 2199),\n",
       " (2013, 'from', 2134),\n",
       " (2035, 'all', 2111),\n",
       " (2039, 'up', 2108),\n",
       " (2173, 'place', 2075),\n",
       " (2182, 'here', 2063),\n",
       " (2028, 'one', 2063),\n",
       " (2074, 'just', 2046),\n",
       " (2066, 'like', 2006),\n",
       " (2019, 'an', 1958),\n",
       " (2043, 'when', 1915),\n",
       " (2002, 'he', 1909),\n",
       " (2833, 'food', 1833),\n",
       " (1002, '$', 1823),\n",
       " (2052, 'would', 1796),\n",
       " (1029, '?', 1787),\n",
       " (2055, 'about', 1780),\n",
       " (2030, 'or', 1746),\n",
       " (2175, 'go', 1656),\n",
       " (2064, 'can', 1599),\n",
       " (2253, 'went', 1576),\n",
       " (2054, 'what', 1560),\n",
       " (2053, 'no', 1544),\n",
       " (2042, 'been', 1536),\n",
       " (2115, 'your', 1461),\n",
       " (2037, 'their', 1453),\n",
       " (2016, 'she', 1452),\n",
       " (2204, 'good', 1446),\n",
       " (2069, 'only', 1433),\n",
       " (3641, 'ordered', 1429),\n",
       " (2068, 'them', 1401),\n",
       " (2123, 'don', 1377),\n",
       " (2138, 'because', 1377),\n",
       " (2011, 'by', 1354),\n",
       " (2288, 'got', 1331),\n",
       " (2044, 'after', 1331),\n",
       " (2079, 'do', 1271),\n",
       " (2070, 'some', 1266),\n",
       " (1024, ':', 1257),\n",
       " (2310, 've', 1255),\n",
       " (2034, 'first', 1240),\n",
       " (2149, 'us', 1230),\n",
       " (2067, 'back', 1212),\n",
       " (2200, 'very', 1200),\n",
       " (2060, 'other', 1183),\n",
       " (1013, '/', 1172),\n",
       " (2234, 'came', 1144),\n",
       " (1049, 'm', 1129),\n",
       " (2029, 'which', 1129),\n",
       " (2062, 'more', 1105),\n",
       " (2097, 'will', 1082),\n",
       " (2344, 'order', 1062)]"
      ]
     },
     "execution_count": 37,
     "metadata": {},
     "output_type": "execute_result"
    }
   ],
   "execution_count": 37
  },
  {
   "metadata": {
    "ExecuteTime": {
     "end_time": "2025-04-28T21:10:00.850332Z",
     "start_time": "2025-04-28T21:10:00.829214Z"
    }
   },
   "cell_type": "code",
   "source": [
    "vocab = distilbert_tokenizer.get_vocab()\n",
    "total_vocab_size = len(vocab)"
   ],
   "id": "f89bb057daf44a03",
   "outputs": [],
   "execution_count": 38
  },
  {
   "metadata": {
    "ExecuteTime": {
     "end_time": "2025-04-28T21:10:01.816569Z",
     "start_time": "2025-04-28T21:10:01.811176Z"
    }
   },
   "cell_type": "code",
   "source": [
    "coverage = len(unique_tokens) / total_vocab_size * 100\n",
    "print(f\"Vocabulary coverage: {coverage:.2f}%\")"
   ],
   "id": "970355ce3d3f15ac",
   "outputs": [
    {
     "name": "stdout",
     "output_type": "stream",
     "text": [
      "Vocabulary coverage: 51.42%\n"
     ]
    }
   ],
   "execution_count": 39
  },
  {
   "metadata": {
    "ExecuteTime": {
     "end_time": "2025-04-28T21:10:02.787973Z",
     "start_time": "2025-04-28T21:10:02.782372Z"
    }
   },
   "cell_type": "code",
   "source": [
    "unknown_tokens = np.count_nonzero(all_tokens == distilbert_tokenizer.unk_token_id)\n",
    "print(f\"Unknown tokens: {unknown_tokens}, {unknown_tokens / len(all_tokens) * 100:.2f}%\")"
   ],
   "id": "e098a16bee4f80f6",
   "outputs": [
    {
     "name": "stdout",
     "output_type": "stream",
     "text": [
      "Unknown tokens: 480, 0.05%\n"
     ]
    }
   ],
   "execution_count": 40
  },
  {
   "metadata": {},
   "cell_type": "markdown",
   "source": "### Validation Dataset Tokenization",
   "id": "ceafac8e4ec3430d"
  },
  {
   "metadata": {
    "ExecuteTime": {
     "end_time": "2025-04-28T21:10:21.696943Z",
     "start_time": "2025-04-28T21:10:21.673877Z"
    }
   },
   "cell_type": "code",
   "source": [
    "validation_tokens = np.concatenate(tokenized_validation.to_pandas()[\"ids\"].values)\n",
    "unique_validation_tokens = np.unique(validation_tokens)"
   ],
   "id": "420538ac54a29d1",
   "outputs": [],
   "execution_count": 41
  },
  {
   "metadata": {
    "ExecuteTime": {
     "end_time": "2025-04-28T21:10:22.113608Z",
     "start_time": "2025-04-28T21:10:22.107595Z"
    }
   },
   "cell_type": "code",
   "source": "len(unique_validation_tokens)",
   "id": "3e5cc68a9244f342",
   "outputs": [
    {
     "data": {
      "text/plain": [
       "8253"
      ]
     },
     "execution_count": 42,
     "metadata": {},
     "output_type": "execute_result"
    }
   ],
   "execution_count": 42
  },
  {
   "metadata": {
    "ExecuteTime": {
     "end_time": "2025-04-03T16:30:49.741597Z",
     "start_time": "2025-04-03T16:30:49.719071Z"
    }
   },
   "cell_type": "code",
   "source": "tokenized_validation.to_pandas()[\"ids\"].map(lambda x: len(x)).describe()",
   "id": "648bae4a87d717dd",
   "outputs": [
    {
     "data": {
      "text/plain": [
       "count    7200.000000\n",
       "mean       19.277639\n",
       "std        10.286249\n",
       "min         4.000000\n",
       "25%        12.000000\n",
       "50%        17.000000\n",
       "75%        24.000000\n",
       "max       126.000000\n",
       "Name: ids, dtype: float64"
      ]
     },
     "execution_count": 30,
     "metadata": {},
     "output_type": "execute_result"
    }
   ],
   "execution_count": 30
  },
  {
   "metadata": {
    "ExecuteTime": {
     "end_time": "2025-04-03T16:30:52.580037Z",
     "start_time": "2025-04-03T16:30:52.575039Z"
    }
   },
   "cell_type": "code",
   "source": "validation_specific_tokens = np.setdiff1d(unique_validation_tokens, unique_tokens)",
   "id": "a0bcf8932b9295ba",
   "outputs": [],
   "execution_count": 31
  },
  {
   "metadata": {
    "ExecuteTime": {
     "end_time": "2025-04-03T16:30:54.099078Z",
     "start_time": "2025-04-03T16:30:54.093720Z"
    }
   },
   "cell_type": "code",
   "source": "len(validation_specific_tokens)",
   "id": "bcd62d233a9e991f",
   "outputs": [
    {
     "data": {
      "text/plain": [
       "552"
      ]
     },
     "execution_count": 32,
     "metadata": {},
     "output_type": "execute_result"
    }
   ],
   "execution_count": 32
  },
  {
   "metadata": {
    "ExecuteTime": {
     "end_time": "2025-04-03T16:30:56.291349Z",
     "start_time": "2025-04-03T16:30:56.287365Z"
    }
   },
   "cell_type": "code",
   "source": [
    "token_counter = Counter(validation_specific_tokens)\n",
    "common_tokens = token_counter.most_common(100)"
   ],
   "id": "f5c8845ed349fd78",
   "outputs": [],
   "execution_count": 33
  },
  {
   "metadata": {
    "ExecuteTime": {
     "end_time": "2025-04-03T16:31:00.214770Z",
     "start_time": "2025-04-03T16:31:00.202694Z"
    }
   },
   "cell_type": "code",
   "source": "[(token_id, distilbert_tokenizer.decode(token_id), n) for token_id, n in common_tokens]",
   "id": "87ae5f25b74e02b0",
   "outputs": [
    {
     "data": {
      "text/plain": [
       "[(2837, 'committee', 1),\n",
       " (2914, 'academy', 1),\n",
       " (2982, 'awards', 1),\n",
       " (3187, 'secretary', 1),\n",
       " (3285, '1972', 1),\n",
       " (3339, '1975', 1),\n",
       " (3364, 'actor', 1),\n",
       " (3418, 'ancient', 1),\n",
       " (3729, 'cd', 1),\n",
       " (3840, 'corporation', 1),\n",
       " (3883, 'actress', 1),\n",
       " (3922, 'appearances', 1),\n",
       " (3928, 'powerful', 1),\n",
       " (4329, 'revolution', 1),\n",
       " (4423, 'expanded', 1),\n",
       " (4517, 'nuclear', 1),\n",
       " (4849, '1925', 1),\n",
       " (5000, 'knight', 1),\n",
       " (5037, 'turkish', 1),\n",
       " (5125, 'victor', 1),\n",
       " (5135, 'minnesota', 1),\n",
       " (5406, 'frederick', 1),\n",
       " (5424, 'arab', 1),\n",
       " (5496, 'accused', 1),\n",
       " (5912, 'nelson', 1),\n",
       " (5919, 'aspects', 1),\n",
       " (6145, 'engineers', 1),\n",
       " (6348, 'rhythm', 1),\n",
       " (6349, 'initiative', 1),\n",
       " (6364, 'processing', 1),\n",
       " (6428, 'stronger', 1),\n",
       " (6552, 'habitat', 1),\n",
       " (6569, 'joy', 1),\n",
       " (6579, 'animated', 1),\n",
       " (6768, 'delhi', 1),\n",
       " (7100, '##hill', 1),\n",
       " (7142, 'continuous', 1),\n",
       " (7203, 'illustrated', 1),\n",
       " (7236, 'categories', 1),\n",
       " (7268, 'collective', 1),\n",
       " (7271, 'publicly', 1),\n",
       " (7272, 'wealthy', 1),\n",
       " (7296, 'gregory', 1),\n",
       " (7346, 'bridges', 1),\n",
       " (7371, 'tightly', 1),\n",
       " (7404, 'terror', 1),\n",
       " (7412, 'skull', 1),\n",
       " (7445, 'jacques', 1),\n",
       " (7686, 'reflected', 1),\n",
       " (7813, 'beetle', 1),\n",
       " (7821, 'crosses', 1),\n",
       " (7857, 'merit', 1),\n",
       " (7918, 'adrian', 1),\n",
       " (7943, 'resumed', 1),\n",
       " (7945, 'rider', 1),\n",
       " (7981, 'caroline', 1),\n",
       " (7991, 'commanding', 1),\n",
       " (8002, '##sley', 1),\n",
       " (8047, 'defended', 1),\n",
       " (8099, 'hughes', 1),\n",
       " (8160, 'architects', 1),\n",
       " (8228, 'renowned', 1),\n",
       " (8286, '##bus', 1),\n",
       " (8347, 'preservation', 1),\n",
       " (8350, 'pirates', 1),\n",
       " (8371, 'tightened', 1),\n",
       " (8418, 'xi', 1),\n",
       " (8431, 'rebels', 1),\n",
       " (8465, 'consequences', 1),\n",
       " (8562, 'humor', 1),\n",
       " (8573, 'roosevelt', 1),\n",
       " (8699, 'neutral', 1),\n",
       " (8755, 'sofia', 1),\n",
       " (8760, 'sustained', 1),\n",
       " (8925, 'bailey', 1),\n",
       " (8951, 'citing', 1),\n",
       " (9068, 'citizenship', 1),\n",
       " (9070, 'wilhelm', 1),\n",
       " (9124, 'enabled', 1),\n",
       " (9188, 'dubbed', 1),\n",
       " (9302, 'palestinian', 1),\n",
       " (9396, 'harmony', 1),\n",
       " (9407, '##ncy', 1),\n",
       " (9418, 'discovers', 1),\n",
       " (9549, 'convoy', 1),\n",
       " (9615, 'ethics', 1),\n",
       " (9618, 'molly', 1),\n",
       " (9622, 'marines', 1),\n",
       " (9624, 'hunters', 1),\n",
       " (9663, 'slope', 1),\n",
       " (9678, 'luther', 1),\n",
       " (9754, 'mineral', 1),\n",
       " (9947, 'poison', 1),\n",
       " (9958, 'attract', 1),\n",
       " (9997, 'spike', 1),\n",
       " (10072, 'vegetation', 1),\n",
       " (10152, 'concentrate', 1),\n",
       " (10229, 'learns', 1),\n",
       " (10331, 'ussr', 1),\n",
       " (10397, 'remembering', 1)]"
      ]
     },
     "execution_count": 34,
     "metadata": {},
     "output_type": "execute_result"
    }
   ],
   "execution_count": 34
  },
  {
   "metadata": {
    "ExecuteTime": {
     "end_time": "2025-04-28T21:11:00.033069Z",
     "start_time": "2025-04-28T21:11:00.027030Z"
    }
   },
   "cell_type": "code",
   "source": [
    "coverage = len(unique_validation_tokens) / total_vocab_size * 100\n",
    "print(f\"Vocabulary coverage: {coverage:.2f}%\")"
   ],
   "id": "8bff347a3c08e89b",
   "outputs": [
    {
     "name": "stdout",
     "output_type": "stream",
     "text": [
      "Vocabulary coverage: 27.04%\n"
     ]
    }
   ],
   "execution_count": 43
  },
  {
   "metadata": {
    "ExecuteTime": {
     "end_time": "2025-04-03T16:31:03.099596Z",
     "start_time": "2025-04-03T16:31:03.094345Z"
    }
   },
   "cell_type": "code",
   "source": [
    "unknown_tokens = np.count_nonzero(validation_tokens == distilbert_tokenizer.unk_token_id)\n",
    "print(f\"Unknown tokens: {unknown_tokens}, {unknown_tokens / len(validation_tokens) * 100:.2f}%\")"
   ],
   "id": "22bab62fb00f4f29",
   "outputs": [
    {
     "name": "stdout",
     "output_type": "stream",
     "text": [
      "Unknown tokens: 0, 0.00%\n"
     ]
    }
   ],
   "execution_count": 35
  }
 ],
 "metadata": {
  "kernelspec": {
   "display_name": "Python 3",
   "language": "python",
   "name": "python3"
  },
  "language_info": {
   "codemirror_mode": {
    "name": "ipython",
    "version": 2
   },
   "file_extension": ".py",
   "mimetype": "text/x-python",
   "name": "python",
   "nbconvert_exporter": "python",
   "pygments_lexer": "ipython2",
   "version": "2.7.6"
  }
 },
 "nbformat": 4,
 "nbformat_minor": 5
}
