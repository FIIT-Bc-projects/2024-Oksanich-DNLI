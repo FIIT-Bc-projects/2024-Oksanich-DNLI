{
 "cells": [
  {
   "cell_type": "markdown",
   "metadata": {},
   "source": [
    "## Imports"
   ]
  },
  {
   "cell_type": "code",
   "execution_count": 3,
   "metadata": {
    "ExecuteTime": {
     "end_time": "2024-10-17T21:47:36.634895Z",
     "start_time": "2024-10-17T21:47:35.908558Z"
    }
   },
   "outputs": [],
   "source": [
    "import json\n",
    "import matplotlib.pyplot as plt\n",
    "import numpy as np\n",
    "import os\n",
    "import pandas as pd\n",
    "\n",
    "import torch\n",
    "import torch.nn as nn\n",
    "\n",
    "import tqdm\n",
    "\n",
    "from datasets import Dataset\n",
    "\n",
    "from sklearn.metrics import accuracy_score, precision_score, recall_score\n",
    "\n",
    "from torch.utils.data import DataLoader\n",
    "\n",
    "from transformers import AutoModel, AutoTokenizer, PreTrainedTokenizer"
   ]
  },
  {
   "cell_type": "markdown",
   "metadata": {},
   "source": [
    "## Data preprocessing"
   ]
  },
  {
   "cell_type": "code",
   "execution_count": 4,
   "metadata": {
    "ExecuteTime": {
     "end_time": "2024-10-17T21:17:00.168980Z",
     "start_time": "2024-10-17T21:17:00.157976Z"
    }
   },
   "outputs": [],
   "source": [
    "label_mapping = {\n",
    "    \"negative\": 0,\n",
    "    \"neutral\": 1,\n",
    "    \"positive\": 2,\n",
    "}"
   ]
  },
  {
   "cell_type": "code",
   "execution_count": 5,
   "metadata": {},
   "outputs": [],
   "source": [
    "num_partitions = 4"
   ]
  },
  {
   "cell_type": "code",
   "execution_count": 6,
   "metadata": {},
   "outputs": [],
   "source": [
    "distilbert_tokenizer = AutoTokenizer.from_pretrained(\"distilbert-base-uncased\")"
   ]
  },
  {
   "cell_type": "code",
   "execution_count": 7,
   "metadata": {},
   "outputs": [],
   "source": [
    "def preprocess_data(df: pd.DataFrame) -> pd.DataFrame:\n",
    "    copied = df[[\"sentence\", \"gold_label\"]].rename(columns={\"sentence\": \"text\", \"gold_label\": \"label\"})\n",
    "    copied = copied[copied.label != \"mixed\"].dropna()\n",
    "    copied[\"label\"] = copied[\"label\"].map(label_mapping)\n",
    "\n",
    "    return copied"
   ]
  },
  {
   "cell_type": "code",
   "execution_count": 8,
   "metadata": {},
   "outputs": [],
   "source": [
    "def tokenize_data(ds: Dataset, tokenizer: PreTrainedTokenizer) -> pd.DataFrame:\n",
    "    copied = ds.map(\n",
    "        lambda s, tok: {\n",
    "            \"ids\": (encoded := tok(s[\"text\"], truncation=True, padding=True))[\"input_ids\"],\n",
    "            \"attention_mask\": encoded[\"attention_mask\"],\n",
    "        },\n",
    "        fn_kwargs={\"tok\": tokenizer},\n",
    "    )\n",
    "\n",
    "    return copied"
   ]
  },
  {
   "cell_type": "code",
   "execution_count": 9,
   "metadata": {},
   "outputs": [],
   "source": [
    "training_data = [pd.read_json(f\"data/partitions/iid_partition_{i}.jsonl\", lines=True) for i in range(num_partitions)]\n",
    "validation_data = pd.concat([\n",
    "    preprocess_data(pd.read_json(\"data/dynasent-v1.1-round01-yelp-test.jsonl\", lines=True)),\n",
    "    preprocess_data(pd.read_json(\"data/dynasent-v1.1-round01-yelp-dev.jsonl\", lines=True)),\n",
    "], ignore_index=True).drop_duplicates()"
   ]
  },
  {
   "cell_type": "code",
   "execution_count": 10,
   "metadata": {},
   "outputs": [
    {
     "data": {
      "application/vnd.jupyter.widget-view+json": {
       "model_id": "233e5a6fd2c940ee9960417a2a89de9a",
       "version_major": 2,
       "version_minor": 0
      },
      "text/plain": [
       "Map:   0%|          | 0/11950 [00:00<?, ? examples/s]"
      ]
     },
     "metadata": {},
     "output_type": "display_data"
    },
    {
     "data": {
      "application/vnd.jupyter.widget-view+json": {
       "model_id": "725dc6ee0e194d5ea06a9e875b5f0f63",
       "version_major": 2,
       "version_minor": 0
      },
      "text/plain": [
       "Map:   0%|          | 0/11950 [00:00<?, ? examples/s]"
      ]
     },
     "metadata": {},
     "output_type": "display_data"
    },
    {
     "data": {
      "application/vnd.jupyter.widget-view+json": {
       "model_id": "6253c9916bb44ff08eca6ab2b0e1b30f",
       "version_major": 2,
       "version_minor": 0
      },
      "text/plain": [
       "Map:   0%|          | 0/11950 [00:00<?, ? examples/s]"
      ]
     },
     "metadata": {},
     "output_type": "display_data"
    },
    {
     "data": {
      "application/vnd.jupyter.widget-view+json": {
       "model_id": "ab9053ef1a384d50bb3ad45b589ff1d2",
       "version_major": 2,
       "version_minor": 0
      },
      "text/plain": [
       "Map:   0%|          | 0/11950 [00:00<?, ? examples/s]"
      ]
     },
     "metadata": {},
     "output_type": "display_data"
    },
    {
     "data": {
      "application/vnd.jupyter.widget-view+json": {
       "model_id": "dd0ec3ae02a24faca5f5ef4d56b5b241",
       "version_major": 2,
       "version_minor": 0
      },
      "text/plain": [
       "Map:   0%|          | 0/7200 [00:00<?, ? examples/s]"
      ]
     },
     "metadata": {},
     "output_type": "display_data"
    }
   ],
   "source": [
    "training_ds = [tokenize_data(Dataset.from_pandas(df, preserve_index=False), distilbert_tokenizer) for df in training_data]\n",
    "validation_ds = tokenize_data(Dataset.from_pandas(validation_data, preserve_index=False), distilbert_tokenizer)"
   ]
  },
  {
   "cell_type": "code",
   "execution_count": 11,
   "metadata": {
    "ExecuteTime": {
     "end_time": "2024-10-17T21:24:40.005598Z",
     "start_time": "2024-10-17T21:23:57.018099Z"
    }
   },
   "outputs": [],
   "source": [
    "training_ds = [ds.with_format(type=\"torch\", columns=[\"ids\", \"label\", \"attention_mask\"]) for ds in training_ds]\n",
    "validation_ds = validation_ds.with_format(type=\"torch\", columns=[\"ids\", \"label\", \"attention_mask\"])"
   ]
  },
  {
   "cell_type": "code",
   "execution_count": 12,
   "metadata": {
    "ExecuteTime": {
     "end_time": "2024-10-16T14:45:20.178640Z",
     "start_time": "2024-10-16T14:45:20.169742Z"
    },
    "colab": {
     "base_uri": "https://localhost:8080/"
    },
    "outputId": "f10b649f-3cee-4e86-c7ff-94bd1fd3e082"
   },
   "outputs": [],
   "source": [
    "def get_data_loader(dataset: Dataset, batch_size: int, pad_index, shuffle=False) -> DataLoader:\n",
    "    def collate_fn(batch):\n",
    "        batch_ids = nn.utils.rnn.pad_sequence([i[\"ids\"] for i in batch], padding_value=pad_index, batch_first=True)\n",
    "        batch_label = torch.stack([i[\"label\"] for i in batch])\n",
    "        batch_mask = nn.utils.rnn.pad_sequence([i[\"attention_mask\"] for i in batch], padding_value=pad_index, batch_first=True)\n",
    "        \n",
    "        return {\n",
    "            \"ids\": batch_ids,\n",
    "            \"label\": batch_label,\n",
    "            \"attention_mask\": batch_mask,\n",
    "        }\n",
    "    \n",
    "    dl = DataLoader(\n",
    "        dataset=dataset,\n",
    "        batch_size=batch_size,\n",
    "        collate_fn=collate_fn,\n",
    "        shuffle=shuffle\n",
    "    )\n",
    "    \n",
    "    return dl"
   ]
  },
  {
   "cell_type": "code",
   "execution_count": 13,
   "metadata": {
    "ExecuteTime": {
     "end_time": "2024-10-16T14:45:20.178640Z",
     "start_time": "2024-10-16T14:45:20.169742Z"
    },
    "colab": {
     "base_uri": "https://localhost:8080/"
    },
    "outputId": "f10b649f-3cee-4e86-c7ff-94bd1fd3e082"
   },
   "outputs": [],
   "source": [
    "training_dl = [get_data_loader(ds, 32, distilbert_tokenizer.pad_token_id, shuffle=True) for ds in training_ds]\n",
    "validation_dl = get_data_loader(validation_ds, 32, distilbert_tokenizer.pad_token_id)"
   ]
  },
  {
   "cell_type": "markdown",
   "metadata": {},
   "source": [
    "## Model definition"
   ]
  },
  {
   "cell_type": "code",
   "execution_count": 14,
   "metadata": {
    "ExecuteTime": {
     "end_time": "2024-10-16T14:50:57.230181Z",
     "start_time": "2024-10-16T14:50:57.223058Z"
    }
   },
   "outputs": [],
   "source": [
    "class Transformer(nn.Module):\n",
    "    def __init__(self, transformer, num_classes: int, freeze: bool):\n",
    "        super().__init__()\n",
    "        \n",
    "        self.transformer = transformer\n",
    "        self.fc = nn.Linear(transformer.config.hidden_size, num_classes)\n",
    "        self.dropout = nn.Dropout(0.3)\n",
    "        \n",
    "        if freeze:\n",
    "            for param in self.transformer.parameters():\n",
    "                param.requires_grad = False\n",
    "\n",
    "    \n",
    "    def forward(self, ids: torch.Tensor, attention_mask: torch.Tensor) -> tuple[torch.Tensor, torch.Tensor]:\n",
    "        output = self.transformer(ids, attention_mask=attention_mask, output_attentions=True)\n",
    "        pooled_mean = torch.mean(output.last_hidden_state, dim=1)\n",
    "        cls_hidden = self.dropout(pooled_mean)\n",
    "        prediction = self.fc(cls_hidden)\n",
    "\n",
    "        return prediction, output.attentions"
   ]
  },
  {
   "cell_type": "code",
   "execution_count": 15,
   "metadata": {},
   "outputs": [],
   "source": [
    "distilbert_tf = AutoModel.from_pretrained(\"distilbert-base-uncased\", attn_implementation=\"eager\")\n",
    "\n",
    "model = Transformer(distilbert_tf, num_classes=3, freeze=False)"
   ]
  },
  {
   "cell_type": "markdown",
   "metadata": {},
   "source": [
    "## Loading from backup\n",
    "### Checkpoint loading"
   ]
  },
  {
   "cell_type": "code",
   "execution_count": 16,
   "metadata": {},
   "outputs": [],
   "source": [
    "r = 8"
   ]
  },
  {
   "cell_type": "code",
   "execution_count": null,
   "metadata": {},
   "outputs": [],
   "source": [
    "initial_state_dict = model.state_dict()"
   ]
  },
  {
   "cell_type": "code",
   "execution_count": null,
   "metadata": {},
   "outputs": [],
   "source": "checkpoint = torch.load(f\"model/iid/fedavg_r{r - 1}.pth\")"
  },
  {
   "cell_type": "code",
   "execution_count": null,
   "metadata": {},
   "outputs": [],
   "source": [
    "initial_state_dict = checkpoint[\"model_state_dict\"]"
   ]
  },
  {
   "cell_type": "code",
   "execution_count": null,
   "metadata": {},
   "outputs": [],
   "source": [
    "model.load_state_dict(initial_state_dict)"
   ]
  },
  {
   "cell_type": "markdown",
   "metadata": {},
   "source": [
    "## Model configuration"
   ]
  },
  {
   "cell_type": "code",
   "execution_count": null,
   "metadata": {},
   "outputs": [],
   "source": [
    "num_parameters = sum(value.numel() for value in model.state_dict().values())\n",
    "print(f\"{num_parameters = }\")"
   ]
  },
  {
   "cell_type": "code",
   "execution_count": null,
   "metadata": {
    "ExecuteTime": {
     "end_time": "2024-10-16T14:51:11.813641Z",
     "start_time": "2024-10-16T14:51:10.449494Z"
    },
    "colab": {
     "base_uri": "https://localhost:8080/"
    },
    "outputId": "67d01ab4-cdd9-4661-8f01-eaa9aabf786d"
   },
   "outputs": [],
   "source": [
    "criterion = torch.nn.CrossEntropyLoss()\n",
    "device = torch.device(\"cuda\" if torch.cuda.is_available() else \"cpu\")\n",
    "\n",
    "model = model.to(device)\n",
    "criterion = criterion.to(device)"
   ]
  },
  {
   "cell_type": "code",
   "execution_count": null,
   "metadata": {
    "ExecuteTime": {
     "end_time": "2024-10-16T14:51:11.813641Z",
     "start_time": "2024-10-16T14:51:10.449494Z"
    },
    "colab": {
     "base_uri": "https://localhost:8080/"
    },
    "outputId": "67d01ab4-cdd9-4661-8f01-eaa9aabf786d"
   },
   "outputs": [],
   "source": [
    "print(model)"
   ]
  },
  {
   "cell_type": "markdown",
   "metadata": {},
   "source": "## Training (preparation)"
  },
  {
   "cell_type": "code",
   "execution_count": null,
   "metadata": {
    "ExecuteTime": {
     "end_time": "2024-10-10T11:00:12.945813Z",
     "start_time": "2024-10-10T11:00:12.935392Z"
    }
   },
   "outputs": [],
   "source": [
    "def get_accuracy(prediction, label) -> np.float64:\n",
    "    predicted_classes = prediction.argmax(dim=-1).cpu().numpy()\n",
    "    actual_labels = label.cpu().numpy()\n",
    "    \n",
    "    return accuracy_score(actual_labels, predicted_classes)\n",
    "\n",
    "def get_precision(prediction, label) -> np.float64:\n",
    "    predicted_classes = prediction.argmax(dim=-1).cpu().numpy()\n",
    "    actual_labels = label.cpu().numpy()\n",
    "    \n",
    "    return precision_score(actual_labels, predicted_classes, average=\"macro\", zero_division=0)\n",
    "\n",
    "def get_recall(prediction, label) -> np.float64:\n",
    "    predicted_classes = prediction.argmax(dim=-1).cpu().numpy()\n",
    "    actual_labels = label.cpu().numpy()\n",
    "    \n",
    "    return recall_score(actual_labels, predicted_classes, average=\"macro\", zero_division=0)\n",
    "\n",
    "def get_f1_score(precision: np.float64, recall: np.float64) -> np.float64:\n",
    "    return np.float64(2.0) * (precision * recall) / (precision + recall)"
   ]
  },
  {
   "cell_type": "code",
   "execution_count": null,
   "metadata": {},
   "outputs": [],
   "source": [
    "def train(\n",
    "        net: Transformer,\n",
    "        data_loader: DataLoader,\n",
    "        optimizer: torch.optim.Optimizer,\n",
    ") -> tuple[np.float64, np.float64, np.float64, np.float64, np.float64]:\n",
    "    net.train()\n",
    "    \n",
    "    batch_losses = []\n",
    "    batch_accuracies = []\n",
    "    batch_precisions = []\n",
    "    batch_recalls = []\n",
    "    \n",
    "    for batch in tqdm.tqdm(data_loader, desc=\"Training...\"):\n",
    "        ids = batch[\"ids\"].to(device)\n",
    "        label = batch[\"label\"].to(device)\n",
    "        attention_mask = batch[\"attention_mask\"].to(device)\n",
    "        \n",
    "        prediction, _ = net(ids, attention_mask)\n",
    "        \n",
    "        loss = criterion(prediction, label)\n",
    "        accuracy = get_accuracy(prediction, label)\n",
    "        precision = get_precision(prediction, label)\n",
    "        recall = get_recall(prediction, label)\n",
    "        \n",
    "        optimizer.zero_grad()\n",
    "        loss.backward()\n",
    "        optimizer.step()\n",
    "        \n",
    "        batch_losses.append(loss.item())\n",
    "        batch_accuracies.append(accuracy)\n",
    "        batch_precisions.append(precision)\n",
    "        batch_recalls.append(recall)\n",
    "\n",
    "    avg_loss = np.mean(batch_losses)\n",
    "    avg_accuracy = np.mean(batch_accuracies)\n",
    "    avg_precision = np.mean(batch_precisions)\n",
    "    avg_recall = np.mean(batch_recalls)\n",
    "    f1_score = get_f1_score(avg_precision, avg_recall)\n",
    "        \n",
    "    return avg_loss, avg_accuracy, avg_precision, avg_recall, f1_score\n",
    "\n",
    "\n",
    "def run_local(\n",
    "        net: Transformer,\n",
    "        training_loaders: list[DataLoader],\n",
    "        fl_round: int,\n",
    "        learning_rate: float,\n",
    "        client: int,\n",
    "):\n",
    "    train_losses = []\n",
    "    train_accuracies = []\n",
    "    train_precisions = []\n",
    "    train_recalls = []\n",
    "    train_f1_scores = []\n",
    "    \n",
    "    optimizer = torch.optim.AdamW(net.parameters(), lr=learning_rate)\n",
    "        \n",
    "    train_loss, train_accuracy, train_precision, train_recall, train_f1_score = train(net, training_loaders[client], optimizer)\n",
    "\n",
    "    train_losses.append(train_loss)\n",
    "    train_accuracies.append(train_accuracy)\n",
    "    train_precisions.append(train_precision)\n",
    "    train_recalls.append(train_recall)\n",
    "    train_f1_scores.append(train_f1_score)\n",
    "\n",
    "    print(f\"{train_loss = }\")\n",
    "    print(f\"{train_accuracy = }\")\n",
    "    print(f\"{train_precision = }\")\n",
    "    print(f\"{train_recall = }\")\n",
    "    print(f\"{train_f1_score = }\")\n",
    "    \n",
    "    torch.save({\n",
    "        \"round\": fl_round,\n",
    "        \"model_state_dict\": net.state_dict(),\n",
    "        \"train\": {\n",
    "            \"loss\": train_loss,\n",
    "            \"accuracy\": train_accuracy,\n",
    "            \"precision\": train_precision,\n",
    "            \"recall\": train_recall,\n",
    "            \"f1_score\": train_f1_score,\n",
    "        },\n",
    "    }, f\"model/iid/partition_c{client}_r{fl_round}.pth\")\n",
    "\n",
    "\n",
    "def eval_centralized(net: Transformer, data_loader: DataLoader) -> dict[str, np.float64]:\n",
    "    net.eval()\n",
    "    \n",
    "    batch_losses = []\n",
    "    batch_accuracies = []\n",
    "    batch_precisions = []\n",
    "    batch_recalls = []\n",
    "    \n",
    "    with torch.no_grad():\n",
    "        for batch in tqdm.tqdm(data_loader, desc=\"Evaluating...\"):\n",
    "            ids = batch[\"ids\"].to(device)\n",
    "            label = batch[\"label\"].to(device)\n",
    "            attention_mask = batch[\"attention_mask\"].to(device)\n",
    "            \n",
    "            prediction, _ = net(ids, attention_mask)\n",
    "            \n",
    "            loss = criterion(prediction, label)\n",
    "            accuracy = get_accuracy(prediction, label)\n",
    "            precision = get_precision(prediction, label)\n",
    "            recall = get_recall(prediction, label)\n",
    "            \n",
    "            batch_losses.append(loss.item())\n",
    "            batch_accuracies.append(accuracy)\n",
    "            batch_precisions.append(precision)\n",
    "            batch_recalls.append(recall)\n",
    "\n",
    "    avg_loss = np.mean(batch_losses)\n",
    "    avg_accuracy = np.mean(batch_accuracies)\n",
    "    avg_precision = np.mean(batch_precisions)\n",
    "    avg_recall = np.mean(batch_recalls)\n",
    "    f1_score = get_f1_score(avg_precision, avg_recall)\n",
    "\n",
    "    print(f\"{avg_loss = }\")\n",
    "    print(f\"{avg_accuracy = }\")\n",
    "    print(f\"{avg_precision = }\")\n",
    "    print(f\"{avg_recall = }\")\n",
    "    print(f\"{f1_score = }\")\n",
    "\n",
    "    metrics = {\n",
    "        \"loss\": avg_loss,\n",
    "        \"accuracy\": avg_accuracy,\n",
    "        \"precision\": avg_precision,\n",
    "        \"recall\": avg_recall,\n",
    "        \"f1_score\": f1_score,\n",
    "    }\n",
    "\n",
    "    return metrics"
   ]
  },
  {
   "cell_type": "code",
   "execution_count": null,
   "metadata": {
    "ExecuteTime": {
     "end_time": "2024-10-10T11:05:21.280347Z",
     "start_time": "2024-10-10T11:00:21.410957Z"
    },
    "colab": {
     "base_uri": "https://localhost:8080/"
    },
    "outputId": "e8d9b429-178d-4924-e82f-4d4e52863788"
   },
   "outputs": [],
   "source": [
    "lr = 1e-6"
   ]
  },
  {
   "metadata": {},
   "cell_type": "markdown",
   "source": "## Training"
  },
  {
   "cell_type": "code",
   "execution_count": null,
   "metadata": {},
   "outputs": [],
   "source": [
    "run_local(net=model, training_loaders=training_dl, fl_round=r, learning_rate=lr, client=0)"
   ]
  },
  {
   "cell_type": "code",
   "execution_count": null,
   "metadata": {},
   "outputs": [],
   "source": [
    "model.load_state_dict(initial_state_dict)"
   ]
  },
  {
   "metadata": {},
   "cell_type": "code",
   "outputs": [],
   "execution_count": null,
   "source": "run_local(net=model, training_loaders=training_dl, fl_round=r, learning_rate=lr, client=1)"
  },
  {
   "metadata": {},
   "cell_type": "code",
   "outputs": [],
   "execution_count": null,
   "source": "model.load_state_dict(initial_state_dict)"
  },
  {
   "metadata": {},
   "cell_type": "code",
   "outputs": [],
   "execution_count": null,
   "source": "run_local(net=model, training_loaders=training_dl, fl_round=r, learning_rate=lr, client=2)"
  },
  {
   "metadata": {},
   "cell_type": "code",
   "outputs": [],
   "execution_count": null,
   "source": "model.load_state_dict(initial_state_dict)"
  },
  {
   "metadata": {},
   "cell_type": "code",
   "outputs": [],
   "execution_count": null,
   "source": "run_local(net=model, training_loaders=training_dl, fl_round=r, learning_rate=lr, client=3)"
  },
  {
   "metadata": {},
   "cell_type": "code",
   "outputs": [],
   "execution_count": null,
   "source": "model.load_state_dict(initial_state_dict)"
  },
  {
   "cell_type": "markdown",
   "metadata": {},
   "source": [
    "### Model saving"
   ]
  },
  {
   "cell_type": "code",
   "execution_count": null,
   "metadata": {},
   "outputs": [],
   "source": [
    "def fed_avg(global_model, model_state_dicts):\n",
    "    ds_lengths = [len(ds) for ds in training_ds]\n",
    "    total_samples = sum(ds_lengths)\n",
    "    weights = [l / total_samples for l in ds_lengths]\n",
    "    \n",
    "    global_dict = global_model.state_dict()\n",
    "    \n",
    "    for k in global_dict.keys():\n",
    "        global_dict[k] = torch.zeros_like(global_dict[k])\n",
    "        \n",
    "        for i in range(len(model_state_dicts)):\n",
    "            global_dict[k] += model_state_dicts[i][k] * weights[i]\n",
    "            \n",
    "    global_model.load_state_dict(global_dict)\n",
    "    \n",
    "    return global_model"
   ]
  },
  {
   "cell_type": "code",
   "execution_count": null,
   "metadata": {},
   "outputs": [],
   "source": [
    "local_state_dicts = [torch.load(f\"model/iid/partition_c{i}_r{r}.pth\")[\"model_state_dict\"] for i in range(num_partitions)]\n",
    "model = fed_avg(model, local_state_dicts)"
   ]
  },
  {
   "cell_type": "code",
   "execution_count": null,
   "metadata": {},
   "outputs": [],
   "source": "eval_metrics = eval_centralized(model, validation_dl)"
  },
  {
   "cell_type": "code",
   "execution_count": null,
   "metadata": {},
   "outputs": [],
   "source": [
    "torch.save({\n",
    "    \"round\": r,\n",
    "    \"model_state_dict\": model.state_dict(),\n",
    "    \"test\": eval_metrics,\n",
    "}, f\"model/iid/fedavg_r{r}.pth\")"
   ]
  },
  {
   "cell_type": "markdown",
   "metadata": {},
   "source": [
    "### Evaluation Results"
   ]
  },
  {
   "cell_type": "code",
   "execution_count": 19,
   "metadata": {},
   "outputs": [],
   "source": [
    "client_losses = {i: [] for i in range(r)}\n",
    "server_losses = []"
   ]
  },
  {
   "cell_type": "code",
   "execution_count": 20,
   "metadata": {},
   "outputs": [],
   "source": [
    "client_accuracies = {i: [] for i in range(r)}\n",
    "server_accuracies = []"
   ]
  },
  {
   "cell_type": "code",
   "execution_count": 21,
   "metadata": {},
   "outputs": [],
   "source": [
    "client_f1_scores = {i: [] for i in range(r)}\n",
    "server_f1_scores = []"
   ]
  },
  {
   "cell_type": "code",
   "execution_count": null,
   "metadata": {},
   "outputs": [],
   "source": "pth_files = [f for f in os.listdir(\"model/iid\") if f.endswith(\".pth\")]"
  },
  {
   "cell_type": "code",
   "execution_count": null,
   "metadata": {},
   "outputs": [],
   "source": [
    "for pth in pth_files:\n",
    "    pth_data = torch.load(f\"model/iid/{pth}\")\n",
    "    del pth_data[\"model_state_dict\"]\n",
    "\n",
    "    if \"train\" in pth_data:\n",
    "        for metric in pth_data[\"train\"]:\n",
    "            pth_data[\"train\"][metric] = pth_data[\"train\"][metric][0]\n",
    "\n",
    "    with open(f\"model/iid/iid_{pth.removesuffix('.pth')}.json\", \"w\", encoding=\"utf-8\") as json_file:\n",
    "        json.dump(pth_data, json_file, indent=4)"
   ]
  },
  {
   "metadata": {},
   "cell_type": "code",
   "outputs": [
    {
     "name": "stdout",
     "output_type": "stream",
     "text": [
      "##### Round 0 #####\n",
      "--- Client 0 ---\n",
      "loss = 0.9753667600652113\n",
      "accuracy = 0.5368482620320856\n",
      "precision = 0.25607522999920673\n",
      "recall = 0.3408803800695168\n",
      "f1_score = 0.2924539790101622\n",
      "--- Client 1 ---\n",
      "loss = 0.961005668589138\n",
      "accuracy = 0.5673343200916731\n",
      "precision = 0.20317257767849659\n",
      "recall = 0.33347929749075844\n",
      "f1_score = 0.25250577370010174\n",
      "--- Client 2 ---\n",
      "loss = 0.9769412049635209\n",
      "accuracy = 0.5518764323911383\n",
      "precision = 0.1912814667012061\n",
      "recall = 0.3332807958505381\n",
      "f1_score = 0.24306147813043513\n",
      "--- Client 3 ---\n",
      "loss = 0.9716639655796602\n",
      "accuracy = 0.5607095110771582\n",
      "precision = 0.19408037322011729\n",
      "recall = 0.3327304859084225\n",
      "f1_score = 0.24515993080947943\n",
      "--- Aggregated model ---\n",
      "loss = 1.0993475868966844\n",
      "accuracy = 0.33305555555555555\n",
      "precision = 0.11104838709677418\n",
      "recall = 0.333042328042328\n",
      "f1_score = 0.16655972351266513\n",
      "##### Round 1 #####\n",
      "--- Client 0 ---\n",
      "loss = 0.9457256628230294\n",
      "accuracy = 0.5539295263559969\n",
      "precision = 0.19257292359759154\n",
      "recall = 0.33437984079695315\n",
      "f1_score = 0.24439573292058478\n",
      "--- Client 1 ---\n",
      "loss = 0.9314756587864881\n",
      "accuracy = 0.5692083651642474\n",
      "precision = 0.19443233671767823\n",
      "recall = 0.3342993871948277\n",
      "f1_score = 0.24586612860904913\n",
      "--- Client 2 ---\n",
      "loss = 0.9406194484488849\n",
      "accuracy = 0.5567346256684492\n",
      "precision = 0.1908844732907826\n",
      "recall = 0.3338689946521357\n",
      "f1_score = 0.24289656414134836\n",
      "--- Client 3 ---\n",
      "loss = 0.9363390095731153\n",
      "accuracy = 0.563813025210084\n",
      "precision = 0.19033025600269435\n",
      "recall = 0.33437561893444256\n",
      "f1_score = 0.24258084459403667\n",
      "--- Aggregated model ---\n",
      "loss = 1.1142143244213527\n",
      "accuracy = 0.3343055555555556\n",
      "precision = 0.1215905017921147\n",
      "recall = 0.33428209650431867\n",
      "f1_score = 0.17831967969108012\n",
      "##### Round 2 #####\n",
      "--- Client 0 ---\n",
      "loss = 0.8734529249489627\n",
      "accuracy = 0.5915059205500381\n",
      "precision = 0.39956569587131185\n",
      "recall = 0.3907825491548038\n",
      "f1_score = 0.3951253189212683\n",
      "--- Client 1 ---\n",
      "loss = 0.8579310111821017\n",
      "accuracy = 0.6077516233766234\n",
      "precision = 0.3967837427751135\n",
      "recall = 0.39049189450628774\n",
      "f1_score = 0.39361267664927907\n",
      "--- Client 2 ---\n",
      "loss = 0.8716692425669196\n",
      "accuracy = 0.5929741214667685\n",
      "precision = 0.3863057138488042\n",
      "recall = 0.3868430482289254\n",
      "f1_score = 0.38657419431656104\n",
      "--- Client 3 ---\n",
      "loss = 0.8695690885265881\n",
      "accuracy = 0.5990617838044309\n",
      "precision = 0.3756059764492717\n",
      "recall = 0.38275484390830256\n",
      "f1_score = 0.3791467149346666\n",
      "--- Aggregated model ---\n",
      "loss = 0.9855723773108588\n",
      "accuracy = 0.48444444444444446\n",
      "precision = 0.5458670339097111\n",
      "recall = 0.4845740751177627\n",
      "f1_score = 0.5133976328714621\n",
      "##### Round 3 #####\n",
      "--- Client 0 ---\n",
      "loss = 0.7998073518594956\n",
      "accuracy = 0.6600219633307869\n",
      "precision = 0.6015974195366313\n",
      "recall = 0.5249019835802952\n",
      "f1_score = 0.5606388746551125\n",
      "--- Client 1 ---\n",
      "loss = 0.7830644587781977\n",
      "accuracy = 0.6670406799083269\n",
      "precision = 0.6059852453171699\n",
      "recall = 0.52234652655841\n",
      "f1_score = 0.5610659841846121\n",
      "--- Client 2 ---\n",
      "loss = 0.7933092453581764\n",
      "accuracy = 0.6636984339190222\n",
      "precision = 0.6212145326473073\n",
      "recall = 0.5303739181561757\n",
      "f1_score = 0.572211340719558\n",
      "--- Client 3 ---\n",
      "loss = 0.7956996204700062\n",
      "accuracy = 0.6591267188693659\n",
      "precision = 0.6064108021994232\n",
      "recall = 0.512903668999091\n",
      "f1_score = 0.555751459258323\n",
      "--- Aggregated model ---\n",
      "loss = 0.9060820362302993\n",
      "accuracy = 0.5959722222222222\n",
      "precision = 0.6732320290130308\n",
      "recall = 0.5957742761512971\n",
      "f1_score = 0.6321392149665771\n",
      "##### Round 4 #####\n",
      "--- Client 0 ---\n",
      "loss = 0.7576404744609792\n",
      "accuracy = 0.6791921313980137\n",
      "precision = 0.6383522367733818\n",
      "recall = 0.5838227619515298\n",
      "f1_score = 0.609871035424211\n",
      "--- Client 1 ---\n",
      "loss = 0.7436214519694527\n",
      "accuracy = 0.6869509167303286\n",
      "precision = 0.6369054712157477\n",
      "recall = 0.5760040281037168\n",
      "f1_score = 0.6049257873689723\n",
      "--- Client 2 ---\n",
      "loss = 0.7538335464376816\n",
      "accuracy = 0.6831670168067226\n",
      "precision = 0.6507053524076686\n",
      "recall = 0.5858172183502578\n",
      "f1_score = 0.6165587406616145\n",
      "--- Client 3 ---\n",
      "loss = 0.7551942376848211\n",
      "accuracy = 0.6813526546982429\n",
      "precision = 0.6397281402162165\n",
      "recall = 0.5770358465766942\n",
      "f1_score = 0.6067669210716474\n",
      "--- Aggregated model ---\n",
      "loss = 0.8711091740926107\n",
      "accuracy = 0.6272222222222222\n",
      "precision = 0.683606699176972\n",
      "recall = 0.6273636200528185\n",
      "f1_score = 0.6542786929607821\n",
      "##### Round 5 #####\n",
      "--- Client 0 ---\n",
      "loss = 0.7353846857892\n",
      "accuracy = 0.6892427425515661\n",
      "precision = 0.6558332566105421\n",
      "recall = 0.6035649314317497\n",
      "f1_score = 0.6286144577865794\n",
      "--- Client 1 ---\n",
      "loss = 0.7227691219930343\n",
      "accuracy = 0.6971805767761651\n",
      "precision = 0.6520933420593971\n",
      "recall = 0.6011499287948741\n",
      "f1_score = 0.6255862293669574\n",
      "--- Client 2 ---\n",
      "loss = 0.7345344185988534\n",
      "accuracy = 0.6897202062643238\n",
      "precision = 0.6504825513702118\n",
      "recall = 0.6029419018027956\n",
      "f1_score = 0.6258106511642394\n",
      "--- Client 3 ---\n",
      "loss = 0.7355809026064082\n",
      "accuracy = 0.685709511077158\n",
      "precision = 0.6412874738264661\n",
      "recall = 0.5922816088101107\n",
      "f1_score = 0.6158111159788384\n",
      "--- Aggregated model ---\n",
      "loss = 0.8477803042199876\n",
      "accuracy = 0.6380555555555556\n",
      "precision = 0.6866173017183382\n",
      "recall = 0.6383793421665799\n",
      "f1_score = 0.661620243966769\n",
      "##### Round 6 #####\n",
      "--- Client 0 ---\n",
      "loss = 0.7226336373683603\n",
      "accuracy = 0.6964285714285714\n",
      "precision = 0.6554498616627191\n",
      "recall = 0.6180315646231845\n",
      "f1_score = 0.6361909882217873\n",
      "--- Client 1 ---\n",
      "loss = 0.706698425711795\n",
      "accuracy = 0.7021939457601223\n",
      "precision = 0.6585717894886689\n",
      "recall = 0.6104391791666774\n",
      "f1_score = 0.6335926678770544\n",
      "--- Client 2 ---\n",
      "loss = 0.7147901184099881\n",
      "accuracy = 0.6995559587471352\n",
      "precision = 0.6634865412322087\n",
      "recall = 0.6164866565704282\n",
      "f1_score = 0.6391236944428451\n",
      "--- Client 3 ---\n",
      "loss = 0.7225161698412768\n",
      "accuracy = 0.6921433346065698\n",
      "precision = 0.6517660881165427\n",
      "recall = 0.6013305422307883\n",
      "f1_score = 0.6255333318806017\n",
      "--- Aggregated model ---\n",
      "loss = 0.8279138806131151\n",
      "accuracy = 0.6497222222222222\n",
      "precision = 0.6947122481139306\n",
      "recall = 0.6495192246757434\n",
      "f1_score = 0.671356042321001\n",
      "##### Round 7 #####\n",
      "--- Client 0 ---\n",
      "loss = 0.7088598826511658\n",
      "accuracy = 0.7009406035141329\n",
      "precision = 0.6606275948222571\n",
      "recall = 0.6255344201684224\n",
      "f1_score = 0.6426022455303111\n",
      "--- Client 1 ---\n",
      "loss = 0.6932843069341731\n",
      "accuracy = 0.7113254392666157\n",
      "precision = 0.6655582530748703\n",
      "recall = 0.6216881169363601\n",
      "f1_score = 0.6428756245969598\n",
      "--- Client 2 ---\n",
      "loss = 0.7062663778582996\n",
      "accuracy = 0.6988636363636364\n",
      "precision = 0.6608541217886841\n",
      "recall = 0.6232950786697857\n",
      "f1_score = 0.6415253331660682\n",
      "--- Client 3 ---\n",
      "loss = 0.7079378278816447\n",
      "accuracy = 0.7003557104660046\n",
      "precision = 0.6570362830952619\n",
      "recall = 0.6118317634069388\n",
      "f1_score = 0.633628798229521\n",
      "--- Aggregated model ---\n",
      "loss = 0.8155801012780931\n",
      "accuracy = 0.6581944444444444\n",
      "precision = 0.6986298356886967\n",
      "recall = 0.6578672250172078\n",
      "f1_score = 0.6776360740207983\n"
     ]
    }
   ],
   "execution_count": 22,
   "source": [
    "for fl_round in range(r):\n",
    "    print(f\"##### Round {fl_round} #####\")\n",
    "\n",
    "    for client in range(num_partitions):\n",
    "        print(f\"--- Client {client} ---\")\n",
    "\n",
    "        with open(f\"model/iid/iid_partition_c{client}_r{fl_round}.json\") as json_data:\n",
    "            train_metrics = json.load(json_data)[\"train\"]\n",
    "\n",
    "            client_losses[client].append(train_metrics[\"loss\"])\n",
    "            client_accuracies[client].append(train_metrics[\"accuracy\"])\n",
    "            client_f1_scores[client].append(train_metrics[\"f1_score\"])\n",
    "\n",
    "            for metric in train_metrics:\n",
    "                print(f\"{metric} = {train_metrics[metric]}\")\n",
    "\n",
    "    print(\"--- Aggregated model ---\")\n",
    "\n",
    "    with open(f\"model/iid/iid_fedavg_r{fl_round}.json\") as json_data:\n",
    "        test_metrics = json.load(json_data)[\"test\"]\n",
    "\n",
    "        server_losses.append(test_metrics[\"loss\"])\n",
    "        server_accuracies.append(test_metrics[\"accuracy\"])\n",
    "        server_f1_scores.append(test_metrics[\"f1_score\"])\n",
    "\n",
    "        for metric in test_metrics:\n",
    "            print(f\"{metric} = {test_metrics[metric]}\")"
   ]
  },
  {
   "cell_type": "code",
   "execution_count": 23,
   "metadata": {},
   "outputs": [],
   "source": [
    "epoch_rng = range(1, r + 1)"
   ]
  },
  {
   "cell_type": "code",
   "execution_count": 26,
   "metadata": {},
   "outputs": [
    {
     "data": {
      "image/png": "[encoded data removed]",
      "text/plain": [
       "<Figure size 640x480 with 1 Axes>"
      ]
     },
     "metadata": {},
     "output_type": "display_data"
    }
   ],
   "source": [
    "plt.plot(epoch_rng, client_losses[0], label=\"Client 0\", color=\"yellow\")\n",
    "plt.plot(epoch_rng, client_losses[1], label=\"Client 1\", color=\"orange\")\n",
    "plt.plot(epoch_rng, client_losses[2], label=\"Client 2\", color=\"green\")\n",
    "plt.plot(epoch_rng, client_losses[3], label=\"Client 3\", color=\"blue\")\n",
    "plt.plot(epoch_rng, server_losses, label=\"FedAvg\", color=\"red\")\n",
    "\n",
    "plt.xlabel(\"Epoch\")\n",
    "plt.ylabel(\"Value\")\n",
    "\n",
    "plt.title(\"Model Loss Evaluation\")\n",
    "plt.legend()\n",
    "plt.show()"
   ]
  },
  {
   "cell_type": "code",
   "execution_count": 27,
   "metadata": {},
   "outputs": [
    {
     "data": {
      "image/png": "[encoded data removed]",
      "text/plain": [
       "<Figure size 640x480 with 1 Axes>"
      ]
     },
     "metadata": {},
     "output_type": "display_data"
    }
   ],
   "source": [
    "plt.plot(epoch_rng, client_accuracies[0], label=\"Client 0\", color=\"yellow\")\n",
    "plt.plot(epoch_rng, client_accuracies[1], label=\"Client 1\", color=\"orange\")\n",
    "plt.plot(epoch_rng, client_accuracies[2], label=\"Client 2\", color=\"green\")\n",
    "plt.plot(epoch_rng, client_accuracies[3], label=\"Client 3\", color=\"blue\")\n",
    "plt.plot(epoch_rng, server_accuracies, label=\"FedAvg\", color=\"red\")\n",
    "\n",
    "plt.xlabel(\"Epoch\")\n",
    "plt.ylabel(\"Value\")\n",
    "\n",
    "plt.title(\"Model Accuracy Evaluation\")\n",
    "plt.legend()\n",
    "plt.show()"
   ]
  },
  {
   "cell_type": "code",
   "execution_count": 28,
   "metadata": {},
   "outputs": [
    {
     "data": {
      "image/png": "[encoded data removed]",
      "text/plain": [
       "<Figure size 640x480 with 1 Axes>"
      ]
     },
     "metadata": {},
     "output_type": "display_data"
    }
   ],
   "source": [
    "plt.plot(epoch_rng, client_f1_scores[0], label=\"Client 0\", color=\"yellow\")\n",
    "plt.plot(epoch_rng, client_f1_scores[1], label=\"Client 1\", color=\"orange\")\n",
    "plt.plot(epoch_rng, client_f1_scores[2], label=\"Client 2\", color=\"green\")\n",
    "plt.plot(epoch_rng, client_f1_scores[3], label=\"Client 3\", color=\"blue\")\n",
    "plt.plot(epoch_rng, server_f1_scores, label=\"FedAvg\", color=\"red\")\n",
    "\n",
    "plt.xlabel(\"Epoch\")\n",
    "plt.ylabel(\"Value\")\n",
    "\n",
    "plt.title(\"Model F-Score Evaluation\")\n",
    "plt.legend()\n",
    "plt.show()"
   ]
  }
 ],
 "metadata": {
  "colab": {
   "provenance": [],
   "toc_visible": true
  },
  "kernelspec": {
   "display_name": "Python 3 (ipykernel)",
   "language": "python",
   "name": "python3"
  },
  "language_info": {
   "codemirror_mode": {
    "name": "ipython",
    "version": 3
   },
   "file_extension": ".py",
   "mimetype": "text/x-python",
   "name": "python",
   "nbconvert_exporter": "python",
   "pygments_lexer": "ipython3",
   "version": "3.10.12"
  }
 },
 "nbformat": 4,
 "nbformat_minor": 4
}
