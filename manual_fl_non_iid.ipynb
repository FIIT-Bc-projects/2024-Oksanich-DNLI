{
 "cells": [
  {
   "cell_type": "markdown",
   "metadata": {},
   "source": [
    "## Library installation"
   ]
  },
  {
   "cell_type": "code",
   "execution_count": null,
   "metadata": {},
   "outputs": [],
   "source": [
    "!pip install -q \"flwr[simulation]\" flwr-datasets"
   ]
  },
  {
   "cell_type": "code",
   "execution_count": null,
   "metadata": {},
   "outputs": [],
   "source": [
    "!pip install transformers"
   ]
  },
  {
   "cell_type": "code",
   "execution_count": null,
   "metadata": {
    "colab": {
     "base_uri": "https://localhost:8080/"
    },
    "outputId": "7192138a-8c87-4d9a-f726-af1038ad264c"
   },
   "outputs": [],
   "source": [
    "!pip install torch==1.13.1+cpu torchvision==0.14.1+cpu --extra-index-url https://download.pytorch.org/whl/cpu"
   ]
  },
  {
   "cell_type": "code",
   "execution_count": null,
   "metadata": {
    "colab": {
     "base_uri": "https://localhost:8080/"
    },
    "outputId": "58b7af77-609f-4118-bd5b-5629a4b5a296"
   },
   "outputs": [],
   "source": [
    "!pip install matplotlib"
   ]
  },
  {
   "cell_type": "code",
   "execution_count": null,
   "metadata": {},
   "outputs": [],
   "source": [
    "!pip install scikit-learn"
   ]
  },
  {
   "cell_type": "markdown",
   "metadata": {},
   "source": [
    "## Imports"
   ]
  },
  {
   "cell_type": "code",
   "execution_count": 1,
   "metadata": {
    "ExecuteTime": {
     "end_time": "2024-10-17T21:47:36.634895Z",
     "start_time": "2024-10-17T21:47:35.908558Z"
    }
   },
   "outputs": [],
   "source": [
    "import json\n",
    "import matplotlib.pyplot as plt\n",
    "import numpy as np\n",
    "import os\n",
    "import pandas as pd\n",
    "import random\n",
    "\n",
    "import torch\n",
    "import torch.nn as nn\n",
    "\n",
    "import tqdm\n",
    "\n",
    "from datasets import Dataset, DatasetDict\n",
    "\n",
    "from sklearn.metrics import accuracy_score, precision_score, recall_score\n",
    "\n",
    "from torch.utils.data import DataLoader, Subset\n",
    "\n",
    "from transformers import AutoModel, AutoTokenizer, PreTrainedTokenizer"
   ]
  },
  {
   "cell_type": "markdown",
   "metadata": {},
   "source": [
    "## Data preprocessing"
   ]
  },
  {
   "cell_type": "code",
   "execution_count": 2,
   "metadata": {
    "ExecuteTime": {
     "end_time": "2024-10-17T21:17:00.168980Z",
     "start_time": "2024-10-17T21:17:00.157976Z"
    }
   },
   "outputs": [],
   "source": [
    "label_mapping = {\n",
    "    \"negative\": 0,\n",
    "    \"neutral\": 1,\n",
    "    \"positive\": 2,\n",
    "}"
   ]
  },
  {
   "cell_type": "code",
   "execution_count": 3,
   "metadata": {},
   "outputs": [],
   "source": [
    "num_partitions = 4"
   ]
  },
  {
   "cell_type": "code",
   "execution_count": 4,
   "metadata": {},
   "outputs": [],
   "source": [
    "distilbert_tokenizer = AutoTokenizer.from_pretrained(\"distilbert-base-uncased\")"
   ]
  },
  {
   "cell_type": "code",
   "execution_count": 5,
   "metadata": {},
   "outputs": [],
   "source": [
    "def preprocess_data(df: pd.DataFrame) -> pd.DataFrame:\n",
    "    copied = df[[\"sentence\", \"gold_label\"]].rename(columns={\"sentence\": \"text\", \"gold_label\": \"label\"})\n",
    "    copied = copied[copied.label != \"mixed\"].dropna()\n",
    "    copied[\"label\"] = copied[\"label\"].map(label_mapping)\n",
    "\n",
    "    return copied"
   ]
  },
  {
   "cell_type": "code",
   "execution_count": 6,
   "metadata": {},
   "outputs": [],
   "source": [
    "def tokenize_data(ds: Dataset, tokenizer: PreTrainedTokenizer) -> pd.DataFrame:\n",
    "    copied = ds.map(\n",
    "        lambda s, tok: {\n",
    "            \"ids\": (encoded := tok(s[\"text\"], truncation=True, padding=True))[\"input_ids\"],\n",
    "            \"attention_mask\": encoded[\"attention_mask\"],\n",
    "        },\n",
    "        fn_kwargs={\"tok\": tokenizer},\n",
    "    )\n",
    "\n",
    "    return copied"
   ]
  },
  {
   "cell_type": "code",
   "execution_count": 7,
   "metadata": {},
   "outputs": [],
   "source": [
    "training_data = [pd.read_json(f\"data/partitions/balanced_dirichlet_partition_{i}.jsonl\", lines=True) for i in range(num_partitions)]\n",
    "validation_data = pd.concat([\n",
    "    preprocess_data(pd.read_json(\"data/dynasent-v1.1-round01-yelp-test.jsonl\", lines=True)),\n",
    "    preprocess_data(pd.read_json(\"data/dynasent-v1.1-round01-yelp-dev.jsonl\", lines=True)),\n",
    "], ignore_index=True).drop_duplicates()"
   ]
  },
  {
   "cell_type": "code",
   "execution_count": 8,
   "metadata": {},
   "outputs": [
    {
     "data": {
      "application/vnd.jupyter.widget-view+json": {
       "model_id": "ccacd0c11a4c4dfe97ce70d0608bf4ac",
       "version_major": 2,
       "version_minor": 0
      },
      "text/plain": [
       "Map:   0%|          | 0/11952 [00:00<?, ? examples/s]"
      ]
     },
     "metadata": {},
     "output_type": "display_data"
    },
    {
     "data": {
      "application/vnd.jupyter.widget-view+json": {
       "model_id": "7c328a12835a49ee933575b15e9c93bf",
       "version_major": 2,
       "version_minor": 0
      },
      "text/plain": [
       "Map:   0%|          | 0/11154 [00:00<?, ? examples/s]"
      ]
     },
     "metadata": {},
     "output_type": "display_data"
    },
    {
     "data": {
      "application/vnd.jupyter.widget-view+json": {
       "model_id": "96f1717fa38a40bf94a62946490360ba",
       "version_major": 2,
       "version_minor": 0
      },
      "text/plain": [
       "Map:   0%|          | 0/14427 [00:00<?, ? examples/s]"
      ]
     },
     "metadata": {},
     "output_type": "display_data"
    },
    {
     "data": {
      "application/vnd.jupyter.widget-view+json": {
       "model_id": "93539a1a1fa442d9a9134bdf7bbb2c40",
       "version_major": 2,
       "version_minor": 0
      },
      "text/plain": [
       "Map:   0%|          | 0/10267 [00:00<?, ? examples/s]"
      ]
     },
     "metadata": {},
     "output_type": "display_data"
    },
    {
     "data": {
      "application/vnd.jupyter.widget-view+json": {
       "model_id": "a624c87fe1f7466e8048005acdba5d5d",
       "version_major": 2,
       "version_minor": 0
      },
      "text/plain": [
       "Map:   0%|          | 0/7200 [00:00<?, ? examples/s]"
      ]
     },
     "metadata": {},
     "output_type": "display_data"
    }
   ],
   "source": [
    "training_ds = [tokenize_data(Dataset.from_pandas(df, preserve_index=False), distilbert_tokenizer) for df in training_data]\n",
    "validation_ds = tokenize_data(Dataset.from_pandas(validation_data, preserve_index=False), distilbert_tokenizer)"
   ]
  },
  {
   "cell_type": "code",
   "execution_count": 9,
   "metadata": {
    "ExecuteTime": {
     "end_time": "2024-10-17T21:24:40.005598Z",
     "start_time": "2024-10-17T21:23:57.018099Z"
    }
   },
   "outputs": [],
   "source": [
    "training_ds = [ds.with_format(type=\"torch\", columns=[\"ids\", \"label\", \"attention_mask\"]) for ds in training_ds]\n",
    "validation_ds = validation_ds.with_format(type=\"torch\", columns=[\"ids\", \"label\", \"attention_mask\"])"
   ]
  },
  {
   "cell_type": "code",
   "execution_count": 10,
   "metadata": {
    "ExecuteTime": {
     "end_time": "2024-10-16T14:45:20.178640Z",
     "start_time": "2024-10-16T14:45:20.169742Z"
    },
    "colab": {
     "base_uri": "https://localhost:8080/"
    },
    "outputId": "f10b649f-3cee-4e86-c7ff-94bd1fd3e082"
   },
   "outputs": [],
   "source": [
    "def get_data_loader(dataset: Dataset, batch_size: int, pad_index, shuffle=False) -> DataLoader:\n",
    "    def collate_fn(batch):\n",
    "        batch_ids = nn.utils.rnn.pad_sequence([i[\"ids\"] for i in batch], padding_value=pad_index, batch_first=True)\n",
    "        batch_label = torch.stack([i[\"label\"] for i in batch])\n",
    "        batch_mask = nn.utils.rnn.pad_sequence([i[\"attention_mask\"] for i in batch], padding_value=pad_index, batch_first=True)\n",
    "        \n",
    "        return {\n",
    "            \"ids\": batch_ids,\n",
    "            \"label\": batch_label,\n",
    "            \"attention_mask\": batch_mask,\n",
    "        }\n",
    "    \n",
    "    dl = DataLoader(\n",
    "        dataset=dataset,\n",
    "        batch_size=batch_size,\n",
    "        collate_fn=collate_fn,\n",
    "        shuffle=shuffle\n",
    "    )\n",
    "    \n",
    "    return dl"
   ]
  },
  {
   "cell_type": "code",
   "execution_count": 11,
   "metadata": {
    "ExecuteTime": {
     "end_time": "2024-10-16T14:45:20.178640Z",
     "start_time": "2024-10-16T14:45:20.169742Z"
    },
    "colab": {
     "base_uri": "https://localhost:8080/"
    },
    "outputId": "f10b649f-3cee-4e86-c7ff-94bd1fd3e082"
   },
   "outputs": [],
   "source": [
    "training_dl = [get_data_loader(ds, 32, distilbert_tokenizer.pad_token_id, shuffle=True) for ds in training_ds]\n",
    "validation_dl = get_data_loader(validation_ds, 32, distilbert_tokenizer.pad_token_id)"
   ]
  },
  {
   "cell_type": "markdown",
   "metadata": {},
   "source": [
    "## Model definition"
   ]
  },
  {
   "cell_type": "code",
   "execution_count": 12,
   "metadata": {
    "ExecuteTime": {
     "end_time": "2024-10-16T14:50:57.230181Z",
     "start_time": "2024-10-16T14:50:57.223058Z"
    }
   },
   "outputs": [],
   "source": [
    "class Transformer(nn.Module):\n",
    "    def __init__(self, transformer, num_classes: int, freeze: bool):\n",
    "        super().__init__()\n",
    "        \n",
    "        self.transformer = transformer\n",
    "        self.fc = nn.Linear(transformer.config.hidden_size, num_classes)\n",
    "        self.dropout = nn.Dropout(0.3)\n",
    "        \n",
    "        if freeze:\n",
    "            for param in self.transformer.parameters():\n",
    "                param.requires_grad = False\n",
    "\n",
    "    \n",
    "    def forward(self, ids: torch.Tensor, attention_mask: torch.Tensor) -> tuple[torch.Tensor, torch.Tensor]:\n",
    "        output = self.transformer(ids, attention_mask=attention_mask, output_attentions=True)\n",
    "        pooled_mean = torch.mean(output.last_hidden_state, dim=1)\n",
    "        cls_hidden = self.dropout(pooled_mean)\n",
    "        prediction = self.fc(cls_hidden)\n",
    "\n",
    "        return prediction, output.attentions"
   ]
  },
  {
   "cell_type": "code",
   "execution_count": 13,
   "metadata": {},
   "outputs": [],
   "source": [
    "distilbert_tf = AutoModel.from_pretrained(\"distilbert-base-uncased\", attn_implementation=\"eager\")\n",
    "\n",
    "model = Transformer(distilbert_tf, num_classes=3, freeze=False)"
   ]
  },
  {
   "cell_type": "markdown",
   "metadata": {},
   "source": [
    "## Loading from backup\n",
    "### Checkpoint loading"
   ]
  },
  {
   "cell_type": "code",
   "execution_count": 14,
   "metadata": {},
   "outputs": [],
   "source": [
    "r = 8"
   ]
  },
  {
   "cell_type": "code",
   "execution_count": 15,
   "metadata": {},
   "outputs": [],
   "source": [
    "initial_state_dict = model.state_dict()"
   ]
  },
  {
   "cell_type": "code",
   "execution_count": 16,
   "metadata": {},
   "outputs": [],
   "source": [
    "checkpoint = torch.load(f\"model/fedavg_r{r - 1}.pth\")"
   ]
  },
  {
   "cell_type": "code",
   "execution_count": 17,
   "metadata": {},
   "outputs": [],
   "source": [
    "initial_state_dict = checkpoint[\"model_state_dict\"]"
   ]
  },
  {
   "cell_type": "code",
   "execution_count": 18,
   "metadata": {},
   "outputs": [
    {
     "data": {
      "text/plain": [
       "<All keys matched successfully>"
      ]
     },
     "execution_count": 18,
     "metadata": {},
     "output_type": "execute_result"
    }
   ],
   "source": [
    "model.load_state_dict(initial_state_dict)"
   ]
  },
  {
   "cell_type": "markdown",
   "metadata": {},
   "source": [
    "## Model configuration"
   ]
  },
  {
   "cell_type": "code",
   "execution_count": 19,
   "metadata": {},
   "outputs": [
    {
     "name": "stdout",
     "output_type": "stream",
     "text": [
      "num_parameters = 66365187\n"
     ]
    }
   ],
   "source": [
    "num_parameters = sum(value.numel() for value in model.state_dict().values())\n",
    "print(f\"{num_parameters = }\")"
   ]
  },
  {
   "cell_type": "code",
   "execution_count": 20,
   "metadata": {
    "ExecuteTime": {
     "end_time": "2024-10-16T14:51:11.813641Z",
     "start_time": "2024-10-16T14:51:10.449494Z"
    },
    "colab": {
     "base_uri": "https://localhost:8080/"
    },
    "outputId": "67d01ab4-cdd9-4661-8f01-eaa9aabf786d"
   },
   "outputs": [],
   "source": [
    "criterion = torch.nn.CrossEntropyLoss()\n",
    "device = torch.device(\"cuda\" if torch.cuda.is_available() else \"cpu\")\n",
    "\n",
    "model = model.to(device)\n",
    "criterion = criterion.to(device)"
   ]
  },
  {
   "cell_type": "code",
   "execution_count": 21,
   "metadata": {
    "ExecuteTime": {
     "end_time": "2024-10-16T14:51:11.813641Z",
     "start_time": "2024-10-16T14:51:10.449494Z"
    },
    "colab": {
     "base_uri": "https://localhost:8080/"
    },
    "outputId": "67d01ab4-cdd9-4661-8f01-eaa9aabf786d"
   },
   "outputs": [
    {
     "name": "stdout",
     "output_type": "stream",
     "text": [
      "Transformer(\n",
      "  (transformer): DistilBertModel(\n",
      "    (embeddings): Embeddings(\n",
      "      (word_embeddings): Embedding(30522, 768, padding_idx=0)\n",
      "      (position_embeddings): Embedding(512, 768)\n",
      "      (LayerNorm): LayerNorm((768,), eps=1e-12, elementwise_affine=True)\n",
      "      (dropout): Dropout(p=0.1, inplace=False)\n",
      "    )\n",
      "    (transformer): Transformer(\n",
      "      (layer): ModuleList(\n",
      "        (0): TransformerBlock(\n",
      "          (attention): MultiHeadSelfAttention(\n",
      "            (dropout): Dropout(p=0.1, inplace=False)\n",
      "            (q_lin): Linear(in_features=768, out_features=768, bias=True)\n",
      "            (k_lin): Linear(in_features=768, out_features=768, bias=True)\n",
      "            (v_lin): Linear(in_features=768, out_features=768, bias=True)\n",
      "            (out_lin): Linear(in_features=768, out_features=768, bias=True)\n",
      "          )\n",
      "          (sa_layer_norm): LayerNorm((768,), eps=1e-12, elementwise_affine=True)\n",
      "          (ffn): FFN(\n",
      "            (dropout): Dropout(p=0.1, inplace=False)\n",
      "            (lin1): Linear(in_features=768, out_features=3072, bias=True)\n",
      "            (lin2): Linear(in_features=3072, out_features=768, bias=True)\n",
      "            (activation): GELUActivation()\n",
      "          )\n",
      "          (output_layer_norm): LayerNorm((768,), eps=1e-12, elementwise_affine=True)\n",
      "        )\n",
      "        (1): TransformerBlock(\n",
      "          (attention): MultiHeadSelfAttention(\n",
      "            (dropout): Dropout(p=0.1, inplace=False)\n",
      "            (q_lin): Linear(in_features=768, out_features=768, bias=True)\n",
      "            (k_lin): Linear(in_features=768, out_features=768, bias=True)\n",
      "            (v_lin): Linear(in_features=768, out_features=768, bias=True)\n",
      "            (out_lin): Linear(in_features=768, out_features=768, bias=True)\n",
      "          )\n",
      "          (sa_layer_norm): LayerNorm((768,), eps=1e-12, elementwise_affine=True)\n",
      "          (ffn): FFN(\n",
      "            (dropout): Dropout(p=0.1, inplace=False)\n",
      "            (lin1): Linear(in_features=768, out_features=3072, bias=True)\n",
      "            (lin2): Linear(in_features=3072, out_features=768, bias=True)\n",
      "            (activation): GELUActivation()\n",
      "          )\n",
      "          (output_layer_norm): LayerNorm((768,), eps=1e-12, elementwise_affine=True)\n",
      "        )\n",
      "        (2): TransformerBlock(\n",
      "          (attention): MultiHeadSelfAttention(\n",
      "            (dropout): Dropout(p=0.1, inplace=False)\n",
      "            (q_lin): Linear(in_features=768, out_features=768, bias=True)\n",
      "            (k_lin): Linear(in_features=768, out_features=768, bias=True)\n",
      "            (v_lin): Linear(in_features=768, out_features=768, bias=True)\n",
      "            (out_lin): Linear(in_features=768, out_features=768, bias=True)\n",
      "          )\n",
      "          (sa_layer_norm): LayerNorm((768,), eps=1e-12, elementwise_affine=True)\n",
      "          (ffn): FFN(\n",
      "            (dropout): Dropout(p=0.1, inplace=False)\n",
      "            (lin1): Linear(in_features=768, out_features=3072, bias=True)\n",
      "            (lin2): Linear(in_features=3072, out_features=768, bias=True)\n",
      "            (activation): GELUActivation()\n",
      "          )\n",
      "          (output_layer_norm): LayerNorm((768,), eps=1e-12, elementwise_affine=True)\n",
      "        )\n",
      "        (3): TransformerBlock(\n",
      "          (attention): MultiHeadSelfAttention(\n",
      "            (dropout): Dropout(p=0.1, inplace=False)\n",
      "            (q_lin): Linear(in_features=768, out_features=768, bias=True)\n",
      "            (k_lin): Linear(in_features=768, out_features=768, bias=True)\n",
      "            (v_lin): Linear(in_features=768, out_features=768, bias=True)\n",
      "            (out_lin): Linear(in_features=768, out_features=768, bias=True)\n",
      "          )\n",
      "          (sa_layer_norm): LayerNorm((768,), eps=1e-12, elementwise_affine=True)\n",
      "          (ffn): FFN(\n",
      "            (dropout): Dropout(p=0.1, inplace=False)\n",
      "            (lin1): Linear(in_features=768, out_features=3072, bias=True)\n",
      "            (lin2): Linear(in_features=3072, out_features=768, bias=True)\n",
      "            (activation): GELUActivation()\n",
      "          )\n",
      "          (output_layer_norm): LayerNorm((768,), eps=1e-12, elementwise_affine=True)\n",
      "        )\n",
      "        (4): TransformerBlock(\n",
      "          (attention): MultiHeadSelfAttention(\n",
      "            (dropout): Dropout(p=0.1, inplace=False)\n",
      "            (q_lin): Linear(in_features=768, out_features=768, bias=True)\n",
      "            (k_lin): Linear(in_features=768, out_features=768, bias=True)\n",
      "            (v_lin): Linear(in_features=768, out_features=768, bias=True)\n",
      "            (out_lin): Linear(in_features=768, out_features=768, bias=True)\n",
      "          )\n",
      "          (sa_layer_norm): LayerNorm((768,), eps=1e-12, elementwise_affine=True)\n",
      "          (ffn): FFN(\n",
      "            (dropout): Dropout(p=0.1, inplace=False)\n",
      "            (lin1): Linear(in_features=768, out_features=3072, bias=True)\n",
      "            (lin2): Linear(in_features=3072, out_features=768, bias=True)\n",
      "            (activation): GELUActivation()\n",
      "          )\n",
      "          (output_layer_norm): LayerNorm((768,), eps=1e-12, elementwise_affine=True)\n",
      "        )\n",
      "        (5): TransformerBlock(\n",
      "          (attention): MultiHeadSelfAttention(\n",
      "            (dropout): Dropout(p=0.1, inplace=False)\n",
      "            (q_lin): Linear(in_features=768, out_features=768, bias=True)\n",
      "            (k_lin): Linear(in_features=768, out_features=768, bias=True)\n",
      "            (v_lin): Linear(in_features=768, out_features=768, bias=True)\n",
      "            (out_lin): Linear(in_features=768, out_features=768, bias=True)\n",
      "          )\n",
      "          (sa_layer_norm): LayerNorm((768,), eps=1e-12, elementwise_affine=True)\n",
      "          (ffn): FFN(\n",
      "            (dropout): Dropout(p=0.1, inplace=False)\n",
      "            (lin1): Linear(in_features=768, out_features=3072, bias=True)\n",
      "            (lin2): Linear(in_features=3072, out_features=768, bias=True)\n",
      "            (activation): GELUActivation()\n",
      "          )\n",
      "          (output_layer_norm): LayerNorm((768,), eps=1e-12, elementwise_affine=True)\n",
      "        )\n",
      "      )\n",
      "    )\n",
      "  )\n",
      "  (fc): Linear(in_features=768, out_features=3, bias=True)\n",
      "  (dropout): Dropout(p=0.3, inplace=False)\n",
      ")\n"
     ]
    }
   ],
   "source": [
    "print(model)"
   ]
  },
  {
   "cell_type": "markdown",
   "metadata": {},
   "source": [
    "## Training and evaluation"
   ]
  },
  {
   "cell_type": "code",
   "execution_count": 22,
   "metadata": {
    "ExecuteTime": {
     "end_time": "2024-10-10T11:00:12.945813Z",
     "start_time": "2024-10-10T11:00:12.935392Z"
    }
   },
   "outputs": [],
   "source": [
    "def get_accuracy(prediction, label) -> np.float64:\n",
    "    predicted_classes = prediction.argmax(dim=-1).cpu().numpy()\n",
    "    actual_labels = label.cpu().numpy()\n",
    "    \n",
    "    return accuracy_score(actual_labels, predicted_classes)\n",
    "\n",
    "def get_precision(prediction, label) -> np.float64:\n",
    "    predicted_classes = prediction.argmax(dim=-1).cpu().numpy()\n",
    "    actual_labels = label.cpu().numpy()\n",
    "    \n",
    "    return precision_score(actual_labels, predicted_classes, average=\"macro\", zero_division=0)\n",
    "\n",
    "def get_recall(prediction, label) -> np.float64:\n",
    "    predicted_classes = prediction.argmax(dim=-1).cpu().numpy()\n",
    "    actual_labels = label.cpu().numpy()\n",
    "    \n",
    "    return recall_score(actual_labels, predicted_classes, average=\"macro\", zero_division=0)\n",
    "\n",
    "def get_f1_score(precision: np.float64, recall: np.float64) -> np.float64:\n",
    "    return np.float64(2.0) * (precision * recall) / (precision + recall)"
   ]
  },
  {
   "cell_type": "code",
   "execution_count": 23,
   "metadata": {},
   "outputs": [],
   "source": [
    "def train(\n",
    "        net: Transformer,\n",
    "        data_loader: DataLoader,\n",
    "        optimizer: torch.optim.Optimizer,\n",
    ") -> tuple[np.float64, np.float64, np.float64, np.float64, np.float64]:\n",
    "    net.train()\n",
    "    \n",
    "    batch_losses = []\n",
    "    batch_accuracies = []\n",
    "    batch_precisions = []\n",
    "    batch_recalls = []\n",
    "    \n",
    "    for batch in tqdm.tqdm(data_loader, desc=\"Training...\"):\n",
    "        ids = batch[\"ids\"].to(device)\n",
    "        label = batch[\"label\"].to(device)\n",
    "        attention_mask = batch[\"attention_mask\"].to(device)\n",
    "        \n",
    "        prediction, _ = net(ids, attention_mask)\n",
    "        \n",
    "        loss = criterion(prediction, label)\n",
    "        accuracy = get_accuracy(prediction, label)\n",
    "        precision = get_precision(prediction, label)\n",
    "        recall = get_recall(prediction, label)\n",
    "        \n",
    "        optimizer.zero_grad()\n",
    "        loss.backward()\n",
    "        optimizer.step()\n",
    "        \n",
    "        batch_losses.append(loss.item())\n",
    "        batch_accuracies.append(accuracy)\n",
    "        batch_precisions.append(precision)\n",
    "        batch_recalls.append(recall)\n",
    "\n",
    "    avg_loss = np.mean(batch_losses)\n",
    "    avg_accuracy = np.mean(batch_accuracies)\n",
    "    avg_precision = np.mean(batch_precisions)\n",
    "    avg_recall = np.mean(batch_recalls)\n",
    "    f1_score = get_f1_score(avg_precision, avg_recall)\n",
    "        \n",
    "    return avg_loss, avg_accuracy, avg_precision, avg_recall, f1_score\n",
    "\n",
    "\n",
    "def run_local(\n",
    "        net: Transformer,\n",
    "        training_loaders: list[DataLoader],\n",
    "        fl_round: int,\n",
    "        learning_rate: float,\n",
    "        client: int,\n",
    "):\n",
    "    train_losses = []\n",
    "    train_accuracies = []\n",
    "    train_precisions = []\n",
    "    train_recalls = []\n",
    "    train_f1_scores = []\n",
    "    \n",
    "    optimizer = torch.optim.AdamW(net.parameters(), lr=learning_rate)\n",
    "        \n",
    "    train_loss, train_accuracy, train_precision, train_recall, train_f1_score = train(net, training_loaders[client], optimizer)\n",
    "\n",
    "    train_losses.append(train_loss)\n",
    "    train_accuracies.append(train_accuracy)\n",
    "    train_precisions.append(train_precision)\n",
    "    train_recalls.append(train_recall)\n",
    "    train_f1_scores.append(train_f1_score)\n",
    "\n",
    "    print(f\"{train_loss = }\")\n",
    "    print(f\"{train_accuracy = }\")\n",
    "    print(f\"{train_precision = }\")\n",
    "    print(f\"{train_recall = }\")\n",
    "    print(f\"{train_f1_score = }\")\n",
    "    \n",
    "    torch.save({\n",
    "        \"round\": fl_round,\n",
    "        \"model_state_dict\": net.state_dict(),\n",
    "        \"train\": {\n",
    "            \"loss\": train_loss,\n",
    "            \"accuracy\": train_accuracy,\n",
    "            \"precision\": train_precision,\n",
    "            \"recall\": train_recall,\n",
    "            \"f1_score\": train_f1_score,\n",
    "        },\n",
    "    }, f\"model/partition_c{client}_r{fl_round}.pth\")\n",
    "\n",
    "\n",
    "def eval_centralized(\n",
    "        net: Transformer,\n",
    "        data_loader: DataLoader,\n",
    "        fl_round: int,\n",
    ") -> dict[str, np.float64]:\n",
    "    net.eval()\n",
    "    \n",
    "    batch_losses = []\n",
    "    batch_accuracies = []\n",
    "    batch_precisions = []\n",
    "    batch_recalls = []\n",
    "    \n",
    "    with torch.no_grad():\n",
    "        for batch in tqdm.tqdm(data_loader, desc=\"Evaluating...\"):\n",
    "            ids = batch[\"ids\"].to(device)\n",
    "            label = batch[\"label\"].to(device)\n",
    "            attention_mask = batch[\"attention_mask\"].to(device)\n",
    "            \n",
    "            prediction, _ = net(ids, attention_mask)\n",
    "            \n",
    "            loss = criterion(prediction, label)\n",
    "            accuracy = get_accuracy(prediction, label)\n",
    "            precision = get_precision(prediction, label)\n",
    "            recall = get_recall(prediction, label)\n",
    "            \n",
    "            batch_losses.append(loss.item())\n",
    "            batch_accuracies.append(accuracy)\n",
    "            batch_precisions.append(precision)\n",
    "            batch_recalls.append(recall)\n",
    "\n",
    "    avg_loss = np.mean(batch_losses)\n",
    "    avg_accuracy = np.mean(batch_accuracies)\n",
    "    avg_precision = np.mean(batch_precisions)\n",
    "    avg_recall = np.mean(batch_recalls)\n",
    "    f1_score = get_f1_score(avg_precision, avg_recall)\n",
    "\n",
    "    print(f\"{avg_loss = }\")\n",
    "    print(f\"{avg_accuracy = }\")\n",
    "    print(f\"{avg_precision = }\")\n",
    "    print(f\"{avg_recall = }\")\n",
    "    print(f\"{f1_score = }\")\n",
    "\n",
    "    metrics = {\n",
    "        \"loss\": avg_loss,\n",
    "        \"accuracy\": avg_accuracy,\n",
    "        \"precision\": avg_precision,\n",
    "        \"recall\": avg_recall,\n",
    "        \"f1_score\": f1_score,\n",
    "    }\n",
    "\n",
    "    return metrics"
   ]
  },
  {
   "cell_type": "code",
   "execution_count": 24,
   "metadata": {
    "ExecuteTime": {
     "end_time": "2024-10-10T11:05:21.280347Z",
     "start_time": "2024-10-10T11:00:21.410957Z"
    },
    "colab": {
     "base_uri": "https://localhost:8080/"
    },
    "outputId": "e8d9b429-178d-4924-e82f-4d4e52863788"
   },
   "outputs": [],
   "source": [
    "lr = 1e-6"
   ]
  },
  {
   "cell_type": "code",
   "execution_count": 27,
   "metadata": {},
   "outputs": [
    {
     "name": "stderr",
     "output_type": "stream",
     "text": [
      "Training...: 100%|████████████████████████████████████████████████████████████████████| 374/374 [09:20<00:00,  1.50s/it]"
     ]
    },
    {
     "name": "stdout",
     "output_type": "stream",
     "text": [
      "train_loss = 0.4132215520516436\n",
      "train_accuracy = 0.8231116310160428\n",
      "train_precision = 0.7855905173515209\n",
      "train_recall = 0.7155787697077222\n",
      "train_f1_score = 0.7489520345859156\n"
     ]
    },
    {
     "name": "stderr",
     "output_type": "stream",
     "text": [
      "\n"
     ]
    }
   ],
   "source": [
    "run_local(net=model, training_loaders=training_dl, fl_round=r, learning_rate=lr, client=0)"
   ]
  },
  {
   "cell_type": "code",
   "execution_count": 29,
   "metadata": {},
   "outputs": [
    {
     "name": "stderr",
     "output_type": "stream",
     "text": [
      "Training...: 100%|████████████████████████████████████████████████████████████████████| 349/349 [09:16<00:00,  1.60s/it]"
     ]
    },
    {
     "name": "stdout",
     "output_type": "stream",
     "text": [
      "train_loss = 0.7245451486042372\n",
      "train_accuracy = 0.6827443489334607\n",
      "train_precision = 0.6573207212042763\n",
      "train_recall = 0.6366553576270656\n",
      "train_f1_score = 0.6468230219710811\n"
     ]
    },
    {
     "name": "stderr",
     "output_type": "stream",
     "text": [
      "\n"
     ]
    }
   ],
   "source": [
    "run_local(net=model, training_loaders=training_dl, fl_round=r, learning_rate=lr, client=1)"
   ]
  },
  {
   "cell_type": "code",
   "execution_count": 31,
   "metadata": {},
   "outputs": [
    {
     "name": "stderr",
     "output_type": "stream",
     "text": [
      "Training...: 100%|████████████████████████████████████████████████████████████████████| 451/451 [11:44<00:00,  1.56s/it]"
     ]
    },
    {
     "name": "stdout",
     "output_type": "stream",
     "text": [
      "train_loss = 0.7372351671401783\n",
      "train_accuracy = 0.684920854890367\n",
      "train_precision = 0.6759521573231091\n",
      "train_recall = 0.6409383779106734\n",
      "train_f1_score = 0.6579797905267529\n"
     ]
    },
    {
     "name": "stderr",
     "output_type": "stream",
     "text": [
      "\n"
     ]
    }
   ],
   "source": [
    "run_local(net=model, training_loaders=training_dl, fl_round=r, learning_rate=lr, client=2)"
   ]
  },
  {
   "cell_type": "code",
   "execution_count": 33,
   "metadata": {},
   "outputs": [
    {
     "name": "stderr",
     "output_type": "stream",
     "text": [
      "Training...: 100%|████████████████████████████████████████████████████████████████████| 321/321 [08:18<00:00,  1.55s/it]"
     ]
    },
    {
     "name": "stdout",
     "output_type": "stream",
     "text": [
      "train_loss = 0.6609314895493219\n",
      "train_accuracy = 0.7255538248528902\n",
      "train_precision = 0.6666802844262496\n",
      "train_recall = 0.6018240980350529\n",
      "train_f1_score = 0.6325942052704262\n"
     ]
    },
    {
     "name": "stderr",
     "output_type": "stream",
     "text": [
      "\n"
     ]
    }
   ],
   "source": [
    "run_local(net=model, training_loaders=training_dl, fl_round=r, learning_rate=lr, client=3)"
   ]
  },
  {
   "cell_type": "code",
   "execution_count": 32,
   "metadata": {},
   "outputs": [
    {
     "data": {
      "text/plain": [
       "<All keys matched successfully>"
      ]
     },
     "execution_count": 32,
     "metadata": {},
     "output_type": "execute_result"
    }
   ],
   "source": [
    "model.load_state_dict(initial_state_dict)"
   ]
  },
  {
   "cell_type": "code",
   "execution_count": null,
   "metadata": {},
   "outputs": [],
   "source": [
    "torch.cuda.empty_cache()"
   ]
  },
  {
   "cell_type": "markdown",
   "metadata": {},
   "source": [
    "### Model saving"
   ]
  },
  {
   "cell_type": "code",
   "execution_count": 25,
   "metadata": {},
   "outputs": [],
   "source": [
    "def fed_avg(global_model, model_state_dicts):\n",
    "    ds_lengths = [len(ds) for ds in training_ds]\n",
    "    total_samples = sum(ds_lengths)\n",
    "    weights = [l / total_samples for l in ds_lengths]\n",
    "    \n",
    "    global_dict = global_model.state_dict()\n",
    "    \n",
    "    for k in global_dict.keys():\n",
    "        global_dict[k] = torch.zeros_like(global_dict[k])\n",
    "        \n",
    "        for i in range(len(model_state_dicts)):\n",
    "            global_dict[k] += model_state_dicts[i][k] * weights[i]\n",
    "            \n",
    "    global_model.load_state_dict(global_dict)\n",
    "    \n",
    "    return global_model"
   ]
  },
  {
   "cell_type": "code",
   "execution_count": 26,
   "metadata": {},
   "outputs": [],
   "source": [
    "local_state_dicts = [torch.load(f\"model/partition_c{i}_r{r}.pth\")[\"model_state_dict\"] for i in range(num_partitions)]\n",
    "model = fed_avg(model, local_state_dicts)"
   ]
  },
  {
   "cell_type": "code",
   "execution_count": 25,
   "metadata": {},
   "outputs": [
    {
     "ename": "FileNotFoundError",
     "evalue": "[Errno 2] No such file or directory: 'model/partition_c0_r8.pth'",
     "output_type": "error",
     "traceback": [
      "\u001b[0;31m---------------------------------------------------------------------------\u001b[0m",
      "\u001b[0;31mFileNotFoundError\u001b[0m                         Traceback (most recent call last)",
      "Cell \u001b[0;32mIn[25], line 1\u001b[0m\n\u001b[0;32m----> 1\u001b[0m [torch\u001b[38;5;241m.\u001b[39mload(\u001b[38;5;124mf\u001b[39m\u001b[38;5;124m\"\u001b[39m\u001b[38;5;124mmodel/partition_c\u001b[39m\u001b[38;5;132;01m{\u001b[39;00mi\u001b[38;5;132;01m}\u001b[39;00m\u001b[38;5;124m_r\u001b[39m\u001b[38;5;132;01m{\u001b[39;00mr\u001b[38;5;132;01m}\u001b[39;00m\u001b[38;5;124m.pth\u001b[39m\u001b[38;5;124m\"\u001b[39m)[\u001b[38;5;124m\"\u001b[39m\u001b[38;5;124mtrain\u001b[39m\u001b[38;5;124m\"\u001b[39m] \u001b[38;5;28;01mfor\u001b[39;00m i \u001b[38;5;129;01min\u001b[39;00m \u001b[38;5;28mrange\u001b[39m(num_partitions)]\n",
      "Cell \u001b[0;32mIn[25], line 1\u001b[0m, in \u001b[0;36m<listcomp>\u001b[0;34m(.0)\u001b[0m\n\u001b[0;32m----> 1\u001b[0m [\u001b[43mtorch\u001b[49m\u001b[38;5;241;43m.\u001b[39;49m\u001b[43mload\u001b[49m\u001b[43m(\u001b[49m\u001b[38;5;124;43mf\u001b[39;49m\u001b[38;5;124;43m\"\u001b[39;49m\u001b[38;5;124;43mmodel/partition_c\u001b[39;49m\u001b[38;5;132;43;01m{\u001b[39;49;00m\u001b[43mi\u001b[49m\u001b[38;5;132;43;01m}\u001b[39;49;00m\u001b[38;5;124;43m_r\u001b[39;49m\u001b[38;5;132;43;01m{\u001b[39;49;00m\u001b[43mr\u001b[49m\u001b[38;5;132;43;01m}\u001b[39;49;00m\u001b[38;5;124;43m.pth\u001b[39;49m\u001b[38;5;124;43m\"\u001b[39;49m\u001b[43m)\u001b[49m[\u001b[38;5;124m\"\u001b[39m\u001b[38;5;124mtrain\u001b[39m\u001b[38;5;124m\"\u001b[39m] \u001b[38;5;28;01mfor\u001b[39;00m i \u001b[38;5;129;01min\u001b[39;00m \u001b[38;5;28mrange\u001b[39m(num_partitions)]\n",
      "File \u001b[0;32m~/.local/lib/python3.10/site-packages/torch/serialization.py:771\u001b[0m, in \u001b[0;36mload\u001b[0;34m(f, map_location, pickle_module, weights_only, **pickle_load_args)\u001b[0m\n\u001b[1;32m    768\u001b[0m \u001b[38;5;28;01mif\u001b[39;00m \u001b[38;5;124m'\u001b[39m\u001b[38;5;124mencoding\u001b[39m\u001b[38;5;124m'\u001b[39m \u001b[38;5;129;01mnot\u001b[39;00m \u001b[38;5;129;01min\u001b[39;00m pickle_load_args\u001b[38;5;241m.\u001b[39mkeys():\n\u001b[1;32m    769\u001b[0m     pickle_load_args[\u001b[38;5;124m'\u001b[39m\u001b[38;5;124mencoding\u001b[39m\u001b[38;5;124m'\u001b[39m] \u001b[38;5;241m=\u001b[39m \u001b[38;5;124m'\u001b[39m\u001b[38;5;124mutf-8\u001b[39m\u001b[38;5;124m'\u001b[39m\n\u001b[0;32m--> 771\u001b[0m \u001b[38;5;28;01mwith\u001b[39;00m \u001b[43m_open_file_like\u001b[49m\u001b[43m(\u001b[49m\u001b[43mf\u001b[49m\u001b[43m,\u001b[49m\u001b[43m \u001b[49m\u001b[38;5;124;43m'\u001b[39;49m\u001b[38;5;124;43mrb\u001b[39;49m\u001b[38;5;124;43m'\u001b[39;49m\u001b[43m)\u001b[49m \u001b[38;5;28;01mas\u001b[39;00m opened_file:\n\u001b[1;32m    772\u001b[0m     \u001b[38;5;28;01mif\u001b[39;00m _is_zipfile(opened_file):\n\u001b[1;32m    773\u001b[0m         \u001b[38;5;66;03m# The zipfile reader is going to advance the current file position.\u001b[39;00m\n\u001b[1;32m    774\u001b[0m         \u001b[38;5;66;03m# If we want to actually tail call to torch.jit.load, we need to\u001b[39;00m\n\u001b[1;32m    775\u001b[0m         \u001b[38;5;66;03m# reset back to the original position.\u001b[39;00m\n\u001b[1;32m    776\u001b[0m         orig_position \u001b[38;5;241m=\u001b[39m opened_file\u001b[38;5;241m.\u001b[39mtell()\n",
      "File \u001b[0;32m~/.local/lib/python3.10/site-packages/torch/serialization.py:270\u001b[0m, in \u001b[0;36m_open_file_like\u001b[0;34m(name_or_buffer, mode)\u001b[0m\n\u001b[1;32m    268\u001b[0m \u001b[38;5;28;01mdef\u001b[39;00m \u001b[38;5;21m_open_file_like\u001b[39m(name_or_buffer, mode):\n\u001b[1;32m    269\u001b[0m     \u001b[38;5;28;01mif\u001b[39;00m _is_path(name_or_buffer):\n\u001b[0;32m--> 270\u001b[0m         \u001b[38;5;28;01mreturn\u001b[39;00m \u001b[43m_open_file\u001b[49m\u001b[43m(\u001b[49m\u001b[43mname_or_buffer\u001b[49m\u001b[43m,\u001b[49m\u001b[43m \u001b[49m\u001b[43mmode\u001b[49m\u001b[43m)\u001b[49m\n\u001b[1;32m    271\u001b[0m     \u001b[38;5;28;01melse\u001b[39;00m:\n\u001b[1;32m    272\u001b[0m         \u001b[38;5;28;01mif\u001b[39;00m \u001b[38;5;124m'\u001b[39m\u001b[38;5;124mw\u001b[39m\u001b[38;5;124m'\u001b[39m \u001b[38;5;129;01min\u001b[39;00m mode:\n",
      "File \u001b[0;32m~/.local/lib/python3.10/site-packages/torch/serialization.py:251\u001b[0m, in \u001b[0;36m_open_file.__init__\u001b[0;34m(self, name, mode)\u001b[0m\n\u001b[1;32m    250\u001b[0m \u001b[38;5;28;01mdef\u001b[39;00m \u001b[38;5;21m__init__\u001b[39m(\u001b[38;5;28mself\u001b[39m, name, mode):\n\u001b[0;32m--> 251\u001b[0m     \u001b[38;5;28msuper\u001b[39m(_open_file, \u001b[38;5;28mself\u001b[39m)\u001b[38;5;241m.\u001b[39m\u001b[38;5;21m__init__\u001b[39m(\u001b[38;5;28;43mopen\u001b[39;49m\u001b[43m(\u001b[49m\u001b[43mname\u001b[49m\u001b[43m,\u001b[49m\u001b[43m \u001b[49m\u001b[43mmode\u001b[49m\u001b[43m)\u001b[49m)\n",
      "\u001b[0;31mFileNotFoundError\u001b[0m: [Errno 2] No such file or directory: 'model/partition_c0_r8.pth'"
     ]
    }
   ],
   "source": [
    "[torch.load(f\"model/partition_c{i}_r{r}.pth\")[\"train\"] for i in range(num_partitions)]"
   ]
  },
  {
   "cell_type": "code",
   "execution_count": null,
   "metadata": {},
   "outputs": [],
   "source": [
    "[torch.load(f\"model/fedavg_r{i}.pth\")[\"test\"] for i in range(r)]"
   ]
  },
  {
   "cell_type": "code",
   "execution_count": 28,
   "metadata": {},
   "outputs": [
    {
     "name": "stderr",
     "output_type": "stream",
     "text": [
      "Evaluating...: 100%|██████████████████████████████████████████████████████████████████| 225/225 [01:28<00:00,  2.56it/s]"
     ]
    },
    {
     "name": "stdout",
     "output_type": "stream",
     "text": [
      "avg_loss = 0.9407069407569038\n",
      "avg_accuracy = 0.6116666666666667\n",
      "avg_precision = 0.692162483318495\n",
      "avg_recall = 0.6109205418605143\n",
      "f1_score = 0.6490089598187573\n"
     ]
    },
    {
     "name": "stderr",
     "output_type": "stream",
     "text": [
      "\n"
     ]
    }
   ],
   "source": [
    "eval_metrics = eval_centralized(model, validation_dl, r)"
   ]
  },
  {
   "cell_type": "code",
   "execution_count": 26,
   "metadata": {},
   "outputs": [
    {
     "data": {
      "text/plain": [
       "{'loss': 0.9407069407569038,\n",
       " 'accuracy': 0.6116666666666667,\n",
       " 'precision': 0.692162483318495,\n",
       " 'recall': 0.6109205418605143,\n",
       " 'f1_score': 0.6490089598187573}"
      ]
     },
     "execution_count": 26,
     "metadata": {},
     "output_type": "execute_result"
    }
   ],
   "source": [
    "checkpoint[\"test\"]"
   ]
  },
  {
   "cell_type": "code",
   "execution_count": 29,
   "metadata": {},
   "outputs": [],
   "source": [
    "torch.save({\n",
    "    \"round\": r,\n",
    "    \"model_state_dict\": model.state_dict(),\n",
    "    \"test\": eval_metrics,\n",
    "}, f\"model/fedavg_r{r}.pth\")"
   ]
  },
  {
   "cell_type": "markdown",
   "metadata": {},
   "source": [
    "### Evaluation Results"
   ]
  },
  {
   "cell_type": "code",
   "execution_count": 31,
   "metadata": {},
   "outputs": [],
   "source": [
    "client_losses = {i: [] for i in range(r)}\n",
    "server_losses = []"
   ]
  },
  {
   "cell_type": "code",
   "execution_count": 32,
   "metadata": {},
   "outputs": [],
   "source": [
    "client_accuracies = {i: [] for i in range(r)}\n",
    "server_accuracies = []"
   ]
  },
  {
   "cell_type": "code",
   "execution_count": 33,
   "metadata": {},
   "outputs": [],
   "source": [
    "client_f1_scores = {i: [] for i in range(r)}\n",
    "server_f1_scores = []"
   ]
  },
  {
   "cell_type": "code",
   "execution_count": 34,
   "metadata": {},
   "outputs": [
    {
     "name": "stdout",
     "output_type": "stream",
     "text": [
      "##### Round 0 #####\n",
      "--- Client 0 ---\n",
      "loss = 0.6773220574792056\n",
      "accuracy = 0.7340407754010695\n",
      "precision = 0.3715340427454513\n",
      "recall = 0.49578278814734444\n",
      "f1_score = 0.4247586972672561\n",
      "--- Client 1 ---\n",
      "loss = 1.0310326625077977\n",
      "accuracy = 0.5300859598853869\n",
      "precision = 0.3529028906584616\n",
      "recall = 0.41132294175464595\n",
      "f1_score = 0.37988000138914685\n",
      "--- Client 2 ---\n",
      "loss = 0.9445406579125483\n",
      "accuracy = 0.5616146218280365\n",
      "precision = 0.5099310326583972\n",
      "recall = 0.4739406988360384\n",
      "f1_score = 0.4912775969469356\n",
      "--- Client 3 ---\n",
      "loss = 0.9531857588580835\n",
      "accuracy = 0.5902958059305411\n",
      "precision = 0.21916860617894177\n",
      "recall = 0.3350036662169278\n",
      "f1_score = 0.2649800080114825\n",
      "--- Aggregated model ---\n",
      "loss = 1.1441355477439032\n",
      "accuracy = 0.36041666666666666\n",
      "precision = 0.2934341395397198\n",
      "recall = 0.3599711998814166\n",
      "f1_score = 0.3233148948242804\n",
      "##### Round 1 #####\n",
      "--- Client 0 ---\n",
      "loss = 0.5467096079479564\n",
      "accuracy = 0.7684659090909091\n",
      "precision = 0.669482653948331\n",
      "recall = 0.5779728592856301\n",
      "f1_score = 0.6203713072565138\n",
      "--- Client 1 ---\n",
      "loss = 0.9090444016934808\n",
      "accuracy = 0.5867060649474689\n",
      "precision = 0.40804547520737444\n",
      "recall = 0.46277810640756945\n",
      "f1_score = 0.43369177484709737\n",
      "--- Client 2 ---\n",
      "loss = 0.9233054693152265\n",
      "accuracy = 0.5712973228217131\n",
      "precision = 0.5286793291769357\n",
      "recall = 0.48053278579354103\n",
      "f1_score = 0.5034575924572314\n",
      "--- Client 3 ---\n",
      "loss = 0.8317455495257987\n",
      "accuracy = 0.6439439829237338\n",
      "precision = 0.4214869864896952\n",
      "recall = 0.3928904784404522\n",
      "f1_score = 0.4066866555364835\n",
      "--- Aggregated model ---\n",
      "loss = 1.087931186887953\n",
      "accuracy = 0.4801388888888889\n",
      "precision = 0.3608554686879067\n",
      "recall = 0.479337093387317\n",
      "f1_score = 0.4117423059936414\n",
      "##### Round 2 #####\n",
      "--- Client 0 ---\n",
      "loss = 0.4874931802166337\n",
      "accuracy = 0.8018048128342246\n",
      "precision = 0.7667943234521165\n",
      "recall = 0.6711405655088336\n",
      "f1_score = 0.7157859230225447\n",
      "--- Client 1 ---\n",
      "loss = 0.8247081394865041\n",
      "accuracy = 0.630263053167781\n",
      "precision = 0.564176754312026\n",
      "recall = 0.5366411847099704\n",
      "f1_score = 0.5500645857730373\n",
      "--- Client 2 ---\n",
      "loss = 0.8356677128576122\n",
      "accuracy = 0.6387118132544962\n",
      "precision = 0.6326034658087563\n",
      "recall = 0.5858266345971761\n",
      "f1_score = 0.6083171439802507\n",
      "--- Client 3 ---\n",
      "loss = 0.7527528015252586\n",
      "accuracy = 0.6887187031268028\n",
      "precision = 0.5724686495362945\n",
      "recall = 0.49713461734038356\n",
      "f1_score = 0.5321486794961421\n",
      "--- Aggregated model ---\n",
      "loss = 1.016539051797655\n",
      "accuracy = 0.5288888888888889\n",
      "precision = 0.5697073943813313\n",
      "recall = 0.5291233834391729\n",
      "f1_score = 0.5486659277660074\n",
      "##### Round 3 #####\n",
      "--- Client 0 ---\n",
      "loss = 0.4607669762908456\n",
      "accuracy = 0.8101604278074866\n",
      "precision = 0.7736494202994704\n",
      "recall = 0.6927039048006021\n",
      "f1_score = 0.730942488709659\n",
      "--- Client 1 ---\n",
      "loss = 0.7880946650546055\n",
      "accuracy = 0.6464899713467048\n",
      "precision = 0.6095364769971283\n",
      "recall = 0.5787553094754873\n",
      "f1_score = 0.593747219995955\n",
      "--- Client 2 ---\n",
      "loss = 0.7914713560345432\n",
      "accuracy = 0.6566760080479592\n",
      "precision = 0.653110398273974\n",
      "recall = 0.6107182527162551\n",
      "f1_score = 0.631203353321957\n",
      "--- Client 3 ---\n",
      "loss = 0.7186965610008003\n",
      "accuracy = 0.6991533979462328\n",
      "precision = 0.6182640898504448\n",
      "recall = 0.5377855152840567\n",
      "f1_score = 0.5752235382722449\n",
      "--- Aggregated model ---\n",
      "loss = 0.9900925188594394\n",
      "accuracy = 0.5615277777777777\n",
      "precision = 0.645662799538284\n",
      "recall = 0.5617748659117768\n",
      "f1_score = 0.6008047338818814\n",
      "##### Round 4 #####\n",
      "--- Client 0 ---\n",
      "loss = 0.4459088802895444\n",
      "accuracy = 0.8114973262032086\n",
      "precision = 0.7715560565084283\n",
      "recall = 0.6942837352950297\n",
      "f1_score = 0.7308831754978027\n",
      "--- Client 1 ---\n",
      "loss = 0.7651673118159559\n",
      "accuracy = 0.6638411333970072\n",
      "precision = 0.6358976949691985\n",
      "recall = 0.6065584544601859\n",
      "f1_score = 0.6208816677070723\n",
      "--- Client 2 ---\n",
      "loss = 0.7717993270663623\n",
      "accuracy = 0.6680216802168022\n",
      "precision = 0.6605031042460016\n",
      "recall = 0.62413838051645\n",
      "f1_score = 0.6418060489248755\n",
      "--- Client 3 ---\n",
      "loss = 0.6972299100268295\n",
      "accuracy = 0.709180656513211\n",
      "precision = 0.6434309599275106\n",
      "recall = 0.56922814982505\n",
      "f1_score = 0.6040593138073679\n",
      "--- Aggregated model ---\n",
      "loss = 0.9770527217123244\n",
      "accuracy = 0.57625\n",
      "precision = 0.6660695584633898\n",
      "recall = 0.575388059576398\n",
      "f1_score = 0.6174169222019712\n",
      "##### Round 5 #####\n",
      "--- Client 0 ---\n",
      "loss = 0.433390962806615\n",
      "accuracy = 0.8180147058823529\n",
      "precision = 0.7841302964210848\n",
      "recall = 0.7092429545939996\n",
      "f1_score = 0.7448089589690144\n",
      "--- Client 1 ---\n",
      "loss = 0.7482962734719744\n",
      "accuracy = 0.6703876154091054\n",
      "precision = 0.6406636812604694\n",
      "recall = 0.6155046533759043\n",
      "f1_score = 0.6278322199212324\n",
      "--- Client 2 ---\n",
      "loss = 0.7559157372710446\n",
      "accuracy = 0.6775888971010923\n",
      "precision = 0.6702746071267818\n",
      "recall = 0.6306674696631999\n",
      "f1_score = 0.6498681194157194\n",
      "--- Client 3 ---\n",
      "loss = 0.6853478428359344\n",
      "accuracy = 0.7158799180800738\n",
      "precision = 0.6594885362888557\n",
      "recall = 0.584932283235927\n",
      "f1_score = 0.6199769872809936\n",
      "--- Aggregated model ---\n",
      "loss = 0.9444686828719245\n",
      "accuracy = 0.5969444444444445\n",
      "precision = 0.680638775227012\n",
      "recall = 0.5956956241976881\n",
      "f1_score = 0.6353406133138157\n",
      "##### Round 6 #####\n",
      "--- Client 0 ---\n",
      "loss = 0.4242021475325931\n",
      "accuracy = 0.8252840909090909\n",
      "precision = 0.7866105291346052\n",
      "recall = 0.7133685446274504\n",
      "f1_score = 0.748201382503283\n",
      "--- Client 1 ---\n",
      "loss = 0.7342902887345727\n",
      "accuracy = 0.680018306271888\n",
      "precision = 0.6496401733217013\n",
      "recall = 0.6292657100778714\n",
      "f1_score = 0.6392906472112464\n",
      "--- Client 2 ---\n",
      "loss = 0.7454704931728592\n",
      "accuracy = 0.6824263981276176\n",
      "precision = 0.6761258085834471\n",
      "recall = 0.6354305405074079\n",
      "f1_score = 0.6551468235383097\n",
      "--- Client 3 ---\n",
      "loss = 0.6705799451869596\n",
      "accuracy = 0.7238808122764508\n",
      "precision = 0.6624973374487575\n",
      "recall = 0.600320183413296\n",
      "f1_score = 0.6298780568970314\n",
      "--- Aggregated model ---\n",
      "loss = 0.952047487894694\n",
      "accuracy = 0.6004166666666667\n",
      "precision = 0.6788128824151812\n",
      "recall = 0.5988810601609018\n",
      "f1_score = 0.6363467261213437\n",
      "##### Round 7 #####\n",
      "--- Client 0 ---\n",
      "loss = 0.4132215520516436\n",
      "accuracy = 0.8231116310160428\n",
      "precision = 0.7855905173515209\n",
      "recall = 0.7155787697077222\n",
      "f1_score = 0.7489520345859156\n",
      "--- Client 1 ---\n",
      "loss = 0.7245451486042372\n",
      "accuracy = 0.6827443489334607\n",
      "precision = 0.6573207212042763\n",
      "recall = 0.6366553576270656\n",
      "f1_score = 0.6468230219710811\n",
      "--- Client 2 ---\n",
      "loss = 0.7372351671401783\n",
      "accuracy = 0.684920854890367\n",
      "precision = 0.6759521573231091\n",
      "recall = 0.6409383779106734\n",
      "f1_score = 0.6579797905267529\n",
      "--- Client 3 ---\n",
      "loss = 0.6609314895493219\n",
      "accuracy = 0.7255538248528902\n",
      "precision = 0.6666802844262496\n",
      "recall = 0.6018240980350529\n",
      "f1_score = 0.6325942052704262\n",
      "--- Aggregated model ---\n",
      "loss = 0.9407069407569038\n",
      "accuracy = 0.6116666666666667\n",
      "precision = 0.692162483318495\n",
      "recall = 0.6109205418605143\n",
      "f1_score = 0.6490089598187573\n"
     ]
    }
   ],
   "source": [
    "for fl_round in range(r):\n",
    "    print(f\"##### Round {fl_round} #####\")\n",
    "\n",
    "    for client in range(num_partitions):\n",
    "        print(f\"--- Client {client} ---\")\n",
    "\n",
    "        with open(f\"model/dirichlet/dirich_partition_c{client}_r{fl_round}.json\") as json_data:\n",
    "            train_metrics = json.load(json_data)[\"train\"]\n",
    "\n",
    "            client_losses[client].append(train_metrics[\"loss\"])\n",
    "            client_accuracies[client].append(train_metrics[\"accuracy\"])\n",
    "            client_f1_scores[client].append(train_metrics[\"f1_score\"])\n",
    "        \n",
    "            for metric in train_metrics:\n",
    "                print(f\"{metric} = {train_metrics[metric]}\")\n",
    "\n",
    "    print(\"--- Aggregated model ---\")\n",
    "\n",
    "    with open(f\"model/dirichlet/dirich_fedavg_r{fl_round}.json\") as json_data:\n",
    "        test_metrics = json.load(json_data)[\"test\"]\n",
    "\n",
    "        server_losses.append(test_metrics[\"loss\"])\n",
    "        server_accuracies.append(test_metrics[\"accuracy\"])\n",
    "        server_f1_scores.append(test_metrics[\"f1_score\"])\n",
    "    \n",
    "        for metric in test_metrics:\n",
    "            print(f\"{metric} = {test_metrics[metric]}\")"
   ]
  },
  {
   "cell_type": "code",
   "execution_count": 26,
   "metadata": {},
   "outputs": [],
   "source": [
    "pth_files = [f for f in os.listdir(\"model\") if f.endswith('.pth')]"
   ]
  },
  {
   "cell_type": "code",
   "execution_count": 27,
   "metadata": {},
   "outputs": [],
   "source": [
    "for pth in pth_files:\n",
    "    pth_data = torch.load(f\"model/{pth}\")\n",
    "    del pth_data[\"model_state_dict\"]\n",
    "\n",
    "    with open(f\"model/dirich_{pth.removesuffix('.pth')}.json\", \"w\", encoding=\"utf-8\") as json_file:\n",
    "        json.dump(pth_data, json_file, indent=4)"
   ]
  },
  {
   "cell_type": "code",
   "execution_count": 28,
   "metadata": {},
   "outputs": [],
   "source": [
    "epoch_rng = range(1, r + 1)"
   ]
  },
  {
   "cell_type": "code",
   "execution_count": 35,
   "metadata": {},
   "outputs": [
    {
     "data": {
      "image/png": "[encoded data removed]",
      "text/plain": [
       "<Figure size 640x480 with 1 Axes>"
      ]
     },
     "metadata": {},
     "output_type": "display_data"
    }
   ],
   "source": [
    "plt.plot(epoch_rng, client_losses[0], label=\"Client 0\", color=\"yellow\")\n",
    "plt.plot(epoch_rng, client_losses[1], label=\"Client 1\", color=\"orange\")\n",
    "plt.plot(epoch_rng, client_losses[2], label=\"Client 2\", color=\"green\")\n",
    "plt.plot(epoch_rng, client_losses[3], label=\"Client 3\", color=\"blue\")\n",
    "plt.plot(epoch_rng, server_losses, label=\"FedAvg\", color=\"red\")\n",
    "\n",
    "plt.xlabel(\"Epoch\")\n",
    "plt.ylabel(\"Value\")\n",
    "\n",
    "plt.title(\"Model Loss Evaluation\")\n",
    "plt.legend()\n",
    "plt.show()"
   ]
  },
  {
   "cell_type": "code",
   "execution_count": 36,
   "metadata": {},
   "outputs": [
    {
     "data": {
      "image/png": "[encoded data removed]",
      "text/plain": [
       "<Figure size 640x480 with 1 Axes>"
      ]
     },
     "metadata": {},
     "output_type": "display_data"
    }
   ],
   "source": [
    "plt.plot(epoch_rng, client_accuracies[0], label=\"Client 0\", color=\"yellow\")\n",
    "plt.plot(epoch_rng, client_accuracies[1], label=\"Client 1\", color=\"orange\")\n",
    "plt.plot(epoch_rng, client_accuracies[2], label=\"Client 2\", color=\"green\")\n",
    "plt.plot(epoch_rng, client_accuracies[3], label=\"Client 3\", color=\"blue\")\n",
    "plt.plot(epoch_rng, server_accuracies, label=\"FedAvg\", color=\"red\")\n",
    "\n",
    "plt.xlabel(\"Epoch\")\n",
    "plt.ylabel(\"Value\")\n",
    "\n",
    "plt.title(\"Model Accuracy Evaluation\")\n",
    "plt.legend()\n",
    "plt.show()"
   ]
  },
  {
   "cell_type": "code",
   "execution_count": 37,
   "metadata": {},
   "outputs": [
    {
     "data": {
      "image/png": "[encoded data removed]",
      "text/plain": [
       "<Figure size 640x480 with 1 Axes>"
      ]
     },
     "metadata": {},
     "output_type": "display_data"
    }
   ],
   "source": [
    "plt.plot(epoch_rng, client_f1_scores[0], label=\"Client 0\", color=\"yellow\")\n",
    "plt.plot(epoch_rng, client_f1_scores[1], label=\"Client 1\", color=\"orange\")\n",
    "plt.plot(epoch_rng, client_f1_scores[2], label=\"Client 2\", color=\"green\")\n",
    "plt.plot(epoch_rng, client_f1_scores[3], label=\"Client 3\", color=\"blue\")\n",
    "plt.plot(epoch_rng, server_f1_scores, label=\"FedAvg\", color=\"red\")\n",
    "\n",
    "plt.xlabel(\"Epoch\")\n",
    "plt.ylabel(\"Value\")\n",
    "\n",
    "plt.title(\"Model F-Score Evaluation\")\n",
    "plt.legend()\n",
    "plt.show()"
   ]
  }
 ],
 "metadata": {
  "colab": {
   "provenance": [],
   "toc_visible": true
  },
  "kernelspec": {
   "display_name": "Python 3 (ipykernel)",
   "language": "python",
   "name": "python3"
  },
  "language_info": {
   "codemirror_mode": {
    "name": "ipython",
    "version": 3
   },
   "file_extension": ".py",
   "mimetype": "text/x-python",
   "name": "python",
   "nbconvert_exporter": "python",
   "pygments_lexer": "ipython3",
   "version": "3.10.12"
  }
 },
 "nbformat": 4,
 "nbformat_minor": 4
}
