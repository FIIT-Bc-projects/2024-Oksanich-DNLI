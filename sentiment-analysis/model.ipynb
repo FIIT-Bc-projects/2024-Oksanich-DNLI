{
 "cells": [
  {
   "cell_type": "code",
   "execution_count": null,
   "metadata": {},
   "outputs": [],
   "source": [
    "!pip install -q \"flwr[simulation]\" flwr-datasets"
   ]
  },
  {
   "cell_type": "code",
   "execution_count": null,
   "metadata": {},
   "outputs": [],
   "source": [
    "!pip install transformers"
   ]
  },
  {
   "cell_type": "code",
   "execution_count": null,
   "metadata": {
    "colab": {
     "base_uri": "https://localhost:8080/"
    },
    "outputId": "7192138a-8c87-4d9a-f726-af1038ad264c"
   },
   "outputs": [],
   "source": "!pip install torch==1.13.1+cpu torchvision==0.14.1+cpu --extra-index-url https://download.pytorch.org/whl/cpu"
  },
  {
   "cell_type": "code",
   "execution_count": null,
   "metadata": {
    "colab": {
     "base_uri": "https://localhost:8080/"
    },
    "outputId": "58b7af77-609f-4118-bd5b-5629a4b5a296"
   },
   "outputs": [],
   "source": [
    "!pip install matplotlib"
   ]
  },
  {
   "metadata": {
    "ExecuteTime": {
     "end_time": "2024-10-16T14:50:53.868434Z",
     "start_time": "2024-10-16T14:50:51.054252Z"
    }
   },
   "cell_type": "code",
   "source": [
    "import numpy as np\n",
    "import pandas as pd\n",
    "import torch\n",
    "import torch.nn as nn\n",
    "import transformers\n",
    "import tqdm\n",
    "\n",
    "from datasets import Dataset, DatasetDict\n",
    "from torch.utils.data import DataLoader"
   ],
   "outputs": [],
   "execution_count": 3
  },
  {
   "cell_type": "code",
   "metadata": {
    "ExecuteTime": {
     "end_time": "2024-10-16T14:44:50.422183Z",
     "start_time": "2024-10-16T14:44:43.170400Z"
    }
   },
   "source": [
    "label_mapping = {\n",
    "    \"Negative\": 0,\n",
    "    \"Neutral\": 1,\n",
    "    \"Positive\": 2,\n",
    "}\n",
    "\n",
    "df_training = pd.read_csv(\"data/twitter_training.csv\", names=[\"tweet_id\", \"entity\", \"label\", \"text\"])\n",
    "df_training = df_training[df_training.label != \"Irrelevant\"].drop(columns=[\"tweet_id\", \"entity\"]).dropna()\n",
    "df_training[\"label\"] = df_training[\"label\"].apply(lambda l: label_mapping[str(l)])\n",
    "dataset_training = Dataset.from_pandas(df_training, preserve_index=False)\n",
    "\n",
    "df_validation = pd.read_csv(\"data/twitter_validation.csv\", names=[\"tweet_id\", \"entity\", \"label\", \"text\"])\n",
    "df_validation = df_validation[df_validation.label != \"Irrelevant\"].drop(columns=[\"tweet_id\", \"entity\"]).dropna()\n",
    "df_validation[\"label\"] = df_validation[\"label\"].apply(lambda l: label_mapping[l])\n",
    "dataset_validation = Dataset.from_pandas(df_validation, preserve_index=False)\n"
   ],
   "outputs": [],
   "execution_count": 1
  },
  {
   "cell_type": "code",
   "metadata": {
    "ExecuteTime": {
     "end_time": "2024-10-16T14:45:08.178266Z",
     "start_time": "2024-10-16T14:44:54.277461Z"
    }
   },
   "source": [
    "tokenizer = transformers.AutoTokenizer.from_pretrained(\"bert-base-uncased\")\n",
    "\n",
    "pad = tokenizer.pad_token_id\n",
    "\n",
    "dataset_training = dataset_training.map(lambda s, t: {\"ids\": t(s[\"text\"], truncation=True)[\"input_ids\"] }, fn_kwargs={\"t\": tokenizer})\n",
    "dataset_validation = dataset_validation.map(lambda s, t: {\"ids\": t(s[\"text\"], truncation=True)[\"input_ids\"] }, fn_kwargs={\"t\": tokenizer})\n",
    "\n",
    "dataset_training = dataset_training.with_format(type=\"torch\", columns=[\"ids\", \"label\"])\n",
    "dataset_validation = dataset_validation.with_format(type=\"torch\", columns=[\"ids\", \"label\"])\n",
    "\n",
    "dataset_dict = DatasetDict({\n",
    "    \"train\": dataset_training,\n",
    "    \"test\": dataset_validation\n",
    "})\n",
    "\n",
    "dataset_dict"
   ],
   "outputs": [
    {
     "data": {
      "text/plain": [
       "Map:   0%|          | 0/61121 [00:00<?, ? examples/s]"
      ],
      "application/vnd.jupyter.widget-view+json": {
       "version_major": 2,
       "version_minor": 0,
       "model_id": "ebe8bf84b84a409d911a4c11a0596a62"
      }
     },
     "metadata": {},
     "output_type": "display_data"
    },
    {
     "data": {
      "text/plain": [
       "Map:   0%|          | 0/828 [00:00<?, ? examples/s]"
      ],
      "application/vnd.jupyter.widget-view+json": {
       "version_major": 2,
       "version_minor": 0,
       "model_id": "ecb04fb3ed5244b7bd8b072f2bcac410"
      }
     },
     "metadata": {},
     "output_type": "display_data"
    },
    {
     "data": {
      "text/plain": [
       "DatasetDict({\n",
       "    train: Dataset({\n",
       "        features: ['label', 'text', 'ids'],\n",
       "        num_rows: 61121\n",
       "    })\n",
       "    test: Dataset({\n",
       "        features: ['label', 'text', 'ids'],\n",
       "        num_rows: 828\n",
       "    })\n",
       "})"
      ]
     },
     "execution_count": 2,
     "metadata": {},
     "output_type": "execute_result"
    }
   ],
   "execution_count": 2
  },
  {
   "cell_type": "code",
   "metadata": {
    "colab": {
     "base_uri": "https://localhost:8080/"
    },
    "outputId": "f10b649f-3cee-4e86-c7ff-94bd1fd3e082",
    "ExecuteTime": {
     "end_time": "2024-10-16T14:45:20.178640Z",
     "start_time": "2024-10-16T14:45:20.169742Z"
    }
   },
   "source": [
    "def get_dataloader(ds, batch_size, pad_index, shuffle=False):\n",
    "    def collate_fn(batch):\n",
    "        batch_ids = nn.utils.rnn.pad_sequence([i[\"ids\"] for i in batch], padding_value=pad_index, batch_first=True)\n",
    "        \n",
    "        batch_label = [i[\"label\"] for i in batch]\n",
    "        batch_label = torch.stack(batch_label)\n",
    "        \n",
    "        return {\n",
    "            \"ids\": batch_ids,\n",
    "            \"label\": batch_label\n",
    "        }\n",
    "    \n",
    "    dl = torch.utils.data.DataLoader(\n",
    "        dataset=ds,\n",
    "        batch_size=batch_size,\n",
    "        collate_fn=collate_fn,\n",
    "        shuffle=shuffle,\n",
    "    )\n",
    "    \n",
    "    return dl\n",
    "\n",
    "trdl = get_dataloader(dataset_dict[\"train\"], 8, pad, shuffle=True)\n",
    "tsdl = get_dataloader(dataset_dict[\"test\"], 8, pad)"
   ],
   "outputs": [],
   "execution_count": 3
  },
  {
   "cell_type": "code",
   "metadata": {
    "ExecuteTime": {
     "end_time": "2024-10-16T14:50:57.230181Z",
     "start_time": "2024-10-16T14:50:57.223058Z"
    }
   },
   "source": [
    "class Transformer(nn.Module):\n",
    "    def __init__(self, transformer, num_classes, freeze):\n",
    "        super().__init__()\n",
    "        \n",
    "        self.transformer = transformer\n",
    "        \n",
    "        hidden_dim = transformer.config.hidden_size\n",
    "        \n",
    "        self.fc = nn.Linear(hidden_dim, num_classes)\n",
    "        \n",
    "        if freeze:\n",
    "            for param in self.transformer.parameters():\n",
    "                param.requires_grad = False\n",
    "\n",
    "    # ids: [batch size, seq len]\n",
    "    def forward(self, ids):\n",
    "        output = self.transformer(ids, output_attentions=True)\n",
    "        \n",
    "        # [batch size, seq len, hidden dim]\n",
    "        hidden_state = output.last_hidden_state\n",
    "        \n",
    "        # [batch size, n heads, seq len, seq len]\n",
    "        attention = output.attentions[-1]\n",
    "        \n",
    "        cls_hidden = hidden_state[:, 0, :]\n",
    "\n",
    "        # [batch size, output dim]\n",
    "        prediction = self.fc(torch.tanh(cls_hidden))\n",
    "        \n",
    "        return prediction"
   ],
   "outputs": [],
   "execution_count": 4
  },
  {
   "cell_type": "code",
   "metadata": {
    "colab": {
     "base_uri": "https://localhost:8080/"
    },
    "outputId": "67d01ab4-cdd9-4661-8f01-eaa9aabf786d",
    "ExecuteTime": {
     "end_time": "2024-10-16T14:51:11.813641Z",
     "start_time": "2024-10-16T14:51:10.449494Z"
    }
   },
   "source": [
    "tf = transformers.AutoModel.from_pretrained(\"bert-base-uncased\")\n",
    "\n",
    "model = Transformer(tf, num_classes=3, freeze=False)\n",
    "\n",
    "model.load_state_dict(torch.load(\"model/tf_model.pth\", weights_only=True))\n",
    "\n",
    "num_parameters = sum(value.numel() for value in model.state_dict().values())\n",
    "print(f\"{num_parameters = }\")\n",
    "\n",
    "criterion = torch.nn.CrossEntropyLoss()\n",
    "device = torch.device(\"cuda\" if torch.cuda.is_available() else \"cpu\")\n",
    "\n",
    "model = model.to(device)\n",
    "criterion = criterion.to(device)\n",
    "\n",
    "print(model)"
   ],
   "outputs": [
    {
     "name": "stdout",
     "output_type": "stream",
     "text": [
      "num_parameters = 109484547\n",
      "Transformer(\n",
      "  (transformer): BertModel(\n",
      "    (embeddings): BertEmbeddings(\n",
      "      (word_embeddings): Embedding(30522, 768, padding_idx=0)\n",
      "      (position_embeddings): Embedding(512, 768)\n",
      "      (token_type_embeddings): Embedding(2, 768)\n",
      "      (LayerNorm): LayerNorm((768,), eps=1e-12, elementwise_affine=True)\n",
      "      (dropout): Dropout(p=0.1, inplace=False)\n",
      "    )\n",
      "    (encoder): BertEncoder(\n",
      "      (layer): ModuleList(\n",
      "        (0-11): 12 x BertLayer(\n",
      "          (attention): BertAttention(\n",
      "            (self): BertSdpaSelfAttention(\n",
      "              (query): Linear(in_features=768, out_features=768, bias=True)\n",
      "              (key): Linear(in_features=768, out_features=768, bias=True)\n",
      "              (value): Linear(in_features=768, out_features=768, bias=True)\n",
      "              (dropout): Dropout(p=0.1, inplace=False)\n",
      "            )\n",
      "            (output): BertSelfOutput(\n",
      "              (dense): Linear(in_features=768, out_features=768, bias=True)\n",
      "              (LayerNorm): LayerNorm((768,), eps=1e-12, elementwise_affine=True)\n",
      "              (dropout): Dropout(p=0.1, inplace=False)\n",
      "            )\n",
      "          )\n",
      "          (intermediate): BertIntermediate(\n",
      "            (dense): Linear(in_features=768, out_features=3072, bias=True)\n",
      "            (intermediate_act_fn): GELUActivation()\n",
      "          )\n",
      "          (output): BertOutput(\n",
      "            (dense): Linear(in_features=3072, out_features=768, bias=True)\n",
      "            (LayerNorm): LayerNorm((768,), eps=1e-12, elementwise_affine=True)\n",
      "            (dropout): Dropout(p=0.1, inplace=False)\n",
      "          )\n",
      "        )\n",
      "      )\n",
      "    )\n",
      "    (pooler): BertPooler(\n",
      "      (dense): Linear(in_features=768, out_features=768, bias=True)\n",
      "      (activation): Tanh()\n",
      "    )\n",
      "  )\n",
      "  (fc): Linear(in_features=768, out_features=3, bias=True)\n",
      ")\n"
     ]
    }
   ],
   "execution_count": 6
  },
  {
   "cell_type": "code",
   "execution_count": 6,
   "metadata": {
    "ExecuteTime": {
     "end_time": "2024-10-10T11:00:12.945813Z",
     "start_time": "2024-10-10T11:00:12.935392Z"
    }
   },
   "outputs": [],
   "source": [
    "def get_accuracy(prediction, label):\n",
    "    batch_size, _ = prediction.shape\n",
    "    predicted_classes = prediction.argmax(dim=-1)\n",
    "    correct_predictions = predicted_classes.eq(label).sum()\n",
    "    accuracy = correct_predictions / batch_size\n",
    "    \n",
    "    return accuracy\n",
    "\n",
    "def train(net, dataloader, optimizer):\n",
    "    net.train()\n",
    "    \n",
    "    epoch_losses = []\n",
    "    epoch_accs = []\n",
    "    \n",
    "    for batch in tqdm.tqdm(dataloader, desc=\"Training...\"):\n",
    "        ids = batch[\"ids\"].to(device)\n",
    "        label = batch[\"label\"].to(device)\n",
    "        prediction = net(ids)\n",
    "        loss = criterion(prediction, label)\n",
    "        accuracy = get_accuracy(prediction, label)\n",
    "        optimizer.zero_grad()\n",
    "        loss.backward()\n",
    "        optimizer.step()\n",
    "        epoch_losses.append(loss.item())\n",
    "        epoch_accs.append(accuracy.item())\n",
    "        \n",
    "    return np.mean(epoch_losses), np.mean(epoch_accs)\n",
    "\n",
    "def test(net, dataloader):\n",
    "    net.eval()\n",
    "    \n",
    "    epoch_losses = []\n",
    "    epoch_accs = []\n",
    "    \n",
    "    with torch.no_grad():\n",
    "        for batch in tqdm.tqdm(dataloader, desc=\"Evaluating...\"):\n",
    "            ids = batch[\"ids\"].to(device)\n",
    "            label = batch[\"label\"].to(device)\n",
    "            prediction = net(ids)\n",
    "            loss = criterion(prediction, label)\n",
    "            accuracy = get_accuracy(prediction, label)\n",
    "            epoch_losses.append(loss.item())\n",
    "            epoch_accs.append(accuracy.item())\n",
    "            \n",
    "    return np.mean(epoch_losses), np.mean(epoch_accs)\n",
    "\n",
    "def run_centralised(trainloader, testloader, epochs: int, lr: float):\n",
    "    optimizer = torch.optim.Adam(model.parameters(), lr=lr)\n",
    "\n",
    "    for e in range(epochs):\n",
    "        print(f\"Training epoch {e} ...\")\n",
    "        \n",
    "        train(model, trainloader, optimizer)\n",
    "\n",
    "    loss, accuracy = test(model, testloader)\n",
    "    \n",
    "    print(f\"{loss = }\")\n",
    "    print(f\"{accuracy = }\")"
   ]
  },
  {
   "cell_type": "code",
   "execution_count": 7,
   "metadata": {
    "ExecuteTime": {
     "end_time": "2024-10-10T11:05:21.280347Z",
     "start_time": "2024-10-10T11:00:21.410957Z"
    },
    "colab": {
     "base_uri": "https://localhost:8080/"
    },
    "outputId": "e8d9b429-178d-4924-e82f-4d4e52863788"
   },
   "outputs": [
    {
     "name": "stdout",
     "output_type": "stream",
     "text": [
      "Training epoch 0 ...\n"
     ]
    },
    {
     "name": "stderr",
     "output_type": "stream",
     "text": [
      "training...:   0%|                                     | 0/7641 [00:00<?, ?it/s]We strongly recommend passing in an `attention_mask` since your input_ids may be padded. See https://huggingface.co/docs/transformers/troubleshooting#incorrect-output-when-padding-tokens-arent-masked.\n",
      "training...: 100%|████████████████████████| 7641/7641 [2:42:21<00:00,  1.27s/it]\n"
     ]
    },
    {
     "name": "stdout",
     "output_type": "stream",
     "text": [
      "Training epoch 1 ...\n"
     ]
    },
    {
     "name": "stderr",
     "output_type": "stream",
     "text": [
      "training...: 100%|████████████████████████| 7641/7641 [2:43:16<00:00,  1.28s/it]\n"
     ]
    },
    {
     "name": "stdout",
     "output_type": "stream",
     "text": [
      "Training epoch 2 ...\n"
     ]
    },
    {
     "name": "stderr",
     "output_type": "stream",
     "text": [
      "training...: 100%|████████████████████████| 7641/7641 [2:43:42<00:00,  1.29s/it]\n",
      "evaluating...: 100%|██████████████████████████| 104/104 [00:34<00:00,  3.01it/s]"
     ]
    },
    {
     "name": "stdout",
     "output_type": "stream",
     "text": [
      "loss = 0.08496077250478826\n",
      "accuracy = 0.9759615384615384\n"
     ]
    },
    {
     "name": "stderr",
     "output_type": "stream",
     "text": [
      "\n"
     ]
    }
   ],
   "source": "run_centralised(trdl, tsdl, epochs=3, lr=1e-5)"
  },
  {
   "cell_type": "code",
   "execution_count": 8,
   "metadata": {},
   "outputs": [],
   "source": "torch.save(model.state_dict(), \"model/tf_model.pth\")"
  },
  {
   "cell_type": "code",
   "execution_count": null,
   "metadata": {},
   "outputs": [],
   "source": []
  }
 ],
 "metadata": {
  "colab": {
   "provenance": [],
   "toc_visible": true
  },
  "kernelspec": {
   "display_name": "Python 3 (ipykernel)",
   "language": "python",
   "name": "python3"
  },
  "language_info": {
   "codemirror_mode": {
    "name": "ipython",
    "version": 3
   },
   "file_extension": ".py",
   "mimetype": "text/x-python",
   "name": "python",
   "nbconvert_exporter": "python",
   "pygments_lexer": "ipython3",
   "version": "3.10.12"
  }
 },
 "nbformat": 4,
 "nbformat_minor": 4
}
