{
 "cells": [
  {
   "cell_type": "markdown",
   "metadata": {},
   "source": [
    "## Library installation"
   ]
  },
  {
   "cell_type": "code",
   "execution_count": null,
   "metadata": {},
   "outputs": [],
   "source": [
    "!pip install -q \"flwr[simulation]\" flwr-datasets"
   ]
  },
  {
   "cell_type": "code",
   "execution_count": null,
   "metadata": {},
   "outputs": [],
   "source": [
    "!pip install transformers"
   ]
  },
  {
   "cell_type": "code",
   "execution_count": null,
   "metadata": {
    "colab": {
     "base_uri": "https://localhost:8080/"
    },
    "outputId": "7192138a-8c87-4d9a-f726-af1038ad264c"
   },
   "outputs": [],
   "source": [
    "!pip install torch==1.13.1+cpu torchvision==0.14.1+cpu --extra-index-url https://download.pytorch.org/whl/cpu"
   ]
  },
  {
   "cell_type": "code",
   "execution_count": null,
   "metadata": {
    "colab": {
     "base_uri": "https://localhost:8080/"
    },
    "outputId": "58b7af77-609f-4118-bd5b-5629a4b5a296"
   },
   "outputs": [],
   "source": [
    "!pip install matplotlib"
   ]
  },
  {
   "cell_type": "code",
   "execution_count": null,
   "metadata": {},
   "outputs": [],
   "source": [
    "!pip install scikit-learn"
   ]
  },
  {
   "cell_type": "markdown",
   "metadata": {},
   "source": [
    "## Imports"
   ]
  },
  {
   "cell_type": "code",
   "execution_count": 1,
   "metadata": {
    "ExecuteTime": {
     "end_time": "2024-10-17T21:47:36.634895Z",
     "start_time": "2024-10-17T21:47:35.908558Z"
    }
   },
   "outputs": [],
   "source": [
    "import matplotlib.pyplot as plt\n",
    "import numpy as np\n",
    "import pandas as pd\n",
    "import random\n",
    "\n",
    "import torch\n",
    "import torch.nn as nn\n",
    "\n",
    "import tqdm\n",
    "\n",
    "from datasets import Dataset, DatasetDict\n",
    "from flwr_datasets.partitioner import IidPartitioner\n",
    "\n",
    "from sklearn.metrics import accuracy_score, precision_score\n",
    "from sklearn.model_selection import train_test_split\n",
    "\n",
    "from torch.utils.data import DataLoader, Subset\n",
    "\n",
    "from transformers import AutoModel, AutoTokenizer"
   ]
  },
  {
   "cell_type": "markdown",
   "metadata": {},
   "source": [
    "## Data preprocessing"
   ]
  },
  {
   "cell_type": "code",
   "execution_count": 2,
   "metadata": {
    "ExecuteTime": {
     "end_time": "2024-10-17T21:17:00.168980Z",
     "start_time": "2024-10-17T21:17:00.157976Z"
    }
   },
   "outputs": [],
   "source": [
    "label_mapping = {\n",
    "    \"Negative\": 0,\n",
    "    \"Neutral\": 1,\n",
    "    \"Positive\": 2,\n",
    "}"
   ]
  },
  {
   "cell_type": "code",
   "execution_count": 3,
   "metadata": {
    "ExecuteTime": {
     "end_time": "2024-10-17T21:22:36.560218Z",
     "start_time": "2024-10-17T21:22:35.753677Z"
    }
   },
   "outputs": [],
   "source": [
    "training_data = pd.read_csv(\"data/twitter_training.csv\")\n",
    "training_data = training_data[training_data.label != \"Irrelevant\"].drop(columns=[\"tweet_id\", \"entity\"]).dropna()\n",
    "training_data[\"label\"] = training_data[\"label\"].map(label_mapping)\n",
    "training_ds = Dataset.from_pandas(training_data, preserve_index=False)\n",
    "\n",
    "validation_data = pd.read_csv(\"data/twitter_validation.csv\")\n",
    "validation_data = validation_data[validation_data.label != \"Irrelevant\"].drop(columns=[\"tweet_id\", \"entity\"]).dropna()\n",
    "validation_data[\"label\"] = validation_data[\"label\"].map(label_mapping)\n",
    "validation_ds = Dataset.from_pandas(validation_data, preserve_index=False)"
   ]
  },
  {
   "cell_type": "code",
   "execution_count": 4,
   "metadata": {
    "ExecuteTime": {
     "end_time": "2024-10-17T21:24:40.005598Z",
     "start_time": "2024-10-17T21:23:57.018099Z"
    }
   },
   "outputs": [],
   "source": [
    "tokenizer = AutoTokenizer.from_pretrained(\"distilbert-base-uncased\")"
   ]
  },
  {
   "cell_type": "code",
   "execution_count": 5,
   "metadata": {
    "ExecuteTime": {
     "end_time": "2024-10-17T21:24:40.005598Z",
     "start_time": "2024-10-17T21:23:57.018099Z"
    }
   },
   "outputs": [
    {
     "data": {
      "application/vnd.jupyter.widget-view+json": {
       "model_id": "f3ca29a184c443c38086bcafda5755c7",
       "version_major": 2,
       "version_minor": 0
      },
      "text/plain": [
       "Map:   0%|          | 0/47636 [00:00<?, ? examples/s]"
      ]
     },
     "metadata": {},
     "output_type": "display_data"
    },
    {
     "data": {
      "application/vnd.jupyter.widget-view+json": {
       "model_id": "cbb0c54f791540909a9d29f6aa5c3267",
       "version_major": 2,
       "version_minor": 0
      },
      "text/plain": [
       "Map:   0%|          | 0/11879 [00:00<?, ? examples/s]"
      ]
     },
     "metadata": {},
     "output_type": "display_data"
    }
   ],
   "source": [
    "training_ds = training_ds.map(\n",
    "    lambda s, tok: {\n",
    "        \"ids\": (encoded := tok(s[\"text\"], truncation=True, padding=True))[\"input_ids\"],\n",
    "        \"attention_mask\": encoded[\"attention_mask\"],\n",
    "    },\n",
    "    fn_kwargs={\"tok\": tokenizer},\n",
    ")\n",
    "validation_ds = validation_ds.map(\n",
    "    lambda s, tok: {\n",
    "        \"ids\": (encoded := tok(s[\"text\"], truncation=True, padding=True))[\"input_ids\"],\n",
    "        \"attention_mask\": encoded[\"attention_mask\"],\n",
    "    },\n",
    "    fn_kwargs={\"tok\": tokenizer},\n",
    ")"
   ]
  },
  {
   "cell_type": "code",
   "execution_count": 6,
   "metadata": {
    "ExecuteTime": {
     "end_time": "2024-10-17T21:24:40.005598Z",
     "start_time": "2024-10-17T21:23:57.018099Z"
    }
   },
   "outputs": [],
   "source": [
    "training_ds = training_ds.with_format(type=\"torch\", columns=[\"ids\", \"label\", \"attention_mask\"])\n",
    "validation_ds = validation_ds.with_format(type=\"torch\", columns=[\"ids\", \"label\", \"attention_mask\"])"
   ]
  },
  {
   "cell_type": "code",
   "execution_count": 7,
   "metadata": {
    "ExecuteTime": {
     "end_time": "2024-10-17T21:28:59.065437Z",
     "start_time": "2024-10-17T21:28:59.053432Z"
    }
   },
   "outputs": [
    {
     "data": {
      "text/plain": [
       "DatasetDict({\n",
       "    train: Dataset({\n",
       "        features: ['label', 'text', 'ids', 'attention_mask'],\n",
       "        num_rows: 47636\n",
       "    })\n",
       "    test: Dataset({\n",
       "        features: ['label', 'text', 'ids', 'attention_mask'],\n",
       "        num_rows: 11879\n",
       "    })\n",
       "})"
      ]
     },
     "execution_count": 7,
     "metadata": {},
     "output_type": "execute_result"
    }
   ],
   "source": [
    "DatasetDict({\"train\": training_ds, \"test\": validation_ds})"
   ]
  },
  {
   "cell_type": "code",
   "execution_count": 8,
   "metadata": {
    "ExecuteTime": {
     "end_time": "2024-10-16T14:45:20.178640Z",
     "start_time": "2024-10-16T14:45:20.169742Z"
    },
    "colab": {
     "base_uri": "https://localhost:8080/"
    },
    "outputId": "f10b649f-3cee-4e86-c7ff-94bd1fd3e082"
   },
   "outputs": [],
   "source": [
    "def get_data_loader(dataset: Dataset, batch_size: int, pad_index, shuffle=False) -> DataLoader:\n",
    "    def collate_fn(batch):\n",
    "        batch_ids = nn.utils.rnn.pad_sequence([i[\"ids\"] for i in batch], padding_value=pad_index, batch_first=True)\n",
    "        batch_label = torch.stack([i[\"label\"] for i in batch])\n",
    "        batch_mask = nn.utils.rnn.pad_sequence([i[\"attention_mask\"] for i in batch], padding_value=pad_index, batch_first=True)\n",
    "        \n",
    "        return {\n",
    "            \"ids\": batch_ids,\n",
    "            \"label\": batch_label,\n",
    "            \"attention_mask\": batch_mask,\n",
    "        }\n",
    "    \n",
    "    dl = DataLoader(\n",
    "        dataset=dataset,\n",
    "        batch_size=batch_size,\n",
    "        collate_fn=collate_fn,\n",
    "        shuffle=shuffle\n",
    "    )\n",
    "    \n",
    "    return dl\n",
    "\n",
    "training_dl = get_data_loader(training_ds, 32, tokenizer.pad_token_id, shuffle=True)\n",
    "validation_dl = get_data_loader(validation_ds, 32, tokenizer.pad_token_id)"
   ]
  },
  {
   "cell_type": "markdown",
   "metadata": {},
   "source": [
    "## Model definition"
   ]
  },
  {
   "cell_type": "code",
   "execution_count": 9,
   "metadata": {
    "ExecuteTime": {
     "end_time": "2024-10-16T14:50:57.230181Z",
     "start_time": "2024-10-16T14:50:57.223058Z"
    }
   },
   "outputs": [],
   "source": [
    "class Transformer(nn.Module):\n",
    "    def __init__(self, transformer, num_classes: int, freeze: bool):\n",
    "        super().__init__()\n",
    "        \n",
    "        self.transformer = transformer\n",
    "        self.fc = nn.Linear(transformer.config.hidden_size, num_classes)\n",
    "        self.dropout = nn.Dropout(0.3)\n",
    "        \n",
    "        if freeze:\n",
    "            for param in self.transformer.parameters():\n",
    "                param.requires_grad = False\n",
    "\n",
    "    \n",
    "    def forward(self, ids: torch.Tensor, attention_mask: torch.Tensor) -> tuple[torch.Tensor, torch.Tensor]:\n",
    "        output = self.transformer(ids, attention_mask=attention_mask, output_attentions=True)\n",
    "        pooled_mean = torch.mean(output.last_hidden_state, dim=1)\n",
    "        cls_hidden = self.dropout(pooled_mean)\n",
    "        prediction = self.fc(cls_hidden)\n",
    "\n",
    "        return prediction, output.attentions"
   ]
  },
  {
   "cell_type": "code",
   "execution_count": 10,
   "metadata": {},
   "outputs": [],
   "source": [
    "tf = AutoModel.from_pretrained(\"distilbert-base-uncased\")\n",
    "\n",
    "model = Transformer(tf, num_classes=3, freeze=False)"
   ]
  },
  {
   "cell_type": "markdown",
   "metadata": {},
   "source": [
    "## Loading from backup\n",
    "### Checkpoint loading"
   ]
  },
  {
   "cell_type": "code",
   "execution_count": null,
   "metadata": {},
   "outputs": [],
   "source": [
    "checkpoint = torch.load(\"model/checkpoint.pth\")"
   ]
  },
  {
   "cell_type": "code",
   "execution_count": null,
   "metadata": {},
   "outputs": [],
   "source": [
    "model.load_state_dict(checkpoint[\"model_state_dict\"])"
   ]
  },
  {
   "cell_type": "markdown",
   "metadata": {},
   "source": [
    "### Trained model loading"
   ]
  },
  {
   "cell_type": "code",
   "execution_count": null,
   "metadata": {},
   "outputs": [],
   "source": [
    "model.load_state_dict(torch.load(\"model/trained_model.pth\", weights_only=True))"
   ]
  },
  {
   "cell_type": "markdown",
   "metadata": {},
   "source": [
    "## Model configuration"
   ]
  },
  {
   "cell_type": "code",
   "execution_count": 11,
   "metadata": {},
   "outputs": [
    {
     "name": "stdout",
     "output_type": "stream",
     "text": [
      "num_parameters = 66365187\n"
     ]
    }
   ],
   "source": [
    "num_parameters = sum(value.numel() for value in model.state_dict().values())\n",
    "print(f\"{num_parameters = }\")"
   ]
  },
  {
   "cell_type": "code",
   "execution_count": 12,
   "metadata": {
    "ExecuteTime": {
     "end_time": "2024-10-16T14:51:11.813641Z",
     "start_time": "2024-10-16T14:51:10.449494Z"
    },
    "colab": {
     "base_uri": "https://localhost:8080/"
    },
    "outputId": "67d01ab4-cdd9-4661-8f01-eaa9aabf786d"
   },
   "outputs": [
    {
     "name": "stdout",
     "output_type": "stream",
     "text": [
      "Transformer(\n",
      "  (transformer): DistilBertModel(\n",
      "    (embeddings): Embeddings(\n",
      "      (word_embeddings): Embedding(30522, 768, padding_idx=0)\n",
      "      (position_embeddings): Embedding(512, 768)\n",
      "      (LayerNorm): LayerNorm((768,), eps=1e-12, elementwise_affine=True)\n",
      "      (dropout): Dropout(p=0.1, inplace=False)\n",
      "    )\n",
      "    (transformer): Transformer(\n",
      "      (layer): ModuleList(\n",
      "        (0): TransformerBlock(\n",
      "          (attention): MultiHeadSelfAttention(\n",
      "            (dropout): Dropout(p=0.1, inplace=False)\n",
      "            (q_lin): Linear(in_features=768, out_features=768, bias=True)\n",
      "            (k_lin): Linear(in_features=768, out_features=768, bias=True)\n",
      "            (v_lin): Linear(in_features=768, out_features=768, bias=True)\n",
      "            (out_lin): Linear(in_features=768, out_features=768, bias=True)\n",
      "          )\n",
      "          (sa_layer_norm): LayerNorm((768,), eps=1e-12, elementwise_affine=True)\n",
      "          (ffn): FFN(\n",
      "            (dropout): Dropout(p=0.1, inplace=False)\n",
      "            (lin1): Linear(in_features=768, out_features=3072, bias=True)\n",
      "            (lin2): Linear(in_features=3072, out_features=768, bias=True)\n",
      "            (activation): GELUActivation()\n",
      "          )\n",
      "          (output_layer_norm): LayerNorm((768,), eps=1e-12, elementwise_affine=True)\n",
      "        )\n",
      "        (1): TransformerBlock(\n",
      "          (attention): MultiHeadSelfAttention(\n",
      "            (dropout): Dropout(p=0.1, inplace=False)\n",
      "            (q_lin): Linear(in_features=768, out_features=768, bias=True)\n",
      "            (k_lin): Linear(in_features=768, out_features=768, bias=True)\n",
      "            (v_lin): Linear(in_features=768, out_features=768, bias=True)\n",
      "            (out_lin): Linear(in_features=768, out_features=768, bias=True)\n",
      "          )\n",
      "          (sa_layer_norm): LayerNorm((768,), eps=1e-12, elementwise_affine=True)\n",
      "          (ffn): FFN(\n",
      "            (dropout): Dropout(p=0.1, inplace=False)\n",
      "            (lin1): Linear(in_features=768, out_features=3072, bias=True)\n",
      "            (lin2): Linear(in_features=3072, out_features=768, bias=True)\n",
      "            (activation): GELUActivation()\n",
      "          )\n",
      "          (output_layer_norm): LayerNorm((768,), eps=1e-12, elementwise_affine=True)\n",
      "        )\n",
      "        (2): TransformerBlock(\n",
      "          (attention): MultiHeadSelfAttention(\n",
      "            (dropout): Dropout(p=0.1, inplace=False)\n",
      "            (q_lin): Linear(in_features=768, out_features=768, bias=True)\n",
      "            (k_lin): Linear(in_features=768, out_features=768, bias=True)\n",
      "            (v_lin): Linear(in_features=768, out_features=768, bias=True)\n",
      "            (out_lin): Linear(in_features=768, out_features=768, bias=True)\n",
      "          )\n",
      "          (sa_layer_norm): LayerNorm((768,), eps=1e-12, elementwise_affine=True)\n",
      "          (ffn): FFN(\n",
      "            (dropout): Dropout(p=0.1, inplace=False)\n",
      "            (lin1): Linear(in_features=768, out_features=3072, bias=True)\n",
      "            (lin2): Linear(in_features=3072, out_features=768, bias=True)\n",
      "            (activation): GELUActivation()\n",
      "          )\n",
      "          (output_layer_norm): LayerNorm((768,), eps=1e-12, elementwise_affine=True)\n",
      "        )\n",
      "        (3): TransformerBlock(\n",
      "          (attention): MultiHeadSelfAttention(\n",
      "            (dropout): Dropout(p=0.1, inplace=False)\n",
      "            (q_lin): Linear(in_features=768, out_features=768, bias=True)\n",
      "            (k_lin): Linear(in_features=768, out_features=768, bias=True)\n",
      "            (v_lin): Linear(in_features=768, out_features=768, bias=True)\n",
      "            (out_lin): Linear(in_features=768, out_features=768, bias=True)\n",
      "          )\n",
      "          (sa_layer_norm): LayerNorm((768,), eps=1e-12, elementwise_affine=True)\n",
      "          (ffn): FFN(\n",
      "            (dropout): Dropout(p=0.1, inplace=False)\n",
      "            (lin1): Linear(in_features=768, out_features=3072, bias=True)\n",
      "            (lin2): Linear(in_features=3072, out_features=768, bias=True)\n",
      "            (activation): GELUActivation()\n",
      "          )\n",
      "          (output_layer_norm): LayerNorm((768,), eps=1e-12, elementwise_affine=True)\n",
      "        )\n",
      "        (4): TransformerBlock(\n",
      "          (attention): MultiHeadSelfAttention(\n",
      "            (dropout): Dropout(p=0.1, inplace=False)\n",
      "            (q_lin): Linear(in_features=768, out_features=768, bias=True)\n",
      "            (k_lin): Linear(in_features=768, out_features=768, bias=True)\n",
      "            (v_lin): Linear(in_features=768, out_features=768, bias=True)\n",
      "            (out_lin): Linear(in_features=768, out_features=768, bias=True)\n",
      "          )\n",
      "          (sa_layer_norm): LayerNorm((768,), eps=1e-12, elementwise_affine=True)\n",
      "          (ffn): FFN(\n",
      "            (dropout): Dropout(p=0.1, inplace=False)\n",
      "            (lin1): Linear(in_features=768, out_features=3072, bias=True)\n",
      "            (lin2): Linear(in_features=3072, out_features=768, bias=True)\n",
      "            (activation): GELUActivation()\n",
      "          )\n",
      "          (output_layer_norm): LayerNorm((768,), eps=1e-12, elementwise_affine=True)\n",
      "        )\n",
      "        (5): TransformerBlock(\n",
      "          (attention): MultiHeadSelfAttention(\n",
      "            (dropout): Dropout(p=0.1, inplace=False)\n",
      "            (q_lin): Linear(in_features=768, out_features=768, bias=True)\n",
      "            (k_lin): Linear(in_features=768, out_features=768, bias=True)\n",
      "            (v_lin): Linear(in_features=768, out_features=768, bias=True)\n",
      "            (out_lin): Linear(in_features=768, out_features=768, bias=True)\n",
      "          )\n",
      "          (sa_layer_norm): LayerNorm((768,), eps=1e-12, elementwise_affine=True)\n",
      "          (ffn): FFN(\n",
      "            (dropout): Dropout(p=0.1, inplace=False)\n",
      "            (lin1): Linear(in_features=768, out_features=3072, bias=True)\n",
      "            (lin2): Linear(in_features=3072, out_features=768, bias=True)\n",
      "            (activation): GELUActivation()\n",
      "          )\n",
      "          (output_layer_norm): LayerNorm((768,), eps=1e-12, elementwise_affine=True)\n",
      "        )\n",
      "      )\n",
      "    )\n",
      "  )\n",
      "  (fc): Linear(in_features=768, out_features=3, bias=True)\n",
      "  (dropout): Dropout(p=0.3, inplace=False)\n",
      ")\n"
     ]
    }
   ],
   "source": [
    "criterion = torch.nn.CrossEntropyLoss()\n",
    "device = torch.device(\"cuda\" if torch.cuda.is_available() else \"cpu\")\n",
    "\n",
    "model = model.to(device)\n",
    "criterion = criterion.to(device)\n",
    "\n",
    "print(model)"
   ]
  },
  {
   "cell_type": "markdown",
   "metadata": {},
   "source": [
    "## Training and evaluation"
   ]
  },
  {
   "cell_type": "code",
   "execution_count": 13,
   "metadata": {
    "ExecuteTime": {
     "end_time": "2024-10-10T11:00:12.945813Z",
     "start_time": "2024-10-10T11:00:12.935392Z"
    }
   },
   "outputs": [],
   "source": [
    "def get_accuracy(prediction, label):\n",
    "    predicted_classes = prediction.argmax(dim=-1).cpu().numpy()\n",
    "    actual_labels = label.cpu().numpy()\n",
    "    \n",
    "    return accuracy_score(actual_labels, predicted_classes)\n",
    "\n",
    "def get_precision(prediction, label):\n",
    "    predicted_classes = prediction.argmax(dim=-1).cpu().numpy()\n",
    "    actual_labels = label.cpu().numpy()\n",
    "    \n",
    "    return precision_score(actual_labels, predicted_classes, average=\"macro\", zero_division=0)\n",
    "\n",
    "def train(net: Transformer, data_loader: DataLoader, optimizer: torch.optim.Optimizer) -> tuple[np.float64, np.float64, np.float64]:\n",
    "    net.train()\n",
    "    \n",
    "    batch_losses = []\n",
    "    batch_accuracies = []\n",
    "    batch_precisions = []\n",
    "    \n",
    "    for batch in tqdm.tqdm(data_loader, desc=\"Training...\"):\n",
    "        ids = batch[\"ids\"].to(device)\n",
    "        label = batch[\"label\"].to(device)\n",
    "        attention_mask = batch[\"attention_mask\"].to(device)\n",
    "        \n",
    "        prediction, _ = net(ids, attention_mask)\n",
    "        \n",
    "        loss = criterion(prediction, label)\n",
    "        accuracy = get_accuracy(prediction, label)\n",
    "        precision = get_precision(prediction, label)\n",
    "        \n",
    "        optimizer.zero_grad()\n",
    "        loss.backward()\n",
    "        optimizer.step()\n",
    "        \n",
    "        batch_losses.append(loss.item())\n",
    "        batch_accuracies.append(accuracy)\n",
    "        batch_precisions.append(precision.item())\n",
    "        \n",
    "    return np.mean(batch_losses), np.mean(batch_accuracies), np.mean(batch_precisions)\n",
    "\n",
    "def test(net: Transformer, data_loader: DataLoader) -> tuple[np.float64, np.float64, np.float64]:\n",
    "    net.eval()\n",
    "    \n",
    "    batch_losses = []\n",
    "    batch_accuracies = []\n",
    "    batch_precisions = []\n",
    "    \n",
    "    with torch.no_grad():\n",
    "        for batch in tqdm.tqdm(data_loader, desc=\"Evaluating...\"):\n",
    "            ids = batch[\"ids\"].to(device)\n",
    "            label = batch[\"label\"].to(device)\n",
    "            attention_mask = batch[\"attention_mask\"].to(device)\n",
    "            \n",
    "            prediction, _ = net(ids, attention_mask)\n",
    "            \n",
    "            loss = criterion(prediction, label)\n",
    "            accuracy = get_accuracy(prediction, label)\n",
    "            precision = get_precision(prediction, label)\n",
    "            \n",
    "            batch_losses.append(loss.item())\n",
    "            batch_accuracies.append(accuracy)\n",
    "            batch_precisions.append(precision.item())\n",
    "            \n",
    "    return np.mean(batch_losses), np.mean(batch_accuracies), np.mean(batch_precisions)\n",
    "\n",
    "def run_centralized(\n",
    "        training_loader: DataLoader,\n",
    "        validation_loader: DataLoader,\n",
    "        epochs: int,\n",
    "        learning_rate: float,\n",
    "        save_checkpoints: bool,\n",
    "        first_epoch: int = 0,\n",
    "        optimizer_state_dict = None,\n",
    ") -> dict[str, dict[str, list[np.float64]]]:\n",
    "    train_losses = []\n",
    "    train_accuracies = []\n",
    "    train_precisions = []\n",
    "\n",
    "    test_losses = []\n",
    "    test_accuracies = []\n",
    "    test_precisions = []\n",
    "    \n",
    "    optimizer = torch.optim.AdamW(model.parameters(), lr=learning_rate)\n",
    "\n",
    "    if optimizer_state_dict:\n",
    "        optimizer.load_state_dict(optimizer_state_dict)\n",
    "\n",
    "    for epoch in range(first_epoch, epochs):\n",
    "        print(f\"Training epoch #{epoch + 1}:\")\n",
    "        \n",
    "        train_loss, train_accuracy, train_precision = train(model, training_loader, optimizer)\n",
    "\n",
    "        train_losses.append(train_loss)\n",
    "        train_accuracies.append(train_accuracy)\n",
    "        train_precisions.append(train_precision)\n",
    "\n",
    "        print(f\"{train_loss = }\")\n",
    "        print(f\"{train_accuracy = }\")\n",
    "        print(f\"{train_precision = }\")\n",
    "\n",
    "        test_loss, test_accuracy, test_precision = test(model, validation_loader)\n",
    "        \n",
    "        test_losses.append(test_loss)\n",
    "        test_accuracies.append(test_accuracy)\n",
    "        test_precisions.append(test_precision)\n",
    "\n",
    "        print(f\"{test_loss = }\")\n",
    "        print(f\"{test_accuracy = }\")\n",
    "        print(f\"{test_precision = }\")\n",
    "        \n",
    "        if save_checkpoints:\n",
    "            torch.save({\n",
    "                \"epoch\": epoch,\n",
    "                \"model_state_dict\": model.state_dict(),\n",
    "                \"optimizer_state_dict\": optimizer.state_dict(),\n",
    "                \"train\": {\"loss\": train_losses, \"accuracy\": train_accuracies, \"precision\": train_precisions},\n",
    "                \"test\": {\"loss\": test_losses, \"accuracy\": test_accuracies, \"precision\": test_precisions},\n",
    "            }, \"model/checkpoint.pth\")\n",
    "            \n",
    "    return {\n",
    "        \"train\": {\"loss\": train_losses, \"accuracy\": train_accuracies, \"precision\": train_precisions},\n",
    "        \"test\": {\"loss\": test_losses, \"accuracy\": test_accuracies, \"precision\": test_precisions},\n",
    "    }"
   ]
  },
  {
   "cell_type": "code",
   "execution_count": 14,
   "metadata": {
    "ExecuteTime": {
     "end_time": "2024-10-10T11:05:21.280347Z",
     "start_time": "2024-10-10T11:00:21.410957Z"
    },
    "colab": {
     "base_uri": "https://localhost:8080/"
    },
    "outputId": "e8d9b429-178d-4924-e82f-4d4e52863788"
   },
   "outputs": [],
   "source": [
    "n = 5\n",
    "lr = 1e-6"
   ]
  },
  {
   "cell_type": "code",
   "execution_count": 15,
   "metadata": {
    "ExecuteTime": {
     "end_time": "2024-10-10T11:05:21.280347Z",
     "start_time": "2024-10-10T11:00:21.410957Z"
    },
    "colab": {
     "base_uri": "https://localhost:8080/"
    },
    "outputId": "e8d9b429-178d-4924-e82f-4d4e52863788"
   },
   "outputs": [
    {
     "name": "stdout",
     "output_type": "stream",
     "text": [
      "Training epoch #1:\n"
     ]
    },
    {
     "name": "stderr",
     "output_type": "stream",
     "text": [
      "Training...: 100%|██████████████████████████████████████████████████████████████████████████████████████████████████████████████| 1489/1489 [1:04:04<00:00,  2.58s/it]\n"
     ]
    },
    {
     "name": "stdout",
     "output_type": "stream",
     "text": [
      "train_loss = 0.8947761978296084\n",
      "train_accuracy = 0.5881841840161182\n",
      "train_precision = 0.5868349267850386\n"
     ]
    },
    {
     "name": "stderr",
     "output_type": "stream",
     "text": [
      "Evaluating...: 100%|████████████████████████████████████████████████████████████████████████████████████████████████████████████████| 372/372 [04:56<00:00,  1.25it/s]\n"
     ]
    },
    {
     "name": "stdout",
     "output_type": "stream",
     "text": [
      "test_loss = 0.7714189097125043\n",
      "test_accuracy = 0.6657786098310292\n",
      "test_precision = 0.6601196160254801\n",
      "Training epoch #2:\n"
     ]
    },
    {
     "name": "stderr",
     "output_type": "stream",
     "text": [
      "Training...: 100%|██████████████████████████████████████████████████████████████████████████████████████████████████████████████| 1489/1489 [1:04:54<00:00,  2.62s/it]\n"
     ]
    },
    {
     "name": "stdout",
     "output_type": "stream",
     "text": [
      "train_loss = 0.7383081041741804\n",
      "train_accuracy = 0.6850570852921424\n",
      "train_precision = 0.6828319472010981\n"
     ]
    },
    {
     "name": "stderr",
     "output_type": "stream",
     "text": [
      "Evaluating...: 100%|████████████████████████████████████████████████████████████████████████████████████████████████████████████████| 372/372 [04:57<00:00,  1.25it/s]\n"
     ]
    },
    {
     "name": "stdout",
     "output_type": "stream",
     "text": [
      "test_loss = 0.7168043009055558\n",
      "test_accuracy = 0.7003888248847927\n",
      "test_precision = 0.6971784300343632\n",
      "Training epoch #3:\n"
     ]
    },
    {
     "name": "stderr",
     "output_type": "stream",
     "text": [
      "Training...: 100%|██████████████████████████████████████████████████████████████████████████████████████████████████████████████| 1489/1489 [1:04:54<00:00,  2.62s/it]\n"
     ]
    },
    {
     "name": "stdout",
     "output_type": "stream",
     "text": [
      "train_loss = 0.6875752029081093\n",
      "train_accuracy = 0.7121893888515782\n",
      "train_precision = 0.7104893312840083\n"
     ]
    },
    {
     "name": "stderr",
     "output_type": "stream",
     "text": [
      "Evaluating...: 100%|████████████████████████████████████████████████████████████████████████████████████████████████████████████████| 372/372 [04:57<00:00,  1.25it/s]\n"
     ]
    },
    {
     "name": "stdout",
     "output_type": "stream",
     "text": [
      "test_loss = 0.6811723019326886\n",
      "test_accuracy = 0.7170218894009217\n",
      "test_precision = 0.7136086807419283\n",
      "Training epoch #4:\n"
     ]
    },
    {
     "name": "stderr",
     "output_type": "stream",
     "text": [
      "Training...: 100%|██████████████████████████████████████████████████████████████████████████████████████████████████████████████| 1489/1489 [1:04:55<00:00,  2.62s/it]\n"
     ]
    },
    {
     "name": "stdout",
     "output_type": "stream",
     "text": [
      "train_loss = 0.6485251619000816\n",
      "train_accuracy = 0.7291134989926126\n",
      "train_precision = 0.7267560422851103\n"
     ]
    },
    {
     "name": "stderr",
     "output_type": "stream",
     "text": [
      "Evaluating...: 100%|████████████████████████████████████████████████████████████████████████████████████████████████████████████████| 372/372 [04:57<00:00,  1.25it/s]\n"
     ]
    },
    {
     "name": "stdout",
     "output_type": "stream",
     "text": [
      "test_loss = 0.653518093850023\n",
      "test_accuracy = 0.7291186635944701\n",
      "test_precision = 0.7251814378159503\n",
      "Training epoch #5:\n"
     ]
    },
    {
     "name": "stderr",
     "output_type": "stream",
     "text": [
      "Training...: 100%|██████████████████████████████████████████████████████████████████████████████████████████████████████████████| 1489/1489 [1:05:15<00:00,  2.63s/it]\n"
     ]
    },
    {
     "name": "stdout",
     "output_type": "stream",
     "text": [
      "train_loss = 0.6132569726158742\n",
      "train_accuracy = 0.7455758898589657\n",
      "train_precision = 0.7429182696940372\n"
     ]
    },
    {
     "name": "stderr",
     "output_type": "stream",
     "text": [
      "Evaluating...: 100%|████████████████████████████████████████████████████████████████████████████████████████████████████████████████| 372/372 [04:57<00:00,  1.25it/s]\n"
     ]
    },
    {
     "name": "stdout",
     "output_type": "stream",
     "text": [
      "test_loss = 0.6283778905548075\n",
      "test_accuracy = 0.741635464669739\n",
      "test_precision = 0.7356090481097763\n"
     ]
    }
   ],
   "source": [
    "metrics = run_centralized(\n",
    "    training_dl,\n",
    "    validation_dl,\n",
    "    epochs=n,\n",
    "    learning_rate=lr,\n",
    "    save_checkpoints=True,\n",
    "    #first_epoch=checkpoint[\"epoch\"],\n",
    "    #optimizer_state_dict=checkpoint[\"optimizer_state_dict\"],\n",
    ")"
   ]
  },
  {
   "cell_type": "code",
   "execution_count": 16,
   "metadata": {},
   "outputs": [],
   "source": [
    "torch.cuda.empty_cache()"
   ]
  },
  {
   "cell_type": "markdown",
   "metadata": {},
   "source": [
    "### Predictions on 10 random samples"
   ]
  },
  {
   "cell_type": "code",
   "execution_count": 24,
   "metadata": {},
   "outputs": [],
   "source": [
    "reverse_mapping = {v: k for k, v in label_mapping.items()}\n",
    "\n",
    "random_indices = random.sample(range(0, len(validation_ds)), 10)\n",
    "\n",
    "texts = [validation_ds['text'][i] for i in random_indices]\n",
    "labels = [validation_ds['label'][i].item() for i in random_indices]\n",
    "predictions = []\n",
    "\n",
    "prediction_sample = get_data_loader(Subset(validation_ds, random_indices), 1, tokenizer.pad_token_id)"
   ]
  },
  {
   "cell_type": "code",
   "execution_count": 26,
   "metadata": {},
   "outputs": [],
   "source": [
    "model.eval()\n",
    "\n",
    "with torch.no_grad():\n",
    "    i = 0\n",
    "    \n",
    "    for batch in prediction_sample:\n",
    "        ids = batch[\"ids\"].to(device)\n",
    "        attention_mask = batch[\"attention_mask\"].to(device)\n",
    "\n",
    "        prediction, _ = model(ids, attention_mask)\n",
    "        predicted_class = prediction.argmax(dim=-1)\n",
    "\n",
    "        predictions.append(predicted_class.item())"
   ]
  },
  {
   "cell_type": "code",
   "execution_count": 27,
   "metadata": {},
   "outputs": [
    {
     "name": "stdout",
     "output_type": "stream",
     "text": [
      "(\"I tried to quit fortnite so there is no other game I could play, tried playing overwatch or titanfall but it's rubber banding so so badly, I cant get every other game since it takes at least 1 month for something to play, and I already played most of my campaign games\", 'Negative', 'Negative')\n",
      "('the stark fact that nothing new is worth opening back up again in the gta is a SCAM. im so mad', 'Negative', 'Negative')\n",
      "('I feel so bad XBOX OF MEN or whatever its name now.', 'Negative', 'Negative')\n",
      "('As a Battlefield 4 fan.. I became happy', 'Positive', 'Positive')\n",
      "('@ VerizonSupport @ Verizon technique damaged the outside of the ventilation pipe today doing renovation.need, which is fixed and paid for by Verizon ASAP, as animals can enter my house through a ventilation tube.', 'Negative', 'Negative')\n",
      "('Went to HOME DEPOT, long lines of silent fear vapor frozen people waiting to get hidden in!!! Went to LOWES, long line of fear frozen people anxiously waiting to get lost in. This is... not the only American Great Spirit that has built this great country. This one is brainwashing 101!', 'Negative', 'Neutral')\n",
      "(\"L Here are some fun 3d versions of RhandlerR art that came out of an experiment I'm doing. pic.twitter.com/D6GA9JAMW2\", 'Positive', 'Positive')\n",
      "('\"Great experience from the beginning,\" Allison says on Google, via @ Birdeye _ birdeye.com / the-seal-law...', 'Neutral', 'Neutral')\n",
      "('How to not be jaded about every single fucking thing in life. . wait this isn’t google', 'Neutral', 'Negative')\n",
      "('Johnson & Johnson halts sales of talc-based baby powder in U.S. and Canada reut.rs / 2LJZiW0', 'Neutral', 'Neutral')\n"
     ]
    }
   ],
   "source": [
    "for item in list(zip(texts, [reverse_mapping[l] for l in labels], [reverse_mapping[p] for p in predictions])):\n",
    "    print(item)"
   ]
  },
  {
   "cell_type": "markdown",
   "metadata": {},
   "source": [
    "### Model saving"
   ]
  },
  {
   "cell_type": "code",
   "execution_count": 17,
   "metadata": {},
   "outputs": [],
   "source": [
    "torch.save(model.state_dict(), \"model/trained_model.pth\")"
   ]
  },
  {
   "cell_type": "markdown",
   "metadata": {},
   "source": [
    "### Evaluation graph"
   ]
  },
  {
   "cell_type": "code",
   "execution_count": 18,
   "metadata": {},
   "outputs": [],
   "source": [
    "epoch_rng = range(1, n + 1)"
   ]
  },
  {
   "cell_type": "code",
   "execution_count": 28,
   "metadata": {},
   "outputs": [
    {
     "data": {
      "image/png": "[encoded data removed]",
      "text/plain": [
       "<Figure size 640x480 with 1 Axes>"
      ]
     },
     "metadata": {},
     "output_type": "display_data"
    }
   ],
   "source": [
    "plt.plot(epoch_rng, metrics[\"train\"][\"loss\"], label=\"Training\", color=\"yellow\")\n",
    "plt.plot(epoch_rng, metrics[\"test\"][\"loss\"], label=\"Validation\", color=\"red\")\n",
    "\n",
    "plt.xlabel(\"Epoch\")\n",
    "plt.ylabel(\"Value\")\n",
    "\n",
    "plt.title(\"Model Loss Evaluation\")\n",
    "plt.legend()\n",
    "plt.show()"
   ]
  },
  {
   "cell_type": "code",
   "execution_count": 29,
   "metadata": {},
   "outputs": [
    {
     "data": {
      "image/png": "[encoded data removed]",
      "text/plain": [
       "<Figure size 640x480 with 1 Axes>"
      ]
     },
     "metadata": {},
     "output_type": "display_data"
    }
   ],
   "source": [
    "plt.plot(epoch_rng, metrics[\"train\"][\"accuracy\"], label=\"Training\", color=\"yellow\")\n",
    "plt.plot(epoch_rng, metrics[\"test\"][\"accuracy\"], label=\"Validation\", color=\"blue\")\n",
    "\n",
    "plt.xlabel(\"Epoch\")\n",
    "plt.ylabel(\"Value\")\n",
    "\n",
    "plt.title(\"Model Accuracy Evaluation\")\n",
    "plt.legend()\n",
    "plt.show()"
   ]
  },
  {
   "cell_type": "code",
   "execution_count": 30,
   "metadata": {},
   "outputs": [
    {
     "data": {
      "image/png": "[encoded data removed]",
      "text/plain": [
       "<Figure size 640x480 with 1 Axes>"
      ]
     },
     "metadata": {},
     "output_type": "display_data"
    }
   ],
   "source": [
    "plt.plot(epoch_rng, metrics[\"train\"][\"precision\"], label=\"Training\", color=\"yellow\")\n",
    "plt.plot(epoch_rng, metrics[\"test\"][\"precision\"], label=\"Validation\", color=\"green\")\n",
    "\n",
    "plt.xlabel(\"Epoch\")\n",
    "plt.ylabel(\"Value\")\n",
    "\n",
    "plt.title(\"Model Precision Evaluation\")\n",
    "plt.legend()\n",
    "plt.show()"
   ]
  }
 ],
 "metadata": {
  "colab": {
   "provenance": [],
   "toc_visible": true
  },
  "kernelspec": {
   "display_name": "Python 3 (ipykernel)",
   "language": "python",
   "name": "python3"
  },
  "language_info": {
   "codemirror_mode": {
    "name": "ipython",
    "version": 3
   },
   "file_extension": ".py",
   "mimetype": "text/x-python",
   "name": "python",
   "nbconvert_exporter": "python",
   "pygments_lexer": "ipython3",
   "version": "3.10.12"
  }
 },
 "nbformat": 4,
 "nbformat_minor": 4
}
